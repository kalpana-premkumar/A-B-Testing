{
  "nbformat": 4,
  "nbformat_minor": 0,
  "metadata": {
    "colab": {
      "provenance": [],
      "authorship_tag": "ABX9TyPaTClkG/pTEAlxFfWYFil+",
      "include_colab_link": true
    },
    "kernelspec": {
      "name": "python3",
      "display_name": "Python 3"
    },
    "language_info": {
      "name": "python"
    }
  },
  "cells": [
    {
      "cell_type": "markdown",
      "metadata": {
        "id": "view-in-github",
        "colab_type": "text"
      },
      "source": [
        "<a href=\"https://colab.research.google.com/github/kalpana-premkumar/A-B-Testing/blob/main/hangman.ipynb\" target=\"_parent\"><img src=\"https://colab.research.google.com/assets/colab-badge.svg\" alt=\"Open In Colab\"/></a>"
      ]
    },
    {
      "cell_type": "code",
      "execution_count": null,
      "metadata": {
        "id": "_LZiLIIJbXrB",
        "colab": {
          "base_uri": "https://localhost:8080/"
        },
        "outputId": "30ca660d-e12f-49c0-c273-1d6e0e3f68fa"
      },
      "outputs": [
        {
          "output_type": "stream",
          "name": "stdout",
          "text": [
            "The hidden word is \t ----\n",
            "Pick a Letter: \n",
            "uä\n",
            "WRONG! Number of mistakes left: 2\n",
            "==============================================\n",
            "\n",
            "        ____________\n",
            "         |\n",
            "         O\n",
            "Pick a Letter: \n",
            "i\n",
            "CORRECT! There is I in the word\n",
            "==============================================\n",
            "--I-\n",
            "Pick a Letter: \n",
            "t\n",
            "CORRECT! There is T in the word\n",
            "==============================================\n",
            "--IT\n",
            "Pick a Letter: \n",
            "z\n",
            "WRONG! Number of mistakes left: 1\n",
            "==============================================\n",
            "\n",
            "        ____________\n",
            "         |\n",
            "         O\n",
            "        /\n",
            "Pick a Letter: \n",
            "q\n",
            "CORRECT! There is Q in the word\n",
            "==============================================\n",
            "Q-IT\n",
            "Pick a Letter: \n",
            "u\n",
            "CORRECT! There is U in the word\n",
            "==============================================\n",
            "QUIT\n",
            "CONGRATULATIONS!!!\n"
          ]
        }
      ],
      "source": [
        "import random\n",
        "hangman={0:'''\n",
        "        ____________\n",
        "         |''',\n",
        "        1:'''\n",
        "        ____________\n",
        "         |\n",
        "         O''',\n",
        "        2:'''\n",
        "        ____________\n",
        "         |\n",
        "         O\n",
        "        /''',\n",
        "        3:'''\n",
        "        ____________\n",
        "         |\n",
        "         O\n",
        "        / \\\\''',\n",
        "        4:'''\n",
        "        ____________\n",
        "         |\n",
        "         O\n",
        "        / \\\\\n",
        "         |''',\n",
        "        5:'''\n",
        "        ____________\n",
        "         |\n",
        "         O\n",
        "        / \\\\\n",
        "         |\n",
        "        /''',\n",
        "        6:'''\n",
        "        ____________\n",
        "         |\n",
        "         O\n",
        "        / \\\\\n",
        "         |\n",
        "        / \\\\ ''',\n",
        "         7:'''\n",
        "        ___________\n",
        "          |\n",
        "          O\n",
        "         / \\\\\n",
        "          |\n",
        "         / \\\\ \n",
        "        /     ''',\n",
        "         8:'''\n",
        "       ____________\n",
        "          |\n",
        "          O\n",
        "         / \\\\\n",
        "          |\n",
        "         / \\\\ \n",
        "        /   \\\\  ''',\n",
        "         9:\n",
        "                '''\n",
        "       ____________\n",
        "          |\n",
        "          O\n",
        "         / \\\\\n",
        "          |\n",
        "         / \\\\ \n",
        "        /   \\\\ \n",
        "       /        ''',\n",
        "       10:  '''\n",
        "       ____________\n",
        "          |\n",
        "          O\n",
        "         / \\\\\n",
        "          |\n",
        "         / \\\\ \n",
        "        /   \\\\ \n",
        "       /     \\\\ '''\n",
        "  }\n",
        "def switch(length):\n",
        "    if length == 3 or length == 4:\n",
        "        return 3\n",
        "    elif length == 5 or length == 6:\n",
        "        return 4\n",
        "    elif length == 7 or length == 8:\n",
        "        return 5\n",
        "    else:\n",
        "        return 6\n",
        "\n",
        "WORDS = [\"PYTHON\", \"JUMBLE\", \"EASY\", \"DIFFICULT\", \"ANSWER\",  \"QUIT\"]\n",
        "word = random.choice(WORDS)\n",
        "hidden_word = \"\"\n",
        "choice = \"\"\n",
        "length=len(word)\n",
        "hidden_word=hidden_word.ljust(length,\"-\")\n",
        "print(\"The hidden word is \\t\",hidden_word)\n",
        "mistake_count=switch(length)\n",
        "mistake_made=0\n",
        "  \n",
        "while (mistake_count > 0 and hidden_word.count(\"-\")!=0):\n",
        "    letter_count=0\n",
        "    index_count=0\n",
        "    picked_letter = input(\"Pick a Letter: \\n\").upper()\n",
        "    if picked_letter.isalpha()!= True:\n",
        "        print(\"You have entered special characters or digits .... \")\n",
        "        choice=input(\"Do you want to continue guessing... (Y/N)\")\n",
        "        if choice.upper()== \"Y\":\n",
        "            continue\n",
        "        else:\n",
        "            break\n",
        "    for letter in word:\n",
        "        if letter==picked_letter:\n",
        "            print (f\"CORRECT! There is {letter} in the word\")\n",
        "            print('==============================================') \n",
        "            hidden_word=hidden_word[:index_count] + picked_letter + hidden_word[index_count+1:]\n",
        "            letter_count+=1\n",
        "        index_count+=1  \n",
        "    if word.count(picked_letter) > 0:  \n",
        "        print(hidden_word)\n",
        "    else:\n",
        "        mistake_count-=1\n",
        "        mistake_made +=1\n",
        "        print (f\"WRONG! Number of mistakes left: {mistake_count}\")\n",
        "        print('==============================================') \n",
        "        print (hangman[mistake_made])\n",
        "        \n",
        "if(choice.upper()==\"N\"):\n",
        "    print (\"Thanks playing!\")  \n",
        "else:   \n",
        "    if mistake_count==0:\n",
        "        print (\"HANGED!!\")\n",
        "        print(\"The word is \"+word)\n",
        "    else:\n",
        "        print (\"CONGRATULATIONS!!!\")"
      ]
    },
    {
      "cell_type": "code",
      "source": [],
      "metadata": {
        "id": "_IS2ZjeC0flP"
      },
      "execution_count": null,
      "outputs": []
    },
    {
      "cell_type": "code",
      "source": [
        "!pip install english-words\n",
        "from english_words import english_words_alpha_set\n",
        "list_of_words = list(english_words_alpha_set) \n",
        "class Words:\n",
        "  def __init__(self,word,length):\n",
        "      self.word=word\n",
        "      self.length=length\n",
        "def get_word():\n",
        "  w = random.choice(list_of_words)\n",
        "  length=len(w)\n",
        "  word=Words(w,length)\n",
        "  return word\n",
        "class Hidden_word:\n",
        "  def __init__(self,hidden_word,mistake_count,mistake_made):\n",
        "    self.hiddenword=hidden_word\n",
        "    self.mistake_count=mistake_count\n",
        "    self.mistake_made=mistake_made\n",
        "\n",
        "def get_hiddenword():\n",
        "  hidden_word = \"\"\n",
        "  new_word=get_word()\n",
        "  hidden_word=hidden_word.ljust(new_word.length,\"-\")\n",
        "  print(\"The hidden word is \\t\",hidden_word)\n",
        "  mistake_count=switch(new_word.length)\n",
        "  mistake_made=0\n",
        "  h_word= Hidden_word(hidden_word,mistake_count,mistake_made)\n",
        "  print(new_word.word,new_word.length)\n",
        "  return(h_word)\n",
        "H_word=get_hiddenword()\n"
      ],
      "metadata": {
        "colab": {
          "base_uri": "https://localhost:8080/"
        },
        "id": "1zgq4DYy0L5e",
        "outputId": "d591de6d-8569-4361-866c-2741224722a6"
      },
      "execution_count": null,
      "outputs": [
        {
          "output_type": "stream",
          "name": "stdout",
          "text": [
            "Looking in indexes: https://pypi.org/simple, https://us-python.pkg.dev/colab-wheels/public/simple/\n",
            "Requirement already satisfied: english-words in /usr/local/lib/python3.8/dist-packages (1.1.0)\n",
            "The hidden word is \t -------\n",
            "emirate 7\n"
          ]
        }
      ]
    },
    {
      "cell_type": "code",
      "source": [
        "import random        # Generate random words\n",
        "!pip install english-words\n",
        "from english_words import english_words_alpha_set\n",
        "list_of_words = list(english_words_alpha_set) \n",
        "hangman={0:'''\n",
        "        ____________\n",
        "         |''',\n",
        "        1:'''\n",
        "        ____________\n",
        "         |\n",
        "         O''',\n",
        "        2:'''\n",
        "        ____________\n",
        "         |\n",
        "         O\n",
        "        /''',\n",
        "        3:'''\n",
        "        ____________\n",
        "         |\n",
        "         O\n",
        "        / \\\\''',\n",
        "        4:'''\n",
        "        ____________\n",
        "         |\n",
        "         O\n",
        "        / \\\\\n",
        "         |''',\n",
        "        5:'''\n",
        "        ____________\n",
        "         |\n",
        "         O\n",
        "        / \\\\\n",
        "         |\n",
        "        /''',\n",
        "        6:'''\n",
        "        ____________\n",
        "         |\n",
        "         O\n",
        "        / \\\\\n",
        "         |\n",
        "        / \\\\ '''\n",
        "        }\n",
        "# Word class with word and length\n",
        "\n",
        "class Words:\n",
        "  def __init__(self,word,length):   # Constructor to initialize  word object\n",
        "      self.word=word\n",
        "      self.length=length\n",
        "\n",
        "# Hidden_word class with hidden_word, mistake_count, mistake_made\n",
        "\n",
        "class Hidden_word:\n",
        "  def __init__(self,hidden_word,mistake_count,mistake_made):  # Constructor to initialize  Hidden_word object\n",
        "    self.hidden_word=hidden_word\n",
        "    self.mistake_count=mistake_count\n",
        "    self.mistake_made=mistake_made\n",
        "\n",
        "# Function to return the mistake_count    \n",
        "def switch(length):\n",
        "    if length == 3 or length == 4:\n",
        "        return 3\n",
        "    elif length == 5 or length == 6:\n",
        "        return 4\n",
        "    elif length == 7 or length == 8:\n",
        "        return 5\n",
        "    else:\n",
        "        return 6\n",
        "\n",
        "# Function to generate a word    \n",
        "\n",
        "def get_word():\n",
        "  w = random.choice(list_of_words)\n",
        "  length=len(w)\n",
        "  word=Words(w,length)\n",
        "  return word\n",
        "\n",
        "# Function to generate  the hidden_word   \n",
        "\n",
        "def get_hiddenword(w):\n",
        "  hidden_word = \"\"\n",
        "  hidden_word=hidden_word.ljust(w.length,\"-\")\n",
        "  print(\"The hidden word is \\t\",hidden_word)\n",
        "  mistake_count=switch(w.length)\n",
        "  mistake_made=0\n",
        "  h_word= Hidden_word(hidden_word,mistake_count,mistake_made)\n",
        "  #print(w.word,w.length)\n",
        "  return(h_word)\n",
        "\n",
        "w=get_word()\n",
        "H=get_hiddenword(w)\n",
        "choice=\"\"\n",
        "while (H.mistake_count > 0 and H.hidden_word.count(\"-\")!=0):\n",
        "    letter_count=0\n",
        "    index_count=0\n",
        "    picked_letter = input(\"Pick a Letter: \\n\")\n",
        "    if picked_letter.isalpha()!= True:\n",
        "        print(\"You have entered special characters or digits .... \") # If player enters special characters or numbers get a choice from player\n",
        "        choice=input(\"Do you want to continue guessing a new word... (Y/N)\")\n",
        "        if choice.upper()== \"Y\":\n",
        "            choice=\"\"\n",
        "            w=get_word()\n",
        "            H=get_hiddenword(w)\n",
        "            continue\n",
        "        else:\n",
        "            break\n",
        "    for letter in w.word:\n",
        "        if letter==picked_letter:\n",
        "            print (f\"CORRECT! There is {letter} in the word\")\n",
        "            print('==============================================') \n",
        "            H.hidden_word=H.hidden_word[:index_count] + picked_letter + H.hidden_word[index_count+1:]\n",
        "            letter_count+=1\n",
        "        index_count+=1  \n",
        "    if w.word.count(picked_letter) > 0:  \n",
        "        print(H.hidden_word)\n",
        "    else:\n",
        "        H.mistake_count-=1\n",
        "        H.mistake_made +=1\n",
        "        print (f\"WRONG! Number of mistakes left: {H.mistake_count}\")\n",
        "        print('==============================================') \n",
        "        print (hangman[H.mistake_made])\n",
        "if(choice.upper()==\"N\"):\n",
        "  print (\"Thanks playing!\")  \n",
        "else:   \n",
        "    if H.mistake_count==0:\n",
        "        print (\"HANGED!!\")\n",
        "        print('==============================================') \n",
        "        print(\"The word is \"+w.word)\n",
        "    else:\n",
        "        print (\"CONGRATULATIONS!!!\")\n"
      ],
      "metadata": {
        "colab": {
          "base_uri": "https://localhost:8080/"
        },
        "id": "eDRZ_PDR8xZF",
        "outputId": "c00600be-e4c2-4979-f581-c2afdfdec23c"
      },
      "execution_count": null,
      "outputs": [
        {
          "output_type": "stream",
          "name": "stdout",
          "text": [
            "Looking in indexes: https://pypi.org/simple, https://us-python.pkg.dev/colab-wheels/public/simple/\n",
            "Requirement already satisfied: english-words in /usr/local/lib/python3.8/dist-packages (1.1.0)\n",
            "The hidden word is \t -------------\n",
            "Pick a Letter: \n",
            "i\n",
            "WRONG! Number of mistakes left: 5\n",
            "==============================================\n",
            "\n",
            "        ____________\n",
            "         |\n",
            "         O\n",
            "Pick a Letter: \n",
            "&\n",
            "You have entered special characters or digits .... \n",
            "Do you want to continue guessing a new word... (Y/N)n\n",
            "Thanks playing!\n"
          ]
        }
      ]
    },
    {
      "cell_type": "code",
      "execution_count": null,
      "metadata": {
        "tags": [],
        "id": "19adbda2-6677-4013-86d2-14f75ad289fe"
      },
      "outputs": [],
      "source": [
        "hangman={0:'''\n",
        "        ____________\n",
        "         |''',\n",
        "        1:'''\n",
        "        ____________\n",
        "         |\n",
        "         O''',\n",
        "        2:'''\n",
        "        ____________\n",
        "         |\n",
        "         O\n",
        "        /''',\n",
        "        3:'''\n",
        "        ____________\n",
        "         |\n",
        "         O\n",
        "        / \\\\''',\n",
        "        4:'''\n",
        "        ____________\n",
        "         |\n",
        "         O\n",
        "        / \\\\\n",
        "         |''',\n",
        "        5:'''\n",
        "        ____________\n",
        "         |\n",
        "         O\n",
        "        / \\\\\n",
        "         |\n",
        "        /''',\n",
        "        6:'''\n",
        "        ____________\n",
        "         |\n",
        "         O\n",
        "        / \\\\\n",
        "         |\n",
        "        / \\\\ '''}"
      ]
    },
    {
      "cell_type": "code",
      "source": [
        "!pip install english-words\n",
        "from english_words import english_words_alpha_set\n",
        "list_of_words = list(english_words_alpha_set) \n",
        "          \n",
        "list_of_words[7]   \n"
      ],
      "metadata": {
        "colab": {
          "base_uri": "https://localhost:8080/",
          "height": 70
        },
        "id": "mR69fDyIzay-",
        "outputId": "4e715ff7-61ea-46f1-fdd6-4fd01db3b9fb"
      },
      "execution_count": null,
      "outputs": [
        {
          "output_type": "stream",
          "name": "stdout",
          "text": [
            "Looking in indexes: https://pypi.org/simple, https://us-python.pkg.dev/colab-wheels/public/simple/\n",
            "Requirement already satisfied: english-words in /usr/local/lib/python3.8/dist-packages (1.1.0)\n"
          ]
        },
        {
          "output_type": "execute_result",
          "data": {
            "text/plain": [
              "'beluga'"
            ],
            "application/vnd.google.colaboratory.intrinsic+json": {
              "type": "string"
            }
          },
          "metadata": {},
          "execution_count": 13
        }
      ]
    },
    {
      "cell_type": "code",
      "source": [],
      "metadata": {
        "id": "2Yr4p4c0zswN"
      },
      "execution_count": null,
      "outputs": []
    },
    {
      "cell_type": "code",
      "source": [
        "possible_mistake={3:1,\n",
        "                  4:2,\n",
        "                  5:2,\n",
        "                  6:3,\n",
        "                  7:4,\n",
        "                  8:4,\n",
        "                  9:4,\n",
        "                  10:4}\n",
        "possible_mistake[7]"
      ],
      "metadata": {
        "colab": {
          "base_uri": "https://localhost:8080/"
        },
        "id": "rBjYlNeBjxAP",
        "outputId": "2b798cd2-27d4-4a2a-f2c9-9d003db8c228"
      },
      "execution_count": null,
      "outputs": [
        {
          "output_type": "execute_result",
          "data": {
            "text/plain": [
              "4"
            ]
          },
          "metadata": {},
          "execution_count": 3
        }
      ]
    },
    {
      "cell_type": "code",
      "source": [
        "def switch(length):\n",
        "    if length == 3 or length == 4:\n",
        "        return 2\n",
        "    elif length == 5 or length == 6:\n",
        "        return 3\n",
        "    elif length == 7 or length == 8:\n",
        "        return 4\n",
        "    elif length == 9 or length == 10:\n",
        "        return 5\n",
        "    else:\n",
        "        return 6\n",
        "word= input(\"Enter a string \")\n",
        "length=len(word)\n",
        "print(switch(length))"
      ],
      "metadata": {
        "colab": {
          "base_uri": "https://localhost:8080/"
        },
        "id": "2DSR0I0eldEo",
        "outputId": "a4978cf1-4e7b-4a99-a830-ab86745ecdf8"
      },
      "execution_count": null,
      "outputs": [
        {
          "output_type": "stream",
          "name": "stdout",
          "text": [
            "Enter a string help\n",
            "2\n"
          ]
        }
      ]
    }
  ]
}