{
  "cells": [
    {
      "cell_type": "markdown",
      "metadata": {
        "id": "view-in-github",
        "colab_type": "text"
      },
      "source": [
        "<a href=\"https://colab.research.google.com/github/kalpana-premkumar/A-B-Testing/blob/main/central_limit_theorem_structure.ipynb\" target=\"_parent\"><img src=\"https://colab.research.google.com/assets/colab-badge.svg\" alt=\"Open In Colab\"/></a>"
      ]
    },
    {
      "cell_type": "markdown",
      "metadata": {
        "id": "gQ6c1Mj50zGg"
      },
      "source": [
        "# Central Limit Theorem"
      ]
    },
    {
      "cell_type": "markdown",
      "metadata": {
        "id": "FnMPwGLE0zGi"
      },
      "source": [
        "Sources: \n",
        "\n",
        "* \"Naked statistics\" by  Charles J. Wheelan"
      ]
    },
    {
      "cell_type": "markdown",
      "metadata": {
        "id": "9tKBp_vh0zGj"
      },
      "source": [
        "**A core principle underlying the central limit theorem is that a large, properly drawn sample will resemble the population from which it is drawn.**"
      ]
    },
    {
      "cell_type": "markdown",
      "metadata": {
        "id": "bg6CaGiS0zGj"
      },
      "source": [
        "The central limit theorem enables us to make the following inferences: \n",
        "\n",
        "* If we have detailed information about some population, then we can make inferences about any properly drawn sample from that population. \n",
        "* If we have detailed information about a properly drawn sample (mean and standard deviation), we can make accurate inferences about the population from which that sample was drawn. The central limit tells us that a large sample will not typically deviate  a lot from its population.\n",
        "* The central limit theorem allows us to calculate the probability that a particular sample was drawn from a given population. If that probability is low, then we  can conclude with a high degree of confidence that the sample was not drown from the population in question.\n",
        "* If we know the underlying characteristics of two samples, we can infer whether or not both samples were likley drawn from the same population."
      ]
    },
    {
      "cell_type": "code",
      "execution_count": null,
      "metadata": {
        "id": "qBfSSRjJ0zGk"
      },
      "outputs": [],
      "source": [
        "import numpy as np\n",
        "import pandas as pd\n",
        "import scipy.stats as stats\n",
        "import random\n",
        "import matplotlib.pyplot as plt"
      ]
    },
    {
      "cell_type": "markdown",
      "source": [
        "## Looking at the CLT with simulated data"
      ],
      "metadata": {
        "id": "nIM1MyKbQP93"
      }
    },
    {
      "cell_type": "markdown",
      "metadata": {
        "id": "vVFdjMIb0zGk"
      },
      "source": [
        "### The normal distribution\n",
        "\n",
        "It is a theoretical distribution defined by mathematical properties.\n",
        "\n",
        "It is a bell shaped-shaped distribution in which:\n",
        "* 68 percent of the observations lie within one standard deviation of the mean\n",
        "* 95 percent lies within two standard deviations\n",
        "\n",
        "We can simulate the normal distribution by generating numbers with `stats.norm.rvs`."
      ]
    },
    {
      "cell_type": "code",
      "execution_count": null,
      "metadata": {
        "colab": {
          "base_uri": "https://localhost:8080/",
          "height": 265
        },
        "id": "kXXQqwrv0zGk",
        "outputId": "3e1b56a1-6021-495e-aaab-8d0c270c04df"
      },
      "outputs": [
        {
          "output_type": "display_data",
          "data": {
            "text/plain": [
              "<Figure size 432x288 with 1 Axes>"
            ],
            "image/png": "[encoded data removed]"
          },
          "metadata": {
            "needs_background": "light"
          }
        }
      ],
      "source": [
        "norm_dist = stats.norm.rvs(loc=0, \n",
        "                           scale=1, \n",
        "                           size=100000,\n",
        "                           random_state=123\n",
        "                          ) #rvs(loc=0, scale=1, size=1, random_state=None) Random variates.\n",
        "norm_dist = pd.Series(norm_dist)\n",
        "norm_dist.hist(bins=30);"
      ]
    },
    {
      "cell_type": "markdown",
      "source": [
        "#### Percentage of the simulated data that falls between the standard deviations#"
      ],
      "metadata": {
        "id": "P_sTwrH3ypd6"
      }
    },
    {
      "cell_type": "markdown",
      "source": [
        "Mean of the normal distribution"
      ],
      "metadata": {
        "id": "FCRQsdr3y8Y0"
      }
    },
    {
      "cell_type": "code",
      "execution_count": null,
      "metadata": {
        "colab": {
          "base_uri": "https://localhost:8080/"
        },
        "id": "axMYA9ai0zGl",
        "outputId": "6f20f205-28f6-494b-d37d-4261c1b3086a"
      },
      "outputs": [
        {
          "output_type": "execute_result",
          "data": {
            "text/plain": [
              "0.0013148201751476637"
            ]
          },
          "metadata": {},
          "execution_count": 3
        }
      ],
      "source": [
        "mean_norm = np.mean(norm_dist)\n",
        "mean_norm"
      ]
    },
    {
      "cell_type": "markdown",
      "source": [
        "Standard deviation of the normal distribution"
      ],
      "metadata": {
        "id": "jBn-f1MFzCl9"
      }
    },
    {
      "cell_type": "code",
      "execution_count": null,
      "metadata": {
        "colab": {
          "base_uri": "https://localhost:8080/"
        },
        "id": "OJa1VTU70zGl",
        "outputId": "ed1dbdd9-073c-40e7-b1ee-6a3919c4d1ef"
      },
      "outputs": [
        {
          "output_type": "execute_result",
          "data": {
            "text/plain": [
              "0.9995701769427331"
            ]
          },
          "metadata": {},
          "execution_count": 4
        }
      ],
      "source": [
        "std_norm = np.std(norm_dist)\n",
        "std_norm"
      ]
    },
    {
      "cell_type": "markdown",
      "source": [
        "Our lower boundary for 68% of the data - mean minus the standard deviation"
      ],
      "metadata": {
        "id": "1PhZToNgzIAu"
      }
    },
    {
      "cell_type": "code",
      "execution_count": null,
      "metadata": {
        "colab": {
          "base_uri": "https://localhost:8080/"
        },
        "id": "rt0VY26x0zGm",
        "outputId": "835fe047-5f54-406e-b1f7-e7c21e1635ce"
      },
      "outputs": [
        {
          "output_type": "execute_result",
          "data": {
            "text/plain": [
              "-0.9982553567675855"
            ]
          },
          "metadata": {},
          "execution_count": 5
        }
      ],
      "source": [
        "sigma_negative = mean_norm - std_norm\n",
        "sigma_negative"
      ]
    },
    {
      "cell_type": "markdown",
      "source": [
        "Our upper boundary for 68% of the data - mean plus the standard deviation"
      ],
      "metadata": {
        "id": "7cjx96FHzQWa"
      }
    },
    {
      "cell_type": "code",
      "execution_count": null,
      "metadata": {
        "id": "EcTn8OqH0zGm",
        "colab": {
          "base_uri": "https://localhost:8080/"
        },
        "outputId": "49ec997f-c513-485d-dde0-7e711f3ebac7"
      },
      "outputs": [
        {
          "output_type": "execute_result",
          "data": {
            "text/plain": [
              "1.0008849971178808"
            ]
          },
          "metadata": {},
          "execution_count": 6
        }
      ],
      "source": [
        "# find out the 1 standard deviation\n",
        "sigma_positive = mean_norm + std_norm\n",
        "sigma_positive"
      ]
    },
    {
      "cell_type": "markdown",
      "source": [
        "Plotting our boundaries on our simulated data\n",
        "* red lines are one standard deviation - our boundaries for 68% of the data\n",
        "* green lines are two standard deviations - our boundaries for 95% of the data"
      ],
      "metadata": {
        "id": "TmQgvuGfzlMl"
      }
    },
    {
      "cell_type": "code",
      "execution_count": null,
      "metadata": {
        "id": "xbnyytsL0zGn",
        "colab": {
          "base_uri": "https://localhost:8080/",
          "height": 281
        },
        "outputId": "a2014dd9-2fb5-4a99-8223-3ce5a5fa5ef3"
      },
      "outputs": [
        {
          "output_type": "display_data",
          "data": {
            "text/plain": [
              "<Figure size 432x288 with 1 Axes>"
            ],
            "image/png": "[encoded data removed]"
          },
          "metadata": {
            "needs_background": "light"
          }
        }
      ],
      "source": [
        "# plot the normal distribution\n",
        "plt.hist(norm_dist, bins=30)\n",
        "\n",
        "# represent the -1 standard deviation\n",
        "plt.axvline(sigma_negative, color = 'r')\n",
        "plt.axvline(sigma_negative*2, color = 'g')\n",
        "\n",
        "# represent the 1 standard deviation\n",
        "plt.axvline(sigma_positive, color = 'r')\n",
        "plt.axvline(sigma_positive*2, color = 'g')\n",
        "\n",
        "plt.title('Representing a normal distribution')\n",
        "plt.show()"
      ]
    },
    {
      "cell_type": "markdown",
      "metadata": {
        "id": "E6B0_lAH0zGn"
      },
      "source": [
        "What proportion of our `norm_dist` falls within 1 standard deviation from the mean?"
      ]
    },
    {
      "cell_type": "code",
      "execution_count": null,
      "metadata": {
        "id": "T3UE523V0zGn",
        "colab": {
          "base_uri": "https://localhost:8080/"
        },
        "outputId": "25cfdd1f-9572-4042-9b64-5556d3466115"
      },
      "outputs": [
        {
          "output_type": "stream",
          "name": "stdout",
          "text": [
            "68.1% lies within one standard deviation of the mean\n"
          ]
        }
      ],
      "source": [
        "sigma_plus = len(norm_dist[(norm_dist > sigma_negative) \n",
        "                          &(norm_dist < sigma_positive)])\n",
        "\n",
        "perc_1_std = sigma_plus/len(norm_dist)\n",
        "\n",
        "print(f\"{round(perc_1_std * 100, 2)}% lies within one standard deviation of the mean\")"
      ]
    },
    {
      "cell_type": "markdown",
      "source": [
        "What proportion of our `norm_dist` falls beyond 1 standard deviation from the mean?"
      ],
      "metadata": {
        "id": "TKDJzC5yTre9"
      }
    },
    {
      "cell_type": "code",
      "source": [
        "sigma_plus_inverted = len(norm_dist[(norm_dist < sigma_negative) \n",
        "                                   |(norm_dist > sigma_positive)])\n",
        "\n",
        "out_1_std = sigma_plus_inverted / len(norm_dist)\n",
        "\n",
        "print(f\"{round(out_1_std * 100, 2)}% falls outside of one standard deviation of the mean\")"
      ],
      "metadata": {
        "id": "cZb6qvCUTng0",
        "colab": {
          "base_uri": "https://localhost:8080/"
        },
        "outputId": "720f31a0-f565-46af-942f-266dec445664"
      },
      "execution_count": null,
      "outputs": [
        {
          "output_type": "stream",
          "name": "stdout",
          "text": [
            "31.9% falls outside of one standard deviation of the mean\n"
          ]
        }
      ]
    },
    {
      "cell_type": "markdown",
      "metadata": {
        "id": "RRB48gZm0zGo"
      },
      "source": [
        "##### **Exercise 1:** \n",
        "\n",
        "What proportion of our `norm_dist` falls beyond two standard deviations of the mean? And beyond three?"
      ]
    },
    {
      "cell_type": "code",
      "execution_count": null,
      "metadata": {
        "id": "Low15WOy0zGo",
        "colab": {
          "base_uri": "https://localhost:8080/"
        },
        "outputId": "f7a87d99-c06d-4278-fd37-38c9743db8e0"
      },
      "outputs": [
        {
          "output_type": "stream",
          "name": "stdout",
          "text": [
            "4.46% falls outside of one standard deviation of the mean\n",
            "0.27% falls outside of one standard deviation of the mean\n"
          ]
        }
      ],
      "source": [
        "# your code here\n",
        "sigma_beyond_two = len(norm_dist[(norm_dist < sigma_negative*2)|(norm_dist > sigma_positive*2)])\n",
        "out_2_std=sigma_beyond_two/ len(norm_dist)\n",
        "sigma_beyond_three = len(norm_dist[(norm_dist < sigma_negative*3)|(norm_dist > sigma_positive*3)])\n",
        "out_3_std=sigma_beyond_three/ len(norm_dist)\n",
        "print(f\"{round(out_2_std * 100, 2)}% falls outside of two standard deviation of the mean\")\n",
        "print(f\"{round(out_3_std * 100, 2)}% falls outside of three standard deviation of the mean\")\n"
      ]
    },
    {
      "cell_type": "markdown",
      "metadata": {
        "id": "NY1B7dcE0zGr"
      },
      "source": [
        "## Looking at the CLT with an actual population\n",
        "\n",
        "Let's move from theoretical distributions to real populations. We generally do not have access to a whole population: we only have access to samples. We use these samples to make guesses about the population. In this exercise we _do_ have access to the population so that we can prove how to make those guesses, and how accurate they can be."
      ]
    },
    {
      "cell_type": "markdown",
      "metadata": {
        "id": "8qZkRv060zGr"
      },
      "source": [
        "Here's the distribution of our population, feel free to make up a story for the numbers"
      ]
    },
    {
      "cell_type": "code",
      "execution_count": null,
      "metadata": {
        "id": "o8MZRYem0zGr",
        "colab": {
          "base_uri": "https://localhost:8080/",
          "height": 206
        },
        "outputId": "494b0485-3407-4db2-d88c-ff6240b8f87d"
      },
      "outputs": [
        {
          "output_type": "execute_result",
          "data": {
            "text/plain": [
              "          0\n",
              "0  1.160131\n",
              "1  0.222175\n",
              "2  3.101406\n",
              "3  0.758150\n",
              "4  2.159439"
            ],
            "text/html": [
              "\n",
              "  <div id=\"df-74900d2b-0c89-44ea-9139-ee2571d703a0\">\n",
              "    <div class=\"colab-df-container\">\n",
              "      <div>\n",
              "<style scoped>\n",
              "    .dataframe tbody tr th:only-of-type {\n",
              "        vertical-align: middle;\n",
              "    }\n",
              "\n",
              "    .dataframe tbody tr th {\n",
              "        vertical-align: top;\n",
              "    }\n",
              "\n",
              "    .dataframe thead th {\n",
              "        text-align: right;\n",
              "    }\n",
              "</style>\n",
              "<table border=\"1\" class=\"dataframe\">\n",
              "  <thead>\n",
              "    <tr style=\"text-align: right;\">\n",
              "      <th></th>\n",
              "      <th>0</th>\n",
              "    </tr>\n",
              "  </thead>\n",
              "  <tbody>\n",
              "    <tr>\n",
              "      <th>0</th>\n",
              "      <td>1.160131</td>\n",
              "    </tr>\n",
              "    <tr>\n",
              "      <th>1</th>\n",
              "      <td>0.222175</td>\n",
              "    </tr>\n",
              "    <tr>\n",
              "      <th>2</th>\n",
              "      <td>3.101406</td>\n",
              "    </tr>\n",
              "    <tr>\n",
              "      <th>3</th>\n",
              "      <td>0.758150</td>\n",
              "    </tr>\n",
              "    <tr>\n",
              "      <th>4</th>\n",
              "      <td>2.159439</td>\n",
              "    </tr>\n",
              "  </tbody>\n",
              "</table>\n",
              "</div>\n",
              "      <button class=\"colab-df-convert\" onclick=\"convertToInteractive('df-74900d2b-0c89-44ea-9139-ee2571d703a0')\"\n",
              "              title=\"Convert this dataframe to an interactive table.\"\n",
              "              style=\"display:none;\">\n",
              "        \n",
              "  <svg xmlns=\"http://www.w3.org/2000/svg\" height=\"24px\"viewBox=\"0 0 24 24\"\n",
              "       width=\"24px\">\n",
              "    <path d=\"M0 0h24v24H0V0z\" fill=\"none\"/>\n",
              "    <path d=\"M18.56 5.44l.94 2.06.94-2.06 2.06-.94-2.06-.94-.94-2.06-.94 2.06-2.06.94zm-11 1L8.5 8.5l.94-2.06 2.06-.94-2.06-.94L8.5 2.5l-.94 2.06-2.06.94zm10 10l.94 2.06.94-2.06 2.06-.94-2.06-.94-.94-2.06-.94 2.06-2.06.94z\"/><path d=\"M17.41 7.96l-1.37-1.37c-.4-.4-.92-.59-1.43-.59-.52 0-1.04.2-1.43.59L10.3 9.45l-7.72 7.72c-.78.78-.78 2.05 0 2.83L4 21.41c.39.39.9.59 1.41.59.51 0 1.02-.2 1.41-.59l7.78-7.78 2.81-2.81c.8-.78.8-2.07 0-2.86zM5.41 20L4 18.59l7.72-7.72 1.47 1.35L5.41 20z\"/>\n",
              "  </svg>\n",
              "      </button>\n",
              "      \n",
              "  <style>\n",
              "    .colab-df-container {\n",
              "      display:flex;\n",
              "      flex-wrap:wrap;\n",
              "      gap: 12px;\n",
              "    }\n",
              "\n",
              "    .colab-df-convert {\n",
              "      background-color: #E8F0FE;\n",
              "      border: none;\n",
              "      border-radius: 50%;\n",
              "      cursor: pointer;\n",
              "      display: none;\n",
              "      fill: #1967D2;\n",
              "      height: 32px;\n",
              "      padding: 0 0 0 0;\n",
              "      width: 32px;\n",
              "    }\n",
              "\n",
              "    .colab-df-convert:hover {\n",
              "      background-color: #E2EBFA;\n",
              "      box-shadow: 0px 1px 2px rgba(60, 64, 67, 0.3), 0px 1px 3px 1px rgba(60, 64, 67, 0.15);\n",
              "      fill: #174EA6;\n",
              "    }\n",
              "\n",
              "    [theme=dark] .colab-df-convert {\n",
              "      background-color: #3B4455;\n",
              "      fill: #D2E3FC;\n",
              "    }\n",
              "\n",
              "    [theme=dark] .colab-df-convert:hover {\n",
              "      background-color: #434B5C;\n",
              "      box-shadow: 0px 1px 3px 1px rgba(0, 0, 0, 0.15);\n",
              "      filter: drop-shadow(0px 1px 2px rgba(0, 0, 0, 0.3));\n",
              "      fill: #FFFFFF;\n",
              "    }\n",
              "  </style>\n",
              "\n",
              "      <script>\n",
              "        const buttonEl =\n",
              "          document.querySelector('#df-74900d2b-0c89-44ea-9139-ee2571d703a0 button.colab-df-convert');\n",
              "        buttonEl.style.display =\n",
              "          google.colab.kernel.accessAllowed ? 'block' : 'none';\n",
              "\n",
              "        async function convertToInteractive(key) {\n",
              "          const element = document.querySelector('#df-74900d2b-0c89-44ea-9139-ee2571d703a0');\n",
              "          const dataTable =\n",
              "            await google.colab.kernel.invokeFunction('convertToInteractive',\n",
              "                                                     [key], {});\n",
              "          if (!dataTable) return;\n",
              "\n",
              "          const docLinkHtml = 'Like what you see? Visit the ' +\n",
              "            '<a target=\"_blank\" href=https://colab.research.google.com/notebooks/data_table.ipynb>data table notebook</a>'\n",
              "            + ' to learn more about interactive tables.';\n",
              "          element.innerHTML = '';\n",
              "          dataTable['output_type'] = 'display_data';\n",
              "          await google.colab.output.renderOutput(dataTable, element);\n",
              "          const docLink = document.createElement('div');\n",
              "          docLink.innerHTML = docLinkHtml;\n",
              "          element.appendChild(docLink);\n",
              "        }\n",
              "      </script>\n",
              "    </div>\n",
              "  </div>\n",
              "  "
            ]
          },
          "metadata": {},
          "execution_count": 20
        }
      ],
      "source": [
        "# population.csv\n",
        "url = 'https://drive.google.com/file/d/1jomahr4JUPi8lAO33_RB1I-1089feWg2/view?usp=sharing' \n",
        "path = 'https://drive.google.com/uc?export=download&id='+url.split('/')[-2]\n",
        "pop = pd.read_csv(path)\n",
        "\n",
        "pop.head()"
      ]
    },
    {
      "cell_type": "code",
      "execution_count": null,
      "metadata": {
        "id": "ulO__Uhf0zGr",
        "colab": {
          "base_uri": "https://localhost:8080/",
          "height": 607
        },
        "outputId": "3643e244-cd32-49ab-c27a-6342b016b2a2"
      },
      "outputs": [
        {
          "output_type": "display_data",
          "data": {
            "text/plain": [
              "<Figure size 1440x720 with 1 Axes>"
            ],
            "image/png": "[encoded data removed]"
          },
          "metadata": {
            "needs_background": "light"
          }
        }
      ],
      "source": [
        "pop.hist(bins=50, grid=False, color=\"#007398\", figsize=(20,10));\n",
        "plt.axvline(float(pop.mean()), linestyle=\"--\", color=\"#f8485e\");"
      ]
    },
    {
      "cell_type": "markdown",
      "source": [
        "Population mean:"
      ],
      "metadata": {
        "id": "EysaEVuo5T0X"
      }
    },
    {
      "cell_type": "code",
      "execution_count": null,
      "metadata": {
        "id": "FlAFDJYN0zGr",
        "colab": {
          "base_uri": "https://localhost:8080/"
        },
        "outputId": "4dc9ae43-40a0-4517-c446-c197f97e1ec9"
      },
      "outputs": [
        {
          "output_type": "execute_result",
          "data": {
            "text/plain": [
              "0    3.387146\n",
              "dtype: float64"
            ]
          },
          "metadata": {},
          "execution_count": 22
        }
      ],
      "source": [
        "pop_mean = pop.mean()\n",
        "pop_mean"
      ]
    },
    {
      "cell_type": "markdown",
      "source": [
        "Population Standard Deviation"
      ],
      "metadata": {
        "id": "GgMxl8gZ5X1z"
      }
    },
    {
      "cell_type": "code",
      "execution_count": null,
      "metadata": {
        "id": "HVV9WKmh0zGr",
        "colab": {
          "base_uri": "https://localhost:8080/"
        },
        "outputId": "b2996705-ce67-4ec5-9cf0-1396ced4f8c8"
      },
      "outputs": [
        {
          "output_type": "execute_result",
          "data": {
            "text/plain": [
              "0    2.438371\n",
              "dtype: float64"
            ]
          },
          "metadata": {},
          "execution_count": 23
        }
      ],
      "source": [
        "pop_std = np.std(pop)\n",
        "pop_std"
      ]
    },
    {
      "cell_type": "markdown",
      "source": [
        "Number of observations in our population"
      ],
      "metadata": {
        "id": "BL5ChtBe5bCx"
      }
    },
    {
      "cell_type": "code",
      "execution_count": null,
      "metadata": {
        "id": "v2vG77V10zGr",
        "colab": {
          "base_uri": "https://localhost:8080/"
        },
        "outputId": "be6f9418-171a-4063-f7a0-2c686e05f99e"
      },
      "outputs": [
        {
          "output_type": "execute_result",
          "data": {
            "text/plain": [
              "12500"
            ]
          },
          "metadata": {},
          "execution_count": 24
        }
      ],
      "source": [
        "len(pop)"
      ]
    },
    {
      "cell_type": "markdown",
      "metadata": {
        "id": "xx3VAlDD0zGs"
      },
      "source": [
        "Let's take a sample from our population:"
      ]
    },
    {
      "cell_type": "code",
      "execution_count": null,
      "metadata": {
        "id": "UHEevCo80zGs"
      },
      "outputs": [],
      "source": [
        "sample = pop.sample(n=50, random_state=4321)"
      ]
    },
    {
      "cell_type": "code",
      "source": [
        "sample.value_counts()"
      ],
      "metadata": {
        "colab": {
          "base_uri": "https://localhost:8080/"
        },
        "id": "x_DQlvA3bEZy",
        "outputId": "c9bc856c-6c6d-4e89-ef11-0009af7dbcd6"
      },
      "execution_count": null,
      "outputs": [
        {
          "output_type": "execute_result",
          "data": {
            "text/plain": [
              "0       \n",
              "0.129410    1\n",
              "5.694892    1\n",
              "5.946056    1\n",
              "5.929303    1\n",
              "5.854373    1\n",
              "           ..\n",
              "1.057026    1\n",
              "1.051733    1\n",
              "1.026490    1\n",
              "0.988432    1\n",
              "7.041762    1\n",
              "Length: 100, dtype: int64"
            ]
          },
          "metadata": {},
          "execution_count": 33
        }
      ]
    },
    {
      "cell_type": "markdown",
      "source": [
        "Let's plot this sample as a histogram"
      ],
      "metadata": {
        "id": "s2WUKrKP5lnv"
      }
    },
    {
      "cell_type": "code",
      "execution_count": null,
      "metadata": {
        "id": "w8K-Wl1M0zGs",
        "colab": {
          "base_uri": "https://localhost:8080/",
          "height": 281
        },
        "outputId": "fd3ec881-49d5-4baa-b585-7ed64d41d282"
      },
      "outputs": [
        {
          "output_type": "display_data",
          "data": {
            "text/plain": [
              "<Figure size 432x288 with 1 Axes>"
            ],
            "image/png": "[encoded data removed]"
          },
          "metadata": {
            "needs_background": "light"
          }
        }
      ],
      "source": [
        "# Histogram\n",
        "sample.hist(bins=50, grid=False, color=\"#007398\");\n",
        "\n",
        "# Vertical red line representing the sample mean\n",
        "plt.axvline(float(sample.mean()), linestyle=\"--\", ymax=0.9, color=\"#f8485e\");"
      ]
    },
    {
      "cell_type": "markdown",
      "metadata": {
        "id": "ZBzSaVQ70zGs"
      },
      "source": [
        "The mean of the sample is similar but not equal to the mean of the population."
      ]
    },
    {
      "cell_type": "code",
      "execution_count": null,
      "metadata": {
        "id": "z_aXgtrH0zGs",
        "colab": {
          "base_uri": "https://localhost:8080/"
        },
        "outputId": "ec22cd91-9393-410c-b324-ae05f261941a"
      },
      "outputs": [
        {
          "output_type": "stream",
          "name": "stdout",
          "text": [
            "sample mean: 2.994229904318285\n",
            "population mean: 3.3871463523736334\n"
          ]
        }
      ],
      "source": [
        "# Sample mean\n",
        "print('sample mean:', float(np.mean(sample)))\n",
        "print('population mean:', float(pop_mean))"
      ]
    },
    {
      "cell_type": "markdown",
      "metadata": {
        "id": "9SGvJfWA0zGs"
      },
      "source": [
        "Let's recap what we know about the sample mean in relation to the population mean\n",
        "\n",
        "According to the central limit theorem, the sample means for any population will be distributed roughly as a normal distribution around the population mean:\n",
        "* Most of the sample means will be close to the population mean. \n",
        "* The sample means will be distributed, approximately, as a normal distribution around the population mean. \n",
        "* All of this will be true no matter what the distribution of the population looks like. The population from which the samples are being drawn does not have to have a normal distribution in order for the sample means to be distributed normally.\n",
        "\n",
        "Some general rules about the central limit theorem to remember:\n",
        "* If the population has extreme outliers and the samples are very small, the CLT may not function.\n",
        "* We may have a population with a higly skewed distribution, the distribution of the sample means will not be skewed.\n",
        "* The larger the number of the samples, the more closely the distribution will approximate the normal distribution."
      ]
    },
    {
      "cell_type": "markdown",
      "metadata": {
        "id": "1f9MEqvb0zGt"
      },
      "source": [
        "### Sampling distributions"
      ]
    },
    {
      "cell_type": "markdown",
      "metadata": {
        "id": "liBj8l2O0zGt"
      },
      "source": [
        "Now, we take 100, 1000 or 10000 samples, each one of size 50"
      ]
    },
    {
      "cell_type": "code",
      "execution_count": null,
      "metadata": {
        "id": "ClAMczNs0zGt"
      },
      "outputs": [],
      "source": [
        "number_of_samples = 10000\n",
        "sample_size = 50\n",
        "samples = []\n",
        "\n",
        "for number in range(number_of_samples): \n",
        "    simple_random_sample = pop.sample(n= sample_size, \n",
        "                                      replace=True\n",
        "                                     )\n",
        "    samples.append([simple_random_sample])"
      ]
    },
    {
      "cell_type": "code",
      "source": [],
      "metadata": {
        "id": "-rMduh2vpQwi"
      },
      "execution_count": null,
      "outputs": []
    },
    {
      "cell_type": "markdown",
      "metadata": {
        "id": "mfew070z0zGt"
      },
      "source": [
        "Let's make a list of the mean for each sample:"
      ]
    },
    {
      "cell_type": "code",
      "execution_count": null,
      "metadata": {
        "id": "Zx2b4VGq0zGu"
      },
      "outputs": [],
      "source": [
        "sample_means = []\n",
        "\n",
        "for s in samples:\n",
        "    sample_means.append(np.mean(s))"
      ]
    },
    {
      "cell_type": "markdown",
      "metadata": {
        "id": "x8GLjHwB0zGu"
      },
      "source": [
        "The result is the **sampling distribution** of the **sample means**:"
      ]
    },
    {
      "cell_type": "code",
      "execution_count": null,
      "metadata": {
        "id": "zMlU7RKW0zGu",
        "colab": {
          "base_uri": "https://localhost:8080/",
          "height": 592
        },
        "outputId": "ed1225bf-7b97-440c-adfd-6d6860f1d4f1"
      },
      "outputs": [
        {
          "output_type": "display_data",
          "data": {
            "text/plain": [
              "<Figure size 1440x720 with 1 Axes>"
            ],
            "image/png": "[encoded data removed]"
          },
          "metadata": {
            "needs_background": "light"
          }
        }
      ],
      "source": [
        "# Creating a series of the means\n",
        "sampling_dist_sample_means = pd.Series(sample_means)\n",
        "# Finding the mean of the Series\n",
        "sdsm_mean = float(sampling_dist_sample_means.mean())\n",
        "# Finding the Standard Error\n",
        "se = float(sampling_dist_sample_means.std())\n",
        "                \n",
        "# Plotting the Histogram\n",
        "sampling_dist_sample_means.hist(bins=50, grid=False, figsize=(20,10), color=\"#f8485e\");\n",
        "\n",
        "# Plotting the vertical lines\n",
        "plt.axvline(sdsm_mean, linestyle=\"--\",linewidth=3.5, color=\"#EBEBEB\");\n",
        "plt.axvline(sdsm_mean+se, linestyle=\"--\",linewidth=3.5, color=\"#595C5D\");\n",
        "plt.axvline(sdsm_mean-se, linestyle=\"--\",linewidth=3.5, color=\"#595C5D\");"
      ]
    },
    {
      "cell_type": "markdown",
      "metadata": {
        "id": "q28OnLp80zGu"
      },
      "source": [
        "We had a population of 12.500 elements, which had a weird bimodal distribution. We took 10.000 samples, each sample had size of 50. We then looked at the mean of each of the 10.000 samples, giving us 10.000 sample means. This is called a sampling distribution and it approximates the normal distribution.\n",
        "\n",
        "The larger the sample size and the more samples taken, the more closely the distribution of sample means will approximate the normal curve. As a rule of thumb, the sample size must at least 30 for the central limit theorem to hold true.\n",
        "> **Note:** a larger sample is less likely to be affected by a random variation."
      ]
    },
    {
      "cell_type": "markdown",
      "metadata": {
        "id": "XnEFipgL0zGv"
      },
      "source": [
        "The mean of the sampling distribution of the sample means should be pretty close to the true mean of the population:"
      ]
    },
    {
      "cell_type": "code",
      "execution_count": null,
      "metadata": {
        "id": "Qv5_yb4X0zGv",
        "colab": {
          "base_uri": "https://localhost:8080/"
        },
        "outputId": "a36d8033-0415-4f8d-de9b-5a8ba053477a"
      },
      "outputs": [
        {
          "output_type": "stream",
          "name": "stdout",
          "text": [
            "The difference between the population mean and the mean of the sampling distribution is 0.0026\n"
          ]
        }
      ],
      "source": [
        "difference = pop_mean - np.mean(sampling_dist_sample_means)\n",
        "print(f\"The difference between the population mean and the mean of the sampling distribution is {round(difference[0], 4)}\")"
      ]
    },
    {
      "cell_type": "markdown",
      "source": [
        "### Standard error"
      ],
      "metadata": {
        "id": "iRB05LTAPxMV"
      }
    },
    {
      "cell_type": "markdown",
      "metadata": {
        "id": "WdrtyCYQ0zGv"
      },
      "source": [
        "We know that in a normal distribution, 95% of the values fall within 2 standard deviations of the mean. We will check that. But first, a terminology alert:\n",
        "\n",
        "> The *standard deviation of the sampling distribution of the sample means* is called **standard error of the mean** or simply **standard error**.\n",
        "\n"
      ]
    },
    {
      "cell_type": "markdown",
      "metadata": {
        "id": "DBZpGjqM0zGw"
      },
      "source": [
        "What is the difference between the standard error and the standard deviation?\n",
        "\n",
        "* The standard deviation measures the dispersion in the population or sample.\n",
        "* The standard error measures the dispersion of the sampling distribution of sample means.\n",
        "\n",
        "Let's look at the standard error for the samples taken from our popultaion"
      ]
    },
    {
      "cell_type": "code",
      "execution_count": null,
      "metadata": {
        "id": "lLGhZIWe0zGv",
        "colab": {
          "base_uri": "https://localhost:8080/"
        },
        "outputId": "238bffb4-03bd-4a6c-a8f7-f5e2941e0f0c"
      },
      "outputs": [
        {
          "output_type": "execute_result",
          "data": {
            "text/plain": [
              "0.34448639590507707"
            ]
          },
          "metadata": {},
          "execution_count": 46
        }
      ],
      "source": [
        "standard_error = np.std(sampling_dist_sample_means)\n",
        "standard_error"
      ]
    },
    {
      "cell_type": "markdown",
      "source": [
        "* We know that the standard error is one standard deviation for our distribution of the sample means. \n",
        "* We know that 95% of values are contained within 2 standard deviations of the mean of our distribution of sample means.\n",
        "* We can therefore conclude that if another sample has a mean that is more than 2 standard deviations away from the mean of our distribution of sample means, it is highly unlikely that they come from the same population - there's less than a 5% chance that they're from the same population"
      ],
      "metadata": {
        "id": "qaMvMgVLQ9Ae"
      }
    },
    {
      "cell_type": "code",
      "execution_count": null,
      "metadata": {
        "id": "iX1EVJx50zGw",
        "colab": {
          "base_uri": "https://localhost:8080/"
        },
        "outputId": "92f5e6c9-eada-4370-a7a4-f53aaea3761d"
      },
      "outputs": [
        {
          "output_type": "stream",
          "name": "stdout",
          "text": [
            "2.7 - 4.07\n"
          ]
        }
      ],
      "source": [
        "# mean of distribution of sample means\n",
        "mean_sdsm = np.mean(sampling_dist_sample_means)\n",
        "\n",
        "lower_bound = mean_sdsm - 2*standard_error\n",
        "upper_bound = mean_sdsm + 2*standard_error\n",
        "\n",
        "print(round(lower_bound, 2), \"-\", round(upper_bound, 2))"
      ]
    },
    {
      "cell_type": "code",
      "execution_count": null,
      "metadata": {
        "id": "vK0FR2LH0zGw",
        "colab": {
          "base_uri": "https://localhost:8080/"
        },
        "outputId": "da4c37f1-2b77-4507-9e91-75b2465afb05"
      },
      "outputs": [
        {
          "output_type": "stream",
          "name": "stdout",
          "text": [
            "Percentage of sample means within 2 standard errors of the mean = 95.53\n"
          ]
        }
      ],
      "source": [
        "count = 0\n",
        "for i in sample_means:\n",
        "    if i > lower_bound and i < upper_bound:\n",
        "        count +=1\n",
        "print(f\"Percentage of sample means within 2 standard errors of the mean = { count/len(sample_means)*100 }\")"
      ]
    },
    {
      "cell_type": "markdown",
      "metadata": {
        "id": "i5ExludR0zGw"
      },
      "source": [
        "Another property the standard error is that it can be estimated by taking the standard deviation of the population and dividing it by the square root of the sample size.\n",
        "\n",
        "Let's see how this checks out with our data:"
      ]
    },
    {
      "cell_type": "code",
      "execution_count": null,
      "metadata": {
        "id": "elXweibW0zGw",
        "colab": {
          "base_uri": "https://localhost:8080/"
        },
        "outputId": "89fc6690-5fd5-4208-f883-4083fb1c36a9"
      },
      "outputs": [
        {
          "output_type": "execute_result",
          "data": {
            "text/plain": [
              "50"
            ]
          },
          "metadata": {},
          "execution_count": 49
        }
      ],
      "source": [
        "sample_size"
      ]
    },
    {
      "cell_type": "code",
      "execution_count": null,
      "metadata": {
        "id": "RY98Oj8B0zGw",
        "colab": {
          "base_uri": "https://localhost:8080/"
        },
        "outputId": "d6f2f8e9-67c0-4142-f721-70790c7a18fb"
      },
      "outputs": [
        {
          "output_type": "execute_result",
          "data": {
            "text/plain": [
              "0.34448639590507707"
            ]
          },
          "metadata": {},
          "execution_count": 50
        }
      ],
      "source": [
        "standard_error"
      ]
    },
    {
      "cell_type": "code",
      "execution_count": null,
      "metadata": {
        "id": "HsXr6fz_0zGw",
        "colab": {
          "base_uri": "https://localhost:8080/"
        },
        "outputId": "fbd45dfa-db52-4940-9f5b-d97a281e6bce"
      },
      "outputs": [
        {
          "output_type": "execute_result",
          "data": {
            "text/plain": [
              "0    2.438371\n",
              "dtype: float64"
            ]
          },
          "metadata": {},
          "execution_count": 51
        }
      ],
      "source": [
        "# standard deviation of the population\n",
        "pop_std"
      ]
    },
    {
      "cell_type": "markdown",
      "metadata": {
        "id": "z353iTjS0zGw"
      },
      "source": [
        "The formula of standard error is: \n",
        "\n",
        "$$\\sigma_{M} = \\frac{\\sigma}{\\sqrt(n)}$$\n",
        "\n",
        "* $\\sigma$ is the standard deviation of the population from which sample is drawn.\n",
        "* $n$ is the size of the sample."
      ]
    },
    {
      "cell_type": "code",
      "execution_count": null,
      "metadata": {
        "scrolled": true,
        "id": "eGqmlGju0zGw",
        "colab": {
          "base_uri": "https://localhost:8080/"
        },
        "outputId": "0b39d787-9070-48a0-ee02-fdfa7520f352"
      },
      "outputs": [
        {
          "output_type": "execute_result",
          "data": {
            "text/plain": [
              "0    0.344838\n",
              "dtype: float64"
            ]
          },
          "metadata": {},
          "execution_count": 52
        }
      ],
      "source": [
        "# population standard deviation / square root of population size\n",
        "pop_std/np.sqrt(sample_size)"
      ]
    },
    {
      "cell_type": "markdown",
      "source": [
        "When we don't have access the population, we estimate the standard error of the mean by taking the standard deviation of the sample:"
      ],
      "metadata": {
        "id": "_Dc_073dXI3N"
      }
    },
    {
      "cell_type": "code",
      "execution_count": null,
      "metadata": {
        "id": "3YM5W3kC0zGx",
        "colab": {
          "base_uri": "https://localhost:8080/"
        },
        "outputId": "21d13bc7-069d-45e2-c4bb-c82b5e634fad"
      },
      "outputs": [
        {
          "output_type": "execute_result",
          "data": {
            "text/plain": [
              "0    0.364068\n",
              "dtype: float64"
            ]
          },
          "metadata": {},
          "execution_count": 53
        }
      ],
      "source": [
        "# sample standard deviation / square root of population size\n",
        "sample.std()/np.sqrt(sample_size)"
      ]
    },
    {
      "cell_type": "markdown",
      "metadata": {
        "id": "Zy1n0RB40zGx"
      },
      "source": [
        "In the major part of the cases, we don't know the population standard deviation, so for large samples, we can assume that the standard deviation of the sample is reasonably close to the standard deviation of the population."
      ]
    },
    {
      "cell_type": "markdown",
      "metadata": {
        "id": "MQIZRPJN0zGx"
      },
      "source": [
        "#### **Exercise 2:** \n",
        "Before moving on, repeat the experiment (located under the header `Sampling distributions`) changing a few parameters and note down what happens in the following cases:\n",
        "\n",
        "* With diferent sample sizes (both smaller and greater)\n",
        "* With fewer or more samples.\n",
        "* Adding some extreme outliers to the population.\n",
        "* Sampling without replacement."
      ]
    },
    {
      "cell_type": "code",
      "source": [
        "# you can copy-paste code from above in this cell\n",
        "# and modify it"
      ],
      "metadata": {
        "id": "lbQuiNMJ91TP"
      },
      "execution_count": null,
      "outputs": []
    },
    {
      "cell_type": "markdown",
      "metadata": {
        "id": "WIoJEKaP0zGx"
      },
      "source": [
        "Summarising the main ideas: \n",
        "\n",
        "* If you draw large, random samples from any population, the means of those samples will be distributed normally around the population mean (regardless of what the distribution of the underlying population looks like).\n",
        "* Most sample means will lie reasonably close to the poulation mean; the standard error is what defines \"reasonably close\".\n",
        "* The central limit theorem tells us the probability that a sample mean will lie within a certain distance of the population mean. It is relatively unlikely that a sample mean willl lie more than two standard errors from the population mean, and extremely unlikely that it will lie three or more standard errors from the population mean. \n",
        "* The less likely it is that an outcome has been observed by change, the more confidence we can in surmising that some other factor is in play. "
      ]
    },
    {
      "cell_type": "markdown",
      "metadata": {
        "id": "LrTtpCS40zGx"
      },
      "source": [
        "## Squirrels example\n",
        "\n",
        "Let's assume that the population values from earlier represent the weights of squirrels. Now, in reality, if we took a sample of squirrels we wouldn't know the mean and the standard deviation of the population - this is normal. We simply go to the forest, take a random sample of 50 squirrels and register their weight:"
      ]
    },
    {
      "cell_type": "code",
      "execution_count": null,
      "metadata": {
        "id": "r4zDFJy60zGx",
        "colab": {
          "base_uri": "https://localhost:8080/",
          "height": 281
        },
        "outputId": "feb14f04-de8d-448d-91b1-ec76494f13a5"
      },
      "outputs": [
        {
          "output_type": "display_data",
          "data": {
            "text/plain": [
              "<Figure size 432x288 with 1 Axes>"
            ],
            "image/png": "[encoded data removed]"
          },
          "metadata": {
            "needs_background": "light"
          }
        }
      ],
      "source": [
        "squirrels = pop.sample(50, random_state=1990)\n",
        "\n",
        "squirrels.hist();"
      ]
    },
    {
      "cell_type": "code",
      "source": [
        "len(pop)"
      ],
      "metadata": {
        "colab": {
          "base_uri": "https://localhost:8080/"
        },
        "id": "N059LirFmVxR",
        "outputId": "a6068aec-f89a-42b3-c178-c914f467fd8a"
      },
      "execution_count": null,
      "outputs": [
        {
          "output_type": "execute_result",
          "data": {
            "text/plain": [
              "12500"
            ]
          },
          "metadata": {},
          "execution_count": 67
        }
      ]
    },
    {
      "cell_type": "markdown",
      "metadata": {
        "id": "XUmJPFqV0zGx"
      },
      "source": [
        "We wonder if the mean of the weights of the squirrels is close to the 'true' mean of the population (which we can't measure)\n"
      ]
    },
    {
      "cell_type": "code",
      "execution_count": null,
      "metadata": {
        "id": "OP1yO8yz0zGy",
        "colab": {
          "base_uri": "https://localhost:8080/"
        },
        "outputId": "e3c3816b-23b2-41c3-a804-ef0df124e0d1"
      },
      "outputs": [
        {
          "output_type": "execute_result",
          "data": {
            "text/plain": [
              "3.3492958902381855"
            ]
          },
          "metadata": {},
          "execution_count": 57
        }
      ],
      "source": [
        "# mean of our sample\n",
        "mean_squirrels = float(squirrels.mean())\n",
        "mean_squirrels"
      ]
    },
    {
      "cell_type": "markdown",
      "metadata": {
        "id": "wQ7Z1tMm0zGy"
      },
      "source": [
        "The standard error of the mean is an estimate of how far the sample mean is likely to be from the population mean.\n",
        "\n",
        "It is an estimate of the standard deviation of the sampling distribution of the sample means, which, as we've seen, follows a normal ditribution."
      ]
    },
    {
      "cell_type": "code",
      "execution_count": null,
      "metadata": {
        "id": "zDWWvxn_0zGy",
        "colab": {
          "base_uri": "https://localhost:8080/"
        },
        "outputId": "fad092a9-3bb2-4931-c97f-a07520cbcfda"
      },
      "outputs": [
        {
          "output_type": "execute_result",
          "data": {
            "text/plain": [
              "0.34511169176753176"
            ]
          },
          "metadata": {},
          "execution_count": 58
        }
      ],
      "source": [
        "# standard error of the mean\n",
        "sem_squirrels = float(squirrels.std()/np.sqrt(len(squirrels)))\n",
        "sem_squirrels"
      ]
    },
    {
      "cell_type": "markdown",
      "source": [
        "We can also calculate the standard error using scipy"
      ],
      "metadata": {
        "id": "wcB9FyytZW4b"
      }
    },
    {
      "cell_type": "code",
      "execution_count": null,
      "metadata": {
        "id": "LjrCQJuO0zGy",
        "colab": {
          "base_uri": "https://localhost:8080/"
        },
        "outputId": "16d712dc-afa7-4d67-82e0-18e06847b175"
      },
      "outputs": [
        {
          "output_type": "execute_result",
          "data": {
            "text/plain": [
              "array([0.34511169])"
            ]
          },
          "metadata": {},
          "execution_count": 59
        }
      ],
      "source": [
        "stats.sem(squirrels)"
      ]
    },
    {
      "cell_type": "markdown",
      "metadata": {
        "id": "SttG17TR0zGy"
      },
      "source": [
        "We know that no matter the distribution of our sample or the population, the sampling distribution of the sample means is normal (Central Limit Theorem).\n",
        "\n",
        "Knowing that, we can use the properties of the normal distribution to gain information about our sample and how much it might differ from the true population.\n",
        "\n",
        "We have:\n",
        "\n",
        "1. The mean of the sample.\n",
        "2. An estimation of the standard error.\n",
        "\n",
        "With this two elements and knowing the CLT, we can simulate a sampling distribution of sample means built around the mean of our sample.\n",
        "\n",
        "This sampling distribution we will simulate will be, of course, normal. We can plot it and draw the lines within 2 Standard Errors above and below the mean, representing the interval where 95% of the observations fall:"
      ]
    },
    {
      "cell_type": "code",
      "source": [
        "# generating a normal distribution\n",
        "sampling_dist_squirrels = stats.norm.rvs(loc=mean_squirrels, # The mean of the sample.\n",
        "                                         scale=sem_squirrels, # An estimation of the standard error.\n",
        "                                         size=100000,\n",
        "                                         random_state=123\n",
        "                                         )\n",
        "\n",
        "norm_dist = pd.Series(sampling_dist_squirrels)\n",
        "\n",
        "norm_dist.hist(bins=30, figsize=(14, 8))\n",
        "\n",
        "plt.axvline(mean_squirrels-sem_squirrels*2, color = 'r', linestyle=\"--\")\n",
        "plt.axvline(mean_squirrels+sem_squirrels*2, color = 'r', linestyle=\"--\");"
      ],
      "metadata": {
        "id": "JEi0BB25h5n5",
        "colab": {
          "base_uri": "https://localhost:8080/",
          "height": 483
        },
        "outputId": "287d3aa7-1147-4bc7-bdfa-00a36d3e77ca"
      },
      "execution_count": null,
      "outputs": [
        {
          "output_type": "display_data",
          "data": {
            "text/plain": [
              "<Figure size 1008x576 with 1 Axes>"
            ],
            "image/png": "[encoded data removed]"
          },
          "metadata": {
            "needs_background": "light"
          }
        }
      ]
    },
    {
      "cell_type": "markdown",
      "source": [
        "What does this distribution and this interval tell us?\n",
        "\n",
        "If we took many samples, and in each sample we drew this interval with the red dotted lines, 95% of the time the true mean would fall inside of the interval. 5% of the time, the mean would fall outside (2.5% in each direction).\n",
        "\n",
        "This is why we call this the 95% confidence interval. A **confidence interval** is a 'plausible range of values' for a population parameter (in this case, the mean).\n",
        "\n",
        "Let's calculate the upper and lower bounds of this interval:"
      ],
      "metadata": {
        "id": "lXLIHJpSh1eF"
      }
    },
    {
      "cell_type": "code",
      "execution_count": null,
      "metadata": {
        "id": "TVkP9cq10zGy",
        "colab": {
          "base_uri": "https://localhost:8080/"
        },
        "outputId": "cfc2cfa0-ce0a-4477-8ffa-1b9483afe4aa"
      },
      "outputs": [
        {
          "output_type": "execute_result",
          "data": {
            "text/plain": [
              "0    4.039519\n",
              "dtype: float64"
            ]
          },
          "metadata": {},
          "execution_count": 61
        }
      ],
      "source": [
        "# upper bound of the confidence interval\n",
        "np.mean(squirrels) + stats.sem(squirrels)*2\n",
        "\n",
        "# if you want the results to match with the manual calculation below,\n",
        "# change the \"2\" for a \"1.96\""
      ]
    },
    {
      "cell_type": "code",
      "execution_count": null,
      "metadata": {
        "id": "LHxMUQzQ0zGy",
        "colab": {
          "base_uri": "https://localhost:8080/"
        },
        "outputId": "391235f8-a51c-4b9a-f48f-139e3cafdf45"
      },
      "outputs": [
        {
          "output_type": "execute_result",
          "data": {
            "text/plain": [
              "0    2.659073\n",
              "dtype: float64"
            ]
          },
          "metadata": {},
          "execution_count": 62
        }
      ],
      "source": [
        "# lower bound of the confidence interval\n",
        "np.mean(squirrels) - stats.sem(squirrels)*2\n",
        "\n",
        "# if you want the results to match with the manual calculation below,\n",
        "# change the \"2\" for a \"1.96\""
      ]
    },
    {
      "cell_type": "code",
      "execution_count": null,
      "metadata": {
        "id": "kHq5RXD40zGy",
        "colab": {
          "base_uri": "https://localhost:8080/"
        },
        "outputId": "41f17bf4-5622-445d-ed3e-2c9b340092ec"
      },
      "outputs": [
        {
          "output_type": "execute_result",
          "data": {
            "text/plain": [
              "(array([3.3443989]), array([3.42989381]))"
            ]
          },
          "metadata": {},
          "execution_count": 82
        }
      ],
      "source": [
        "# using scipy to calculate the confidence interval:\n",
        "stats.norm.interval(alpha=0.95, # the confidence level\n",
        "                 loc=np.mean(squirrels), # mean of our sample\n",
        "                 scale=stats.sem(squirrels)) # standard error of the mean"
      ]
    },
    {
      "cell_type": "markdown",
      "metadata": {
        "id": "gUZEvB0z0zGz"
      },
      "source": [
        "We have made some estimations that might be imperfect, for example when calculating the Standard Error. And our sample is not really big (only 50 squirrels). If we want an extra degree of confidence or, in other words, a more conservative estimate of the confidence interval, we can use a t-distribution instead of a normal distribution.\n",
        "\n",
        "A t distribution is 'flatter' and has 'fat tails' for small populations, and is indistinguishable from a normal distribution for bigger populations.\n",
        "\n"
      ]
    },
    {
      "cell_type": "code",
      "source": [
        "# generating a t distribution\n",
        "sampling_t_dist_squirrels = stats.t.rvs(loc=mean_squirrels, # The mean of the sample.\n",
        "                                        scale=sem_squirrels, # An estimation of the standard error.\n",
        "                                        df=len(squirrels), # Our sample size\n",
        "                                        size=100000,\n",
        "                                        random_state=123\n",
        "                                         )\n",
        "\n",
        "sampling_t_dist_squirrels = pd.Series(sampling_t_dist_squirrels)\n",
        "\n",
        "sampling_t_dist_squirrels.hist(bins=30, figsize=(14, 8));"
      ],
      "metadata": {
        "id": "ZsWVzwV8nL62",
        "colab": {
          "base_uri": "https://localhost:8080/",
          "height": 483
        },
        "outputId": "9c3b5c50-e88d-4e6b-9f28-edfbb4ddfc19"
      },
      "execution_count": null,
      "outputs": [
        {
          "output_type": "display_data",
          "data": {
            "text/plain": [
              "<Figure size 1008x576 with 1 Axes>"
            ],
            "image/png": "[encoded data removed]"
          },
          "metadata": {
            "needs_background": "light"
          }
        }
      ]
    },
    {
      "cell_type": "markdown",
      "source": [
        "The confidence interval is slightly thinner if we use a normal distribution:"
      ],
      "metadata": {
        "id": "a_i52a6qnMxF"
      }
    },
    {
      "cell_type": "code",
      "execution_count": null,
      "metadata": {
        "id": "iamLy3JL0zGy",
        "colab": {
          "base_uri": "https://localhost:8080/"
        },
        "outputId": "7d16798c-6b28-44f6-bf64-bba630abcda2"
      },
      "outputs": [
        {
          "output_type": "execute_result",
          "data": {
            "text/plain": [
              "(array([2.65576798]), array([4.0428238]))"
            ]
          },
          "metadata": {},
          "execution_count": 66
        }
      ],
      "source": [
        "# using a t distribution:\n",
        "t_interval = stats.t.interval(\n",
        "            0.95, # the confidence level\n",
        "            len(squirrels)-1, # degrees of freedom = sample size - 1\n",
        "            loc=np.mean(squirrels), # mean of our sample\n",
        "            scale=stats.sem(squirrels) # standard error of the mean\n",
        "            )\n",
        "\n",
        "t_interval"
      ]
    },
    {
      "cell_type": "markdown",
      "source": [
        "### **Exercise 3:**\n",
        "\n",
        "Did the true mean really fall within the 95% confidence interval?"
      ],
      "metadata": {
        "id": "3Ujg7PSRmnj1"
      }
    },
    {
      "cell_type": "code",
      "execution_count": null,
      "metadata": {
        "id": "XeV6AvfA0zGz"
      },
      "outputs": [],
      "source": [
        "\n",
        "if (float(pop_mean) > t_interval[0][0]) & (float(pop_mean) < t_interval[1][0]):\n",
        "  print(\"yes\")"
      ]
    },
    {
      "cell_type": "markdown",
      "source": [
        "Probably yes, but beware: by definition, 5% of the time it will not!\n",
        "\n",
        "### **Exercise 4**: \n",
        "Can you run the experiment 10,000 times and prove it?"
      ],
      "metadata": {
        "id": "Xyci-4zZ0zGz"
      }
    },
    {
      "cell_type": "code",
      "source": [
        "# your code here\n",
        "counter = 0\n",
        "\n",
        "for i in range(10000):\n",
        "  i_sample = pop.sample(50)\n",
        "  t_interval = stats.t.interval(\n",
        "    0.95, # the confidence level\n",
        "    len(i_sample)-1, # degrees of freedom = sample size - 1\n",
        "    loc=np.mean(i_sample), # mean of our sample\n",
        "    scale=stats.sem(i_sample) # standard error of the mean\n",
        "    )\n",
        "  if (float(pop_mean) > t_interval[0][0]) & (float(pop_mean) < t_interval[1][0]):\n",
        "    counter += 1\n",
        "\n",
        "print(\"The true mean falls inside the confidence interval \" + str(counter) + \" times\")"
      ],
      "metadata": {
        "id": "vlEwGVWPmzcG",
        "colab": {
          "base_uri": "https://localhost:8080/"
        },
        "outputId": "a7c097fc-3d3a-49a4-ba5d-ec63f14002da"
      },
      "execution_count": null,
      "outputs": [
        {
          "output_type": "stream",
          "name": "stdout",
          "text": [
            "The true mean falls inside the confidence interval 9524 times\n"
          ]
        }
      ]
    }
  ],
  "metadata": {
    "kernelspec": {
      "display_name": "Python 3",
      "language": "python",
      "name": "python3"
    },
    "language_info": {
      "codemirror_mode": {
        "name": "ipython",
        "version": 3
      },
      "file_extension": ".py",
      "mimetype": "text/x-python",
      "name": "python",
      "nbconvert_exporter": "python",
      "pygments_lexer": "ipython3",
      "version": "3.9.7"
    },
    "toc": {
      "base_numbering": 1,
      "nav_menu": {},
      "number_sections": true,
      "sideBar": true,
      "skip_h1_title": false,
      "title_cell": "Table of Contents",
      "title_sidebar": "Contents",
      "toc_cell": false,
      "toc_position": {},
      "toc_section_display": true,
      "toc_window_display": false
    },
    "varInspector": {
      "cols": {
        "lenName": 16,
        "lenType": 16,
        "lenVar": 40
      },
      "kernels_config": {
        "python": {
          "delete_cmd_postfix": "",
          "delete_cmd_prefix": "del ",
          "library": "var_list.py",
          "varRefreshCmd": "print(var_dic_list())"
        },
        "r": {
          "delete_cmd_postfix": ") ",
          "delete_cmd_prefix": "rm(",
          "library": "var_list.r",
          "varRefreshCmd": "cat(var_dic_list()) "
        }
      },
      "types_to_exclude": [
        "module",
        "function",
        "builtin_function_or_method",
        "instance",
        "_Feature"
      ],
      "window_display": false
    },
    "colab": {
      "provenance": [],
      "include_colab_link": true
    }
  },
  "nbformat": 4,
  "nbformat_minor": 0
}