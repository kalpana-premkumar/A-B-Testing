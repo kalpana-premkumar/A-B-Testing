{
  "nbformat": 4,
  "nbformat_minor": 0,
  "metadata": {
    "colab": {
      "provenance": [],
      "mount_file_id": "1oqosO1MIblHAlNwamEvmEwjXWeEugYRk",
      "authorship_tag": "ABX9TyMrfeuSgyH9yXFUTkIbkLtN",
      "include_colab_link": true
    },
    "kernelspec": {
      "name": "python3",
      "display_name": "Python 3"
    },
    "language_info": {
      "name": "python"
    }
  },
  "cells": [
    {
      "cell_type": "markdown",
      "metadata": {
        "id": "view-in-github",
        "colab_type": "text"
      },
      "source": [
        "<a href=\"https://colab.research.google.com/github/kalpana-premkumar/A-B-Testing/blob/main/Montana_project.ipynb\" target=\"_parent\"><img src=\"https://colab.research.google.com/assets/colab-badge.svg\" alt=\"Open In Colab\"/></a>"
      ]
    },
    {
      "cell_type": "markdown",
      "source": [
        "Info :\n",
        "•\tAdditional Info:\n",
        "•\tNo of visits:10819\n",
        "•\tFind(35%):3786\n",
        "•\tRequest(6%) 649\n",
        "•\tInteract(2%)218\n"
      ],
      "metadata": {
        "id": "tSQguI0ZdO2z"
      }
    },
    {
      "cell_type": "markdown",
      "source": [
        "## •** Qno:1\tWould you include all suggested variants in the experiment (Connect, Learn, Help, Services)? **\n",
        "\n",
        "Because all the three responses mentioned Help and Services in the second position. Also mentioned connect and Interact are too vague and doesn’t gives any real meaning. And even Learn was their last preference. Came to a conclusion\n",
        "Help, Services are the most preferred category for Experimenting.\n",
        "If we have enough time, can work on four categories too..\n"
      ],
      "metadata": {
        "id": "DdAcbwu8dZmf"
      }
    },
    {
      "cell_type": "markdown",
      "source": [
        "# **Qno:2\tWhat is the “business value” that performing this experiment would add within the broader strategy of the University?**\n",
        "\n",
        "•\tBusiness value (here)- Increased no of visitors, increased amount of Time spent, Increased usage of learning materials like articles, magazines (Tech, Economy,…), Increased no of events like workshops, seminars, Increased no of research and publications by students.\n",
        "Then we can use Average amount of hours spent as a metric , Avg. no of Events, Average No of books or articles referred , published\n"
      ],
      "metadata": {
        "id": "tEElE9CAdm2t"
      }
    },
    {
      "cell_type": "markdown",
      "source": [
        "## **Qno:3 •\tWhich main metric would you choose to measure the success of a variant and perform the experiment on?**\n",
        "\n",
        "•\tClick-through rate:\n",
        "![image.png](data:image/png;base64,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)"
      ],
      "metadata": {
        "id": "wYMsfV3YeVav"
      }
    },
    {
      "cell_type": "markdown",
      "source": [
        "### **Qno:4 •\tWhich additional metrics would you choose to track?**\n",
        "\n",
        "Time_spent=amount of time spent in landing page per click\n",
        "\n",
        "Lower Bounce Rate: If your website visitors leave (or \"bounce\") quickly after visiting your website, testing different blog post introductions, fonts, or featured images can reduce this bounce rate and retain more visitors\n"
      ],
      "metadata": {
        "id": "SZOdmYDze6cE"
      }
    },
    {
      "cell_type": "markdown",
      "source": [
        "## **Qno:5 •\tHow would you define the null and the alternative hypotheses?**\n",
        "\n",
        "•\tNull Hypothesis:\n",
        "There is no significant difference between the old Webpage (with interact) and new Webpage (with Help or Services).\n",
        "\n",
        "Alternate Hypothesis:\n",
        "There is significant difference between the old Webpage (with interact) and new Webpage (with Help or Services).\n"
      ],
      "metadata": {
        "id": "BBJ8lbflfKUf"
      }
    },
    {
      "cell_type": "markdown",
      "source": [
        "## **Qno:6 •\tWhat threshold for statistical significance would you set?**\n",
        "The statistical significance level here is 0.1 (90%) or 0.05(95%)\n",
        "Significance\n",
        "“Statistical significance helps quantify whether a result is likely due to chance or to some factor of interest”.\n",
        "It basically ensures whether the results of your test are trustworthy or not.\n",
        "Ton(researcher) recommends starting with at least a 90% significance level, so you lessen the chances of declaring a winner, when in reality, your changes had no effects on the results.\n",
        "Power\n",
        "“Statistical power is the likelihood that an experiment will detect an effect when there is an effect there to be detected”.\n",
        "Power depends on:\n",
        "•\tSample size\n",
        "•\tEffect size\n",
        "•\tSignificance level\n",
        "When you start, try to test on pages with a high power (at least 80%!). Otherwise, you will not detect effects when there is an effect to be detected. In short, you will be missing out on significant outcomes on your optimization effort. Ultimately, it is less money for your company\n"
      ],
      "metadata": {
        "id": "KPysQtfsfhgo"
      }
    },
    {
      "cell_type": "markdown",
      "source": [
        "## **Qno:7 •\tWhat is the minimum detectable effect (the smallest improvement you would care about) that you expect to detect?**\n",
        "\n",
        "Increase in number of clicks or CTR\n"
      ],
      "metadata": {
        "id": "r7yQpDUfgohl"
      }
    },
    {
      "cell_type": "markdown",
      "source": [
        "## **Qno:8 •\tDo you think this experiment would require a software engineering team to develop a custom platform, or could it be developed with external tools such as Google Optimize?**\n",
        "\n",
        "Instead of hiring software engineering to develop a custom platform,.\n",
        "Can use free testing tools like Google Optimize, Optimizely,omniconvert.\n",
        "\n",
        "Best A/B Testing Tools\n",
        "•\tHubSpot's A/B Testing Kit.\n",
        "•\tGoogle Optimize.\n",
        "•\tFreshmarketer.\n",
        "•\tVWO.\n",
        "•\tOptimizely.\n",
        "•\tOmniconvert.\n",
        "•\tCrazy Egg.\n",
        "•\tAB Tasty.\n",
        "•\tPiwik\n",
        "•\tAdobe Analytics\n",
        "•\tKissmetrics,\n",
        "•\tMixpanel,\n",
        "•\tParse.ly,\n",
        "•\tCrazyEgg\n",
        "•\tUnbounce\n",
        "\n",
        "\n"
      ],
      "metadata": {
        "id": "ZBAHY874g-y_"
      }
    },
    {
      "cell_type": "code",
      "source": [
        "import pandas as pd\n",
        "import numpy as np\n",
        "import matplotlib.pyplot as plt\n"
      ],
      "metadata": {
        "id": "qSp28gPXeK57"
      },
      "execution_count": 1,
      "outputs": []
    },
    {
      "cell_type": "code",
      "execution_count": null,
      "metadata": {
        "id": "iL19f35NYLeO"
      },
      "outputs": [],
      "source": [
        "#Snapshot informat e.google.com/file/d/147pq6MjfmbWP2s56HyMAGRwFlHgvRruX/view\"\n",
        "path = \"https://drive.google.com/uc?export=download&id=\"+url.split(\"/\")[-2]\n",
        "interact= pd.read_csv(path, sep =\",\")\n",
        "\n",
        "url=\"https://drive.google.com/file/d/1xH-oZXzjGP33he0-sf8PPsoy5hyeXiwf/view?usp=sharing\"\n",
        "path = \"https://drive.google.com/uc?export=download&id=\"+url.split(\"/\")[-2]\n",
        "connect= pd.read_csv(path, sep =\",\")\n",
        "\n",
        "url=\"https://drive.google.com/file/d/1QZxhxiia90_Lp6dSO38VEI-SdIyDrDjs/view?usp=sharing\"\n",
        "path = \"https://drive.google.com/uc?export=download&id=\"+url.split(\"/\")[-2]\n",
        "learn= pd.read_csv(path, sep =\",\")\n",
        "\n",
        "url=\"https://drive.google.com/file/d/1d2Hoa61WKuOnfJRy4r0i5kMqhiqna5H7/view?usp=sharing\"\n",
        "path = \"https://drive.google.com/uc?export=download&id=\"+url.split(\"/\")[-2]\n",
        "help= pd.read_csv(path, sep =\",\")\n",
        "\n",
        "url=\"https://drive.google.com/file/d/1T-lp5NgukvsPXpTmo_rm9YtLTAzU8VTc/view?usp=sharing\"\n",
        "path = \"https://drive.google.com/uc?export=download&id=\"+url.split(\"/\")[-2]\n",
        "services= pd.read_csv(path, sep =\",\")\n",
        "\n",
        "#filepath_1 =r\"C:\\Users\\kalpa\\OneDrive\\Desktop\\bootcamp\\Montana\\Element list Homepage Version 1 - Interact, 5-29-2013.csv\"\n",
        "#filepath_2 = r\"C:\\Users\\kalpa\\OneDrive\\Desktop\\bootcamp\\Montana\\Element list Homepage Version 2 - Connect, 5-29-2013.csv\"\n",
        "#filepath_3 = r\"C:\\Users\\kalpa\\OneDrive\\Desktop\\bootcamp\\Montana\\Element list Homepage Version 3 - Learn, 5-29-2013.csv\"\n",
        "#filepath_4 = r\"C:\\Users\\kalpa\\OneDrive\\Desktop\\bootcamp\\Montana\\Element list Homepage Version 4 - Help, 5-29-2013.csv\"\n",
        "#filepath_5 = r\"C:\\Users\\kalpa\\OneDrive\\Desktop\\bootcamp\\Montana\\Element list Homepage Version 5 - Services, 5-29-2013.csv\"\n",
        "\n",
        "#version1\n",
        "#version2= pd.read_csv(filepath_2, sep =\",\")\n",
        "#version3 = pd.read_csv(filepath_3, sep =\",\")\n",
        "#version4 = pd.read_csv(filepath_4, sep =\",\")\n",
        "#version5 = pd.read_csv(filepath_5, sep =\",\")\n",
        "\n"
      ]
    },
    {
      "cell_type": "markdown",
      "source": [
        "### **Version 1**"
      ],
      "metadata": {
        "id": "VAuXWODW06ee"
      }
    },
    {
      "cell_type": "code",
      "source": [
        "#clicks_interact=interact.loc[interact.Name==\"INTERACT\",\"No.clicks \"]\n",
        "#interact.info()\n",
        "interact.rename(columns={ \"Tag name\" :\"Tag_name\",\"No. clicks\":\"clicks\"},inplace=True)\n"
      ],
      "metadata": {
        "id": "7VB7AvnIr2Jn"
      },
      "execution_count": null,
      "outputs": []
    },
    {
      "cell_type": "code",
      "source": [
        "# Getting the no of clicks for Interact\n",
        "clicks_interact_ver1=interact.loc[interact.Name==\"INTERACT\",\"clicks\"].sum()\n",
        "clicks_interact_ver1\n",
        "#interact.info()"
      ],
      "metadata": {
        "colab": {
          "base_uri": "https://localhost:8080/"
        },
        "id": "UaX4uA1rufZz",
        "outputId": "0cbfd268-5b8e-40d6-82cc-f7888fdf4908"
      },
      "execution_count": null,
      "outputs": [
        {
          "output_type": "execute_result",
          "data": {
            "text/plain": [
              "42"
            ]
          },
          "metadata": {},
          "execution_count": 75
        }
      ]
    },
    {
      "cell_type": "code",
      "source": [
        "# Getting the no of clicks for Find\n",
        "clicks_find_ver1=interact.loc[interact.Name==\"FIND\",\"clicks\"].sum()\n",
        "clicks_find_ver1\n",
        "#interact.info()"
      ],
      "metadata": {
        "colab": {
          "base_uri": "https://localhost:8080/"
        },
        "id": "WMS3PbW6yGsB",
        "outputId": "bc9e2abc-6ac4-4a28-f9db-723ce18278d7"
      },
      "execution_count": null,
      "outputs": [
        {
          "output_type": "execute_result",
          "data": {
            "text/plain": [
              "842"
            ]
          },
          "metadata": {},
          "execution_count": 76
        }
      ]
    },
    {
      "cell_type": "code",
      "source": [
        "interact"
      ],
      "metadata": {
        "colab": {
          "base_uri": "https://localhost:8080/",
          "height": 423
        },
        "id": "ogQIYv3gzO1T",
        "outputId": "2eb419da-c0e3-4748-9c90-ad290bdd5cc4"
      },
      "execution_count": null,
      "outputs": [
        {
          "output_type": "execute_result",
          "data": {
            "text/plain": [
              "    Element ID Tag_name                                               Name  \\\n",
              "0          128     area                    Montana State University - Home   \n",
              "1           69        a                                               FIND   \n",
              "2           61    input                                                s.q   \n",
              "3           67        a                              lib.montana.edu/find/   \n",
              "4           78        a                                            REQUEST   \n",
              "..         ...      ...                                                ...   \n",
              "64         133      img  intext-a.akamaihd.net/items/it/img/assets/g9v.jpg   \n",
              "65         134      div                                          index.php   \n",
              "66         135      div      montana.summon.serialssolutions.com/advanced/   \n",
              "67         136      div                                        montana.edu   \n",
              "68         138      div      montana.summon.serialssolutions.com/advanced/   \n",
              "\n",
              "    clicks  Visible?                               Snapshot information  \n",
              "0     1291     False  Homepage Version 1 - Interact   •   http://www...  \n",
              "1      842      True  created 5-29-2013   •   20 days 4 hours 21 min...  \n",
              "2      508      True                                                NaN  \n",
              "3      166      True                                                NaN  \n",
              "4      151      True                                                NaN  \n",
              "..     ...       ...                                                ...  \n",
              "64       1     False                                                NaN  \n",
              "65       1     False                                                NaN  \n",
              "66       1     False                                                NaN  \n",
              "67       1     False                                                NaN  \n",
              "68       1     False                                                NaN  \n",
              "\n",
              "[69 rows x 6 columns]"
            ],
            "text/html": [
              "\n",
              "  <div id=\"df-5c440c3b-e885-440a-87cf-c93e0a6912a3\">\n",
              "    <div class=\"colab-df-container\">\n",
              "      <div>\n",
              "<style scoped>\n",
              "    .dataframe tbody tr th:only-of-type {\n",
              "        vertical-align: middle;\n",
              "    }\n",
              "\n",
              "    .dataframe tbody tr th {\n",
              "        vertical-align: top;\n",
              "    }\n",
              "\n",
              "    .dataframe thead th {\n",
              "        text-align: right;\n",
              "    }\n",
              "</style>\n",
              "<table border=\"1\" class=\"dataframe\">\n",
              "  <thead>\n",
              "    <tr style=\"text-align: right;\">\n",
              "      <th></th>\n",
              "      <th>Element ID</th>\n",
              "      <th>Tag_name</th>\n",
              "      <th>Name</th>\n",
              "      <th>clicks</th>\n",
              "      <th>Visible?</th>\n",
              "      <th>Snapshot information</th>\n",
              "    </tr>\n",
              "  </thead>\n",
              "  <tbody>\n",
              "    <tr>\n",
              "      <th>0</th>\n",
              "      <td>128</td>\n",
              "      <td>area</td>\n",
              "      <td>Montana State University - Home</td>\n",
              "      <td>1291</td>\n",
              "      <td>False</td>\n",
              "      <td>Homepage Version 1 - Interact   •   http://www...</td>\n",
              "    </tr>\n",
              "    <tr>\n",
              "      <th>1</th>\n",
              "      <td>69</td>\n",
              "      <td>a</td>\n",
              "      <td>FIND</td>\n",
              "      <td>842</td>\n",
              "      <td>True</td>\n",
              "      <td>created 5-29-2013   •   20 days 4 hours 21 min...</td>\n",
              "    </tr>\n",
              "    <tr>\n",
              "      <th>2</th>\n",
              "      <td>61</td>\n",
              "      <td>input</td>\n",
              "      <td>s.q</td>\n",
              "      <td>508</td>\n",
              "      <td>True</td>\n",
              "      <td>NaN</td>\n",
              "    </tr>\n",
              "    <tr>\n",
              "      <th>3</th>\n",
              "      <td>67</td>\n",
              "      <td>a</td>\n",
              "      <td>lib.montana.edu/find/</td>\n",
              "      <td>166</td>\n",
              "      <td>True</td>\n",
              "      <td>NaN</td>\n",
              "    </tr>\n",
              "    <tr>\n",
              "      <th>4</th>\n",
              "      <td>78</td>\n",
              "      <td>a</td>\n",
              "      <td>REQUEST</td>\n",
              "      <td>151</td>\n",
              "      <td>True</td>\n",
              "      <td>NaN</td>\n",
              "    </tr>\n",
              "    <tr>\n",
              "      <th>...</th>\n",
              "      <td>...</td>\n",
              "      <td>...</td>\n",
              "      <td>...</td>\n",
              "      <td>...</td>\n",
              "      <td>...</td>\n",
              "      <td>...</td>\n",
              "    </tr>\n",
              "    <tr>\n",
              "      <th>64</th>\n",
              "      <td>133</td>\n",
              "      <td>img</td>\n",
              "      <td>intext-a.akamaihd.net/items/it/img/assets/g9v.jpg</td>\n",
              "      <td>1</td>\n",
              "      <td>False</td>\n",
              "      <td>NaN</td>\n",
              "    </tr>\n",
              "    <tr>\n",
              "      <th>65</th>\n",
              "      <td>134</td>\n",
              "      <td>div</td>\n",
              "      <td>index.php</td>\n",
              "      <td>1</td>\n",
              "      <td>False</td>\n",
              "      <td>NaN</td>\n",
              "    </tr>\n",
              "    <tr>\n",
              "      <th>66</th>\n",
              "      <td>135</td>\n",
              "      <td>div</td>\n",
              "      <td>montana.summon.serialssolutions.com/advanced/</td>\n",
              "      <td>1</td>\n",
              "      <td>False</td>\n",
              "      <td>NaN</td>\n",
              "    </tr>\n",
              "    <tr>\n",
              "      <th>67</th>\n",
              "      <td>136</td>\n",
              "      <td>div</td>\n",
              "      <td>montana.edu</td>\n",
              "      <td>1</td>\n",
              "      <td>False</td>\n",
              "      <td>NaN</td>\n",
              "    </tr>\n",
              "    <tr>\n",
              "      <th>68</th>\n",
              "      <td>138</td>\n",
              "      <td>div</td>\n",
              "      <td>montana.summon.serialssolutions.com/advanced/</td>\n",
              "      <td>1</td>\n",
              "      <td>False</td>\n",
              "      <td>NaN</td>\n",
              "    </tr>\n",
              "  </tbody>\n",
              "</table>\n",
              "<p>69 rows × 6 columns</p>\n",
              "</div>\n",
              "      <button class=\"colab-df-convert\" onclick=\"convertToInteractive('df-5c440c3b-e885-440a-87cf-c93e0a6912a3')\"\n",
              "              title=\"Convert this dataframe to an interactive table.\"\n",
              "              style=\"display:none;\">\n",
              "        \n",
              "  <svg xmlns=\"http://www.w3.org/2000/svg\" height=\"24px\"viewBox=\"0 0 24 24\"\n",
              "       width=\"24px\">\n",
              "    <path d=\"M0 0h24v24H0V0z\" fill=\"none\"/>\n",
              "    <path d=\"M18.56 5.44l.94 2.06.94-2.06 2.06-.94-2.06-.94-.94-2.06-.94 2.06-2.06.94zm-11 1L8.5 8.5l.94-2.06 2.06-.94-2.06-.94L8.5 2.5l-.94 2.06-2.06.94zm10 10l.94 2.06.94-2.06 2.06-.94-2.06-.94-.94-2.06-.94 2.06-2.06.94z\"/><path d=\"M17.41 7.96l-1.37-1.37c-.4-.4-.92-.59-1.43-.59-.52 0-1.04.2-1.43.59L10.3 9.45l-7.72 7.72c-.78.78-.78 2.05 0 2.83L4 21.41c.39.39.9.59 1.41.59.51 0 1.02-.2 1.41-.59l7.78-7.78 2.81-2.81c.8-.78.8-2.07 0-2.86zM5.41 20L4 18.59l7.72-7.72 1.47 1.35L5.41 20z\"/>\n",
              "  </svg>\n",
              "      </button>\n",
              "      \n",
              "  <style>\n",
              "    .colab-df-container {\n",
              "      display:flex;\n",
              "      flex-wrap:wrap;\n",
              "      gap: 12px;\n",
              "    }\n",
              "\n",
              "    .colab-df-convert {\n",
              "      background-color: #E8F0FE;\n",
              "      border: none;\n",
              "      border-radius: 50%;\n",
              "      cursor: pointer;\n",
              "      display: none;\n",
              "      fill: #1967D2;\n",
              "      height: 32px;\n",
              "      padding: 0 0 0 0;\n",
              "      width: 32px;\n",
              "    }\n",
              "\n",
              "    .colab-df-convert:hover {\n",
              "      background-color: #E2EBFA;\n",
              "      box-shadow: 0px 1px 2px rgba(60, 64, 67, 0.3), 0px 1px 3px 1px rgba(60, 64, 67, 0.15);\n",
              "      fill: #174EA6;\n",
              "    }\n",
              "\n",
              "    [theme=dark] .colab-df-convert {\n",
              "      background-color: #3B4455;\n",
              "      fill: #D2E3FC;\n",
              "    }\n",
              "\n",
              "    [theme=dark] .colab-df-convert:hover {\n",
              "      background-color: #434B5C;\n",
              "      box-shadow: 0px 1px 3px 1px rgba(0, 0, 0, 0.15);\n",
              "      filter: drop-shadow(0px 1px 2px rgba(0, 0, 0, 0.3));\n",
              "      fill: #FFFFFF;\n",
              "    }\n",
              "  </style>\n",
              "\n",
              "      <script>\n",
              "        const buttonEl =\n",
              "          document.querySelector('#df-5c440c3b-e885-440a-87cf-c93e0a6912a3 button.colab-df-convert');\n",
              "        buttonEl.style.display =\n",
              "          google.colab.kernel.accessAllowed ? 'block' : 'none';\n",
              "\n",
              "        async function convertToInteractive(key) {\n",
              "          const element = document.querySelector('#df-5c440c3b-e885-440a-87cf-c93e0a6912a3');\n",
              "          const dataTable =\n",
              "            await google.colab.kernel.invokeFunction('convertToInteractive',\n",
              "                                                     [key], {});\n",
              "          if (!dataTable) return;\n",
              "\n",
              "          const docLinkHtml = 'Like what you see? Visit the ' +\n",
              "            '<a target=\"_blank\" href=https://colab.research.google.com/notebooks/data_table.ipynb>data table notebook</a>'\n",
              "            + ' to learn more about interactive tables.';\n",
              "          element.innerHTML = '';\n",
              "          dataTable['output_type'] = 'display_data';\n",
              "          await google.colab.output.renderOutput(dataTable, element);\n",
              "          const docLink = document.createElement('div');\n",
              "          docLink.innerHTML = docLinkHtml;\n",
              "          element.appendChild(docLink);\n",
              "        }\n",
              "      </script>\n",
              "    </div>\n",
              "  </div>\n",
              "  "
            ]
          },
          "metadata": {},
          "execution_count": 77
        }
      ]
    },
    {
      "cell_type": "code",
      "source": [
        "clicks_request_ver1=interact.loc[interact.Name==\"REQUEST\",\"clicks\"].sum()\n",
        "clicks_request_ver1"
      ],
      "metadata": {
        "colab": {
          "base_uri": "https://localhost:8080/"
        },
        "id": "sRZNWdscxBqE",
        "outputId": "9beaa00b-2476-4c82-df13-d6acee2f2922"
      },
      "execution_count": null,
      "outputs": [
        {
          "output_type": "execute_result",
          "data": {
            "text/plain": [
              "151"
            ]
          },
          "metadata": {},
          "execution_count": 78
        }
      ]
    },
    {
      "cell_type": "code",
      "source": [
        "#calcuting the no of clicks for Interact\n",
        "#Total_clicks_ver1=interact.clicks.sum()\n",
        "noclicks_interact_ver1= 10283- clicks_interact_ver1\n",
        "noclicks_requset_ver1=10283- clicks_request_ver1\n",
        "noclicks_find_ver1=10283- clicks_find_ver1\n",
        "clicks_interact_ver1,noclicks_interact_ver1,noclicks_requset_ver1,noclicks_find_ver1"
      ],
      "metadata": {
        "colab": {
          "base_uri": "https://localhost:8080/"
        },
        "id": "TcHO8Z-YwKfa",
        "outputId": "9d5b48aa-3319-446f-fc55-c26133f52c7d"
      },
      "execution_count": null,
      "outputs": [
        {
          "output_type": "execute_result",
          "data": {
            "text/plain": [
              "(42, 10241, 10132, 9441)"
            ]
          },
          "metadata": {},
          "execution_count": 79
        }
      ]
    },
    {
      "cell_type": "code",
      "source": [
        "# calculating click through rate version 2\n",
        "ctr_ver1=clicks_interact_ver1/10283 # total visits from .csv\n",
        "per_interact_click=ctr_ver1*100\n",
        "ctr_ver1,per_interact_click"
      ],
      "metadata": {
        "colab": {
          "base_uri": "https://localhost:8080/"
        },
        "id": "aS-KvrwW-19K",
        "outputId": "d856d32c-7dea-48f9-a84c-5e2579e84114"
      },
      "execution_count": null,
      "outputs": [
        {
          "output_type": "execute_result",
          "data": {
            "text/plain": [
              "(0.0040844111640571815, 0.4084411164057182)"
            ]
          },
          "metadata": {},
          "execution_count": 80
        }
      ]
    },
    {
      "cell_type": "code",
      "source": [
        "#calculating Homepage-return rate for the category pages version 1 Metric 3\n",
        "Homepage_return_rate_ver1=2030/ 3714 # values from heatmap pdf\n",
        "Homepage_return_rate_ver1"
      ],
      "metadata": {
        "colab": {
          "base_uri": "https://localhost:8080/"
        },
        "id": "IE3JJcuIuXdf",
        "outputId": "6998911e-1b47-4a07-8ccf-8776152d8e4e"
      },
      "execution_count": null,
      "outputs": [
        {
          "output_type": "execute_result",
          "data": {
            "text/plain": [
              "0.5465805061927841"
            ]
          },
          "metadata": {},
          "execution_count": 81
        }
      ]
    },
    {
      "cell_type": "code",
      "source": [
        "# 30% of version1 clicks\n",
        "exp_clicks_ver1=round(0.3*10823,0)\n",
        "exp_clicks_ver1\n"
      ],
      "metadata": {
        "colab": {
          "base_uri": "https://localhost:8080/"
        },
        "id": "1spjHsK9I-TG",
        "outputId": "3ccbb290-3eab-4b80-9756-ee21a7d4fc83"
      },
      "execution_count": null,
      "outputs": [
        {
          "output_type": "execute_result",
          "data": {
            "text/plain": [
              "3247.0"
            ]
          },
          "metadata": {},
          "execution_count": 82
        }
      ]
    },
    {
      "cell_type": "markdown",
      "source": [
        "**Version 2**"
      ],
      "metadata": {
        "id": "DLnKo9v50u82"
      }
    },
    {
      "cell_type": "code",
      "source": [
        "connect.iloc[:,-1]\n"
      ],
      "metadata": {
        "colab": {
          "base_uri": "https://localhost:8080/"
        },
        "id": "jtMuBEVSx1bM",
        "outputId": "c3622387-b495-45d9-f2a4-e21cc788b61d"
      },
      "execution_count": null,
      "outputs": [
        {
          "output_type": "execute_result",
          "data": {
            "text/plain": [
              "0     Homepage Version 2 - Connect   •   http://www....\n",
              "1     created 5-29-2013   •   20 days 7 hours 34 min...\n",
              "2                                                   NaN\n",
              "3                                                   NaN\n",
              "4                                                   NaN\n",
              "5                                                   NaN\n",
              "6                                                   NaN\n",
              "7                                                   NaN\n",
              "8                                                   NaN\n",
              "9                                                   NaN\n",
              "10                                                  NaN\n",
              "11                                                  NaN\n",
              "12                                                  NaN\n",
              "13                                                  NaN\n",
              "14                                                  NaN\n",
              "15                                                  NaN\n",
              "16                                                  NaN\n",
              "17                                                  NaN\n",
              "18                                                  NaN\n",
              "19                                                  NaN\n",
              "20                                                  NaN\n",
              "21                                                  NaN\n",
              "22                                                  NaN\n",
              "23                                                  NaN\n",
              "24                                                  NaN\n",
              "25                                                  NaN\n",
              "26                                                  NaN\n",
              "27                                                  NaN\n",
              "28                                                  NaN\n",
              "29                                                  NaN\n",
              "30                                                  NaN\n",
              "31                                                  NaN\n",
              "32                                                  NaN\n",
              "33                                                  NaN\n",
              "34                                                  NaN\n",
              "35                                                  NaN\n",
              "36                                                  NaN\n",
              "37                                                  NaN\n",
              "38                                                  NaN\n",
              "39                                                  NaN\n",
              "40                                                  NaN\n",
              "41                                                  NaN\n",
              "42                                                  NaN\n",
              "43                                                  NaN\n",
              "44                                                  NaN\n",
              "45                                                  NaN\n",
              "46                                                  NaN\n",
              "47                                                  NaN\n",
              "48                                                  NaN\n",
              "49                                                  NaN\n",
              "50                                                  NaN\n",
              "51                                                  NaN\n",
              "52                                                  NaN\n",
              "53                                                  NaN\n",
              "54                                                  NaN\n",
              "55                                                  NaN\n",
              "56                                                  NaN\n",
              "57                                                  NaN\n",
              "Name: Snapshot information, dtype: object"
            ]
          },
          "metadata": {},
          "execution_count": 83
        }
      ]
    },
    {
      "cell_type": "code",
      "source": [
        "#Renaming the columns\n",
        "connect.rename(columns={ \"Tag name\" :\"Tag_name\",\"No. clicks\":\"clicks\"},inplace=True)"
      ],
      "metadata": {
        "id": "F4NwVL_11Hqz"
      },
      "execution_count": null,
      "outputs": []
    },
    {
      "cell_type": "code",
      "source": [
        "#Calculating no of clicks for connect\n",
        "clicks_connect_ver2=connect.loc[connect.Name==\"CONNECT\",\"clicks\"].sum()\n",
        "clicks_connect_ver2"
      ],
      "metadata": {
        "colab": {
          "base_uri": "https://localhost:8080/"
        },
        "id": "s5rctnhN0sZb",
        "outputId": "c20c2da2-1b56-49c5-8b6e-b5fddc926d7a"
      },
      "execution_count": null,
      "outputs": [
        {
          "output_type": "execute_result",
          "data": {
            "text/plain": [
              "53"
            ]
          },
          "metadata": {},
          "execution_count": 85
        }
      ]
    },
    {
      "cell_type": "code",
      "source": [
        "#Calculating no of clicks for FIND\n",
        "clicks_find_ver2=connect.loc[connect.Name==\"FIND\",\"clicks\"].sum()\n",
        "clicks_find_ver2"
      ],
      "metadata": {
        "colab": {
          "base_uri": "https://localhost:8080/"
        },
        "id": "HEfpITJ41eNl",
        "outputId": "8e8745d2-73b9-4276-93ed-9feb91cdadb9"
      },
      "execution_count": null,
      "outputs": [
        {
          "output_type": "execute_result",
          "data": {
            "text/plain": [
              "502"
            ]
          },
          "metadata": {},
          "execution_count": 86
        }
      ]
    },
    {
      "cell_type": "code",
      "source": [
        "#Calculating no of clicks for REQUEST\n",
        "clicks_request_ver2=connect.loc[connect.Name==\"REQUEST\",\"clicks\"].sum()\n",
        "clicks_request_ver2"
      ],
      "metadata": {
        "colab": {
          "base_uri": "https://localhost:8080/"
        },
        "id": "sc3hgMN317eD",
        "outputId": "70c5d109-c7cd-4524-93ac-b0d87ec6732e"
      },
      "execution_count": null,
      "outputs": [
        {
          "output_type": "execute_result",
          "data": {
            "text/plain": [
              "57"
            ]
          },
          "metadata": {},
          "execution_count": 87
        }
      ]
    },
    {
      "cell_type": "code",
      "source": [
        "#calcuting the no of clicks for Interact\n",
        "#Total_clicks_ver2=connect.clicks.sum()\n",
        "noclicks_connect_ver2= 2742 - clicks_connect_ver2\n",
        "noclicks_requset_ver2=2742- clicks_request_ver2\n",
        "noclicks_find_ver2=2742- clicks_find_ver2\n",
        "noclicks_connect_ver2,noclicks_requset_ver2,noclicks_find_ver2"
      ],
      "metadata": {
        "colab": {
          "base_uri": "https://localhost:8080/"
        },
        "id": "Fuiv29QG4SmQ",
        "outputId": "768d4d8d-baec-42e0-c036-3a1d5c852248"
      },
      "execution_count": null,
      "outputs": [
        {
          "output_type": "execute_result",
          "data": {
            "text/plain": [
              "(2689, 2685, 2240)"
            ]
          },
          "metadata": {},
          "execution_count": 88
        }
      ]
    },
    {
      "cell_type": "code",
      "source": [
        "# calculating click through rate version 2\n",
        "ctr_ver2=clicks_connect_ver2/2742 # total visits from .csv\n",
        "per_connect_click=ctr_ver2*100\n",
        "ctr_ver2,per_connect_click"
      ],
      "metadata": {
        "colab": {
          "base_uri": "https://localhost:8080/"
        },
        "id": "I70_qGMo-odx",
        "outputId": "dfa9ca54-eb5f-4af1-9210-611dafa97665"
      },
      "execution_count": null,
      "outputs": [
        {
          "output_type": "execute_result",
          "data": {
            "text/plain": [
              "(0.019328956965718454, 1.9328956965718453)"
            ]
          },
          "metadata": {},
          "execution_count": 89
        }
      ]
    },
    {
      "cell_type": "code",
      "source": [
        "#calculating Homepage-return rate for the category pages version 2 Metric 3\n",
        "Homepage_return_rate_ver2=1234/ 1587\n",
        "Homepage_return_rate_ver2"
      ],
      "metadata": {
        "colab": {
          "base_uri": "https://localhost:8080/"
        },
        "id": "Iov1LeMPCsku",
        "outputId": "cb44e065-d58b-40ed-e635-b6bea570e12d"
      },
      "execution_count": null,
      "outputs": [
        {
          "output_type": "execute_result",
          "data": {
            "text/plain": [
              "0.7775677378701953"
            ]
          },
          "metadata": {},
          "execution_count": 90
        }
      ]
    },
    {
      "cell_type": "code",
      "source": [
        "# 30% of version1 clicks\n",
        "exp_clicks_ver2=round(0.3*2742,0)\n",
        "exp_clicks_ver2\n"
      ],
      "metadata": {
        "colab": {
          "base_uri": "https://localhost:8080/"
        },
        "id": "wKEcfIkYKewm",
        "outputId": "24e5da50-92bb-4fe0-8320-fe6da7aa5b5d"
      },
      "execution_count": null,
      "outputs": [
        {
          "output_type": "execute_result",
          "data": {
            "text/plain": [
              "823.0"
            ]
          },
          "metadata": {},
          "execution_count": 91
        }
      ]
    },
    {
      "cell_type": "markdown",
      "source": [
        "### **Version 3**"
      ],
      "metadata": {
        "id": "Y9qikqLc47AR"
      }
    },
    {
      "cell_type": "code",
      "source": [
        "learn"
      ],
      "metadata": {
        "id": "Nc0sg4j75Aqr",
        "colab": {
          "base_uri": "https://localhost:8080/",
          "height": 423
        },
        "outputId": "94e7386e-a94b-4609-dd96-e5d5993de81b"
      },
      "execution_count": null,
      "outputs": [
        {
          "output_type": "execute_result",
          "data": {
            "text/plain": [
              "    Element ID Tag name                                           Name  \\\n",
              "0           69        a                                           FIND   \n",
              "1           61    input                                            s.q   \n",
              "2           67        a                          lib.montana.edu/find/   \n",
              "3          128     area                Montana State University - Home   \n",
              "4           98        a                                          Hours   \n",
              "..         ...      ...                                            ...   \n",
              "57         135   center                                     More Hours   \n",
              "58         136      div                                    montana.edu   \n",
              "59         139   center                                  June 17, 2013   \n",
              "60         140   strong                                  June 17, 2013   \n",
              "61         141      div  montana.summon.serialssolutions.com/advanced/   \n",
              "\n",
              "    No. clicks  Visible?                               Snapshot information  \n",
              "0          587      True  Homepage Version 3 - Learn   •   http://www.li...  \n",
              "1          325      True  created 5-29-2013   •   20 days 12 hours 21 mi...  \n",
              "2          142      True                                                NaN  \n",
              "3           83     False                                                NaN  \n",
              "4           76      True                                                NaN  \n",
              "..         ...       ...                                                ...  \n",
              "57           1     False                                                NaN  \n",
              "58           1     False                                                NaN  \n",
              "59           1     False                                                NaN  \n",
              "60           1     False                                                NaN  \n",
              "61           1     False                                                NaN  \n",
              "\n",
              "[62 rows x 6 columns]"
            ],
            "text/html": [
              "\n",
              "  <div id=\"df-bc693256-616d-4db4-945d-257cf5b879e2\">\n",
              "    <div class=\"colab-df-container\">\n",
              "      <div>\n",
              "<style scoped>\n",
              "    .dataframe tbody tr th:only-of-type {\n",
              "        vertical-align: middle;\n",
              "    }\n",
              "\n",
              "    .dataframe tbody tr th {\n",
              "        vertical-align: top;\n",
              "    }\n",
              "\n",
              "    .dataframe thead th {\n",
              "        text-align: right;\n",
              "    }\n",
              "</style>\n",
              "<table border=\"1\" class=\"dataframe\">\n",
              "  <thead>\n",
              "    <tr style=\"text-align: right;\">\n",
              "      <th></th>\n",
              "      <th>Element ID</th>\n",
              "      <th>Tag name</th>\n",
              "      <th>Name</th>\n",
              "      <th>No. clicks</th>\n",
              "      <th>Visible?</th>\n",
              "      <th>Snapshot information</th>\n",
              "    </tr>\n",
              "  </thead>\n",
              "  <tbody>\n",
              "    <tr>\n",
              "      <th>0</th>\n",
              "      <td>69</td>\n",
              "      <td>a</td>\n",
              "      <td>FIND</td>\n",
              "      <td>587</td>\n",
              "      <td>True</td>\n",
              "      <td>Homepage Version 3 - Learn   •   http://www.li...</td>\n",
              "    </tr>\n",
              "    <tr>\n",
              "      <th>1</th>\n",
              "      <td>61</td>\n",
              "      <td>input</td>\n",
              "      <td>s.q</td>\n",
              "      <td>325</td>\n",
              "      <td>True</td>\n",
              "      <td>created 5-29-2013   •   20 days 12 hours 21 mi...</td>\n",
              "    </tr>\n",
              "    <tr>\n",
              "      <th>2</th>\n",
              "      <td>67</td>\n",
              "      <td>a</td>\n",
              "      <td>lib.montana.edu/find/</td>\n",
              "      <td>142</td>\n",
              "      <td>True</td>\n",
              "      <td>NaN</td>\n",
              "    </tr>\n",
              "    <tr>\n",
              "      <th>3</th>\n",
              "      <td>128</td>\n",
              "      <td>area</td>\n",
              "      <td>Montana State University - Home</td>\n",
              "      <td>83</td>\n",
              "      <td>False</td>\n",
              "      <td>NaN</td>\n",
              "    </tr>\n",
              "    <tr>\n",
              "      <th>4</th>\n",
              "      <td>98</td>\n",
              "      <td>a</td>\n",
              "      <td>Hours</td>\n",
              "      <td>76</td>\n",
              "      <td>True</td>\n",
              "      <td>NaN</td>\n",
              "    </tr>\n",
              "    <tr>\n",
              "      <th>...</th>\n",
              "      <td>...</td>\n",
              "      <td>...</td>\n",
              "      <td>...</td>\n",
              "      <td>...</td>\n",
              "      <td>...</td>\n",
              "      <td>...</td>\n",
              "    </tr>\n",
              "    <tr>\n",
              "      <th>57</th>\n",
              "      <td>135</td>\n",
              "      <td>center</td>\n",
              "      <td>More Hours</td>\n",
              "      <td>1</td>\n",
              "      <td>False</td>\n",
              "      <td>NaN</td>\n",
              "    </tr>\n",
              "    <tr>\n",
              "      <th>58</th>\n",
              "      <td>136</td>\n",
              "      <td>div</td>\n",
              "      <td>montana.edu</td>\n",
              "      <td>1</td>\n",
              "      <td>False</td>\n",
              "      <td>NaN</td>\n",
              "    </tr>\n",
              "    <tr>\n",
              "      <th>59</th>\n",
              "      <td>139</td>\n",
              "      <td>center</td>\n",
              "      <td>June 17, 2013</td>\n",
              "      <td>1</td>\n",
              "      <td>False</td>\n",
              "      <td>NaN</td>\n",
              "    </tr>\n",
              "    <tr>\n",
              "      <th>60</th>\n",
              "      <td>140</td>\n",
              "      <td>strong</td>\n",
              "      <td>June 17, 2013</td>\n",
              "      <td>1</td>\n",
              "      <td>False</td>\n",
              "      <td>NaN</td>\n",
              "    </tr>\n",
              "    <tr>\n",
              "      <th>61</th>\n",
              "      <td>141</td>\n",
              "      <td>div</td>\n",
              "      <td>montana.summon.serialssolutions.com/advanced/</td>\n",
              "      <td>1</td>\n",
              "      <td>False</td>\n",
              "      <td>NaN</td>\n",
              "    </tr>\n",
              "  </tbody>\n",
              "</table>\n",
              "<p>62 rows × 6 columns</p>\n",
              "</div>\n",
              "      <button class=\"colab-df-convert\" onclick=\"convertToInteractive('df-bc693256-616d-4db4-945d-257cf5b879e2')\"\n",
              "              title=\"Convert this dataframe to an interactive table.\"\n",
              "              style=\"display:none;\">\n",
              "        \n",
              "  <svg xmlns=\"http://www.w3.org/2000/svg\" height=\"24px\"viewBox=\"0 0 24 24\"\n",
              "       width=\"24px\">\n",
              "    <path d=\"M0 0h24v24H0V0z\" fill=\"none\"/>\n",
              "    <path d=\"M18.56 5.44l.94 2.06.94-2.06 2.06-.94-2.06-.94-.94-2.06-.94 2.06-2.06.94zm-11 1L8.5 8.5l.94-2.06 2.06-.94-2.06-.94L8.5 2.5l-.94 2.06-2.06.94zm10 10l.94 2.06.94-2.06 2.06-.94-2.06-.94-.94-2.06-.94 2.06-2.06.94z\"/><path d=\"M17.41 7.96l-1.37-1.37c-.4-.4-.92-.59-1.43-.59-.52 0-1.04.2-1.43.59L10.3 9.45l-7.72 7.72c-.78.78-.78 2.05 0 2.83L4 21.41c.39.39.9.59 1.41.59.51 0 1.02-.2 1.41-.59l7.78-7.78 2.81-2.81c.8-.78.8-2.07 0-2.86zM5.41 20L4 18.59l7.72-7.72 1.47 1.35L5.41 20z\"/>\n",
              "  </svg>\n",
              "      </button>\n",
              "      \n",
              "  <style>\n",
              "    .colab-df-container {\n",
              "      display:flex;\n",
              "      flex-wrap:wrap;\n",
              "      gap: 12px;\n",
              "    }\n",
              "\n",
              "    .colab-df-convert {\n",
              "      background-color: #E8F0FE;\n",
              "      border: none;\n",
              "      border-radius: 50%;\n",
              "      cursor: pointer;\n",
              "      display: none;\n",
              "      fill: #1967D2;\n",
              "      height: 32px;\n",
              "      padding: 0 0 0 0;\n",
              "      width: 32px;\n",
              "    }\n",
              "\n",
              "    .colab-df-convert:hover {\n",
              "      background-color: #E2EBFA;\n",
              "      box-shadow: 0px 1px 2px rgba(60, 64, 67, 0.3), 0px 1px 3px 1px rgba(60, 64, 67, 0.15);\n",
              "      fill: #174EA6;\n",
              "    }\n",
              "\n",
              "    [theme=dark] .colab-df-convert {\n",
              "      background-color: #3B4455;\n",
              "      fill: #D2E3FC;\n",
              "    }\n",
              "\n",
              "    [theme=dark] .colab-df-convert:hover {\n",
              "      background-color: #434B5C;\n",
              "      box-shadow: 0px 1px 3px 1px rgba(0, 0, 0, 0.15);\n",
              "      filter: drop-shadow(0px 1px 2px rgba(0, 0, 0, 0.3));\n",
              "      fill: #FFFFFF;\n",
              "    }\n",
              "  </style>\n",
              "\n",
              "      <script>\n",
              "        const buttonEl =\n",
              "          document.querySelector('#df-bc693256-616d-4db4-945d-257cf5b879e2 button.colab-df-convert');\n",
              "        buttonEl.style.display =\n",
              "          google.colab.kernel.accessAllowed ? 'block' : 'none';\n",
              "\n",
              "        async function convertToInteractive(key) {\n",
              "          const element = document.querySelector('#df-bc693256-616d-4db4-945d-257cf5b879e2');\n",
              "          const dataTable =\n",
              "            await google.colab.kernel.invokeFunction('convertToInteractive',\n",
              "                                                     [key], {});\n",
              "          if (!dataTable) return;\n",
              "\n",
              "          const docLinkHtml = 'Like what you see? Visit the ' +\n",
              "            '<a target=\"_blank\" href=https://colab.research.google.com/notebooks/data_table.ipynb>data table notebook</a>'\n",
              "            + ' to learn more about interactive tables.';\n",
              "          element.innerHTML = '';\n",
              "          dataTable['output_type'] = 'display_data';\n",
              "          await google.colab.output.renderOutput(dataTable, element);\n",
              "          const docLink = document.createElement('div');\n",
              "          docLink.innerHTML = docLinkHtml;\n",
              "          element.appendChild(docLink);\n",
              "        }\n",
              "      </script>\n",
              "    </div>\n",
              "  </div>\n",
              "  "
            ]
          },
          "metadata": {},
          "execution_count": 92
        }
      ]
    },
    {
      "cell_type": "code",
      "source": [
        "#Renaming the columns\n",
        "learn.rename(columns={ \"Tag name\" :\"Tag_name\",\"No. clicks\":\"clicks\"},inplace=True)"
      ],
      "metadata": {
        "id": "UAGa1H9f5ap9"
      },
      "execution_count": null,
      "outputs": []
    },
    {
      "cell_type": "code",
      "source": [
        "#Calculating no of clicks for learn\n",
        "clicks_learn_ver3=learn.loc[learn.Name==\"LEARN\",\"clicks\"].sum()\n",
        "clicks_learn_ver3"
      ],
      "metadata": {
        "colab": {
          "base_uri": "https://localhost:8080/"
        },
        "id": "XFK6SCX15k83",
        "outputId": "97f51ca8-98e6-4e8d-9fcf-8249506e2482"
      },
      "execution_count": null,
      "outputs": [
        {
          "output_type": "execute_result",
          "data": {
            "text/plain": [
              "21"
            ]
          },
          "metadata": {},
          "execution_count": 94
        }
      ]
    },
    {
      "cell_type": "code",
      "source": [
        "#Calculating no of clicks for Find\n",
        "clicks_find_ver3=learn.loc[learn.Name==\"FIND\",\"clicks\"].sum()\n",
        "clicks_find_ver3"
      ],
      "metadata": {
        "colab": {
          "base_uri": "https://localhost:8080/"
        },
        "id": "JWbdw6Db5leA",
        "outputId": "6dd731f1-b1f5-437e-cb61-9ffc7b7eb544"
      },
      "execution_count": null,
      "outputs": [
        {
          "output_type": "execute_result",
          "data": {
            "text/plain": [
              "587"
            ]
          },
          "metadata": {},
          "execution_count": 95
        }
      ]
    },
    {
      "cell_type": "code",
      "source": [
        "#Calculating no of clicks for request\n",
        "clicks_request_ver3=learn.loc[learn.Name==\"REQUEST\",\"clicks\"].sum()\n",
        "clicks_request_ver3"
      ],
      "metadata": {
        "colab": {
          "base_uri": "https://localhost:8080/"
        },
        "id": "T6TZls5D5lqb",
        "outputId": "e5bec306-c757-4b4d-9ee0-96d66c2f7d46"
      },
      "execution_count": null,
      "outputs": [
        {
          "output_type": "execute_result",
          "data": {
            "text/plain": [
              "63"
            ]
          },
          "metadata": {},
          "execution_count": 96
        }
      ]
    },
    {
      "cell_type": "code",
      "source": [
        "#calcuting the no of clicks for Interact\n",
        "#Total_clicks_ver3=learn.clicks.sum()\n",
        "noclicks_learn_ver3= 2747 - clicks_learn_ver3\n",
        "noclicks_requset_ver3=2747- clicks_request_ver3\n",
        "noclicks_find_ver3=2747- clicks_find_ver3\n",
        "noclicks_learn_ver3,noclicks_requset_ver3,noclicks_find_ver3"
      ],
      "metadata": {
        "colab": {
          "base_uri": "https://localhost:8080/"
        },
        "id": "qeqXe_Z76Odi",
        "outputId": "ecd180b2-d23d-48b3-ff0c-6761648b343f"
      },
      "execution_count": null,
      "outputs": [
        {
          "output_type": "execute_result",
          "data": {
            "text/plain": [
              "(2726, 2684, 2160)"
            ]
          },
          "metadata": {},
          "execution_count": 97
        }
      ]
    },
    {
      "cell_type": "code",
      "source": [
        "# calculating click through rate version 3 Metric 1\n",
        "ctr_ver3=clicks_learn_ver3/ 2747# total visits from .csv\n",
        "per_learn_click=ctr_ver3*100\n",
        "ctr_ver3,per_learn_click"
      ],
      "metadata": {
        "colab": {
          "base_uri": "https://localhost:8080/"
        },
        "id": "XyelJB72-OHL",
        "outputId": "ea0285c1-9b00-4e11-f370-23d6137a1e76"
      },
      "execution_count": null,
      "outputs": [
        {
          "output_type": "execute_result",
          "data": {
            "text/plain": [
              "(0.007644703312704768, 0.7644703312704768)"
            ]
          },
          "metadata": {},
          "execution_count": 98
        }
      ]
    },
    {
      "cell_type": "code",
      "source": [
        "#calculating Homepage-return rate for the category pages version 3 Metric 3\n",
        "Homepage_return_rate_ver3=1263 / 1652\n",
        "Homepage_return_rate_ver3"
      ],
      "metadata": {
        "colab": {
          "base_uri": "https://localhost:8080/"
        },
        "id": "mFVoXln2Ayeq",
        "outputId": "be80240c-2bbb-40c2-d7bf-1f1841003b3c"
      },
      "execution_count": null,
      "outputs": [
        {
          "output_type": "execute_result",
          "data": {
            "text/plain": [
              "0.7645278450363197"
            ]
          },
          "metadata": {},
          "execution_count": 99
        }
      ]
    },
    {
      "cell_type": "code",
      "source": [
        "# 30% of version1 clicks\n",
        "exp_clicks_ver3=round(0.3*2747,0)\n",
        "exp_clicks_ver3"
      ],
      "metadata": {
        "colab": {
          "base_uri": "https://localhost:8080/"
        },
        "id": "8WTCJrqYLfJ8",
        "outputId": "f6fdd949-f9ee-433c-813b-800cfa351287"
      },
      "execution_count": null,
      "outputs": [
        {
          "output_type": "execute_result",
          "data": {
            "text/plain": [
              "824.0"
            ]
          },
          "metadata": {},
          "execution_count": 100
        }
      ]
    },
    {
      "cell_type": "markdown",
      "source": [
        "### **Version 4**"
      ],
      "metadata": {
        "id": "i3xYf-uE6rvt"
      }
    },
    {
      "cell_type": "code",
      "source": [
        "help"
      ],
      "metadata": {
        "colab": {
          "base_uri": "https://localhost:8080/",
          "height": 1000
        },
        "id": "LjOk--DA6whC",
        "outputId": "23425dea-def4-4cab-fe68-c69598b4cf62"
      },
      "execution_count": null,
      "outputs": [
        {
          "output_type": "execute_result",
          "data": {
            "text/plain": [
              "    Element ID Tag name                                               Name  \\\n",
              "0           74        a                                               FIND   \n",
              "1           66    input                                                s.q   \n",
              "2           72        a                              lib.montana.edu/find/   \n",
              "3          133     area                    Montana State University - Home   \n",
              "4           83        a                                            REQUEST   \n",
              "5          103        a                                              Hours   \n",
              "6           67   button                                             Search   \n",
              "7           92        a                                               HELP   \n",
              "8          101        a                                               News   \n",
              "9          127        a                                         Contact Us   \n",
              "10          81        a                           lib.montana.edu/request/   \n",
              "11          35        a                                    slideshow-right   \n",
              "12          69        a                                    Advanced Search   \n",
              "13           6        a                                    Ask A Librarian   \n",
              "14          55     span                                       nav-item-dot   \n",
              "15         105        a                                            Twitter   \n",
              "16         134        a                                     slideshow-left   \n",
              "17         135        a  Tip of the Week: Submit a Request for the Libr...   \n",
              "18          90        a                          lib.montana.edu/interact/   \n",
              "19          68      div                                    Advanced Search   \n",
              "20         112        a          6/17 Library Workshop: EndNote Web Basics   \n",
              "21         124        a                                  About MSU Library   \n",
              "22          65     form                                             Search   \n",
              "23          15      div  Explore the world, explore the past Science & ...   \n",
              "24          45        a                                           nav-item   \n",
              "25          59      div  Search Advanced Search FIND Find research mate...   \n",
              "26          78        p  Find research materials, including articles, b...   \n",
              "27           8      div                                           logo-ikd   \n",
              "28          11      div                                                  .   \n",
              "29          41        a                                           nav-item   \n",
              "30         132        a                           Site Index & Site Search   \n",
              "31           1      div                                    Ask A Librarian   \n",
              "32           5      div                                    Ask A Librarian   \n",
              "33          20      div    Montana State University Historical Photographs   \n",
              "34          23      div        Indian Peoples of the Northern Great Plains   \n",
              "35          49        a                                           nav-item   \n",
              "36          53        a                                           nav-item   \n",
              "37          61      div                                               logo   \n",
              "38         110        a               6/17 Library Workshop: Zotero Basics   \n",
              "39         118        a                                            Twitter   \n",
              "40           2      div                                    Ask A Librarian   \n",
              "41           3      img                Montana State University in Bozeman   \n",
              "42          17        p       Science & Natural History Filmmaking Archive   \n",
              "43          26        p  Meet with a librarian for help with your resea...   \n",
              "44          51     span                                       nav-item-dot   \n",
              "45          63      img                                label for catsearch   \n",
              "46          84      div                                         triangle-l   \n",
              "47          87        p  Request resources and services, including grou...   \n",
              "48         106       ul  News 6/17 Library Workshop: Zotero Basics 6/17...   \n",
              "49         107       li                                               News   \n",
              "50         116        a                    New Database: Access World News   \n",
              "51         120        a                                            YouTube   \n",
              "52         121      div  © MSU About MSU Library Accessibility Contact ...   \n",
              "53         128        a                                     Privacy Policy   \n",
              "54         130        a                                        Mobile Site   \n",
              "55         136      div      montana.summon.serialssolutions.com/advanced/   \n",
              "56         137      img  s3.amazonaws.com/z90/d7563d332436cc96671be5ed9...   \n",
              "\n",
              "    No. clicks  Visible?                               Snapshot information  \n",
              "0          631      True  Homepage Version 4 - Help   •   http://www.lib...  \n",
              "1          364      True  created 5-29-2013   •   20 days 4 hours 59 min...  \n",
              "2          139      True                                                NaN  \n",
              "3          122     False                                                NaN  \n",
              "4           72      True                                                NaN  \n",
              "5           68      True                                                NaN  \n",
              "6           59      True                                                NaN  \n",
              "7           38      True                                                NaN  \n",
              "8           26      True                                                NaN  \n",
              "9           17      True                                                NaN  \n",
              "10          15      True                                                NaN  \n",
              "11          14      True                                                NaN  \n",
              "12          14      True                                                NaN  \n",
              "13          10      True                                                NaN  \n",
              "14          10      True                                                NaN  \n",
              "15           9      True                                                NaN  \n",
              "16           8     False                                                NaN  \n",
              "17           8     False                                                NaN  \n",
              "18           7      True                                                NaN  \n",
              "19           6      True                                                NaN  \n",
              "20           6      True                                                NaN  \n",
              "21           6      True                                                NaN  \n",
              "22           5      True                                                NaN  \n",
              "23           4      True                                                NaN  \n",
              "24           4      True                                                NaN  \n",
              "25           4      True                                                NaN  \n",
              "26           4      True                                                NaN  \n",
              "27           3      True                                                NaN  \n",
              "28           3      True                                                NaN  \n",
              "29           3      True                                                NaN  \n",
              "30           3      True                                                NaN  \n",
              "31           2      True                                                NaN  \n",
              "32           2      True                                                NaN  \n",
              "33           2      True                                                NaN  \n",
              "34           2      True                                                NaN  \n",
              "35           2      True                                                NaN  \n",
              "36           2      True                                                NaN  \n",
              "37           2      True                                                NaN  \n",
              "38           2      True                                                NaN  \n",
              "39           2      True                                                NaN  \n",
              "40           1      True                                                NaN  \n",
              "41           1      True                                                NaN  \n",
              "42           1      True                                                NaN  \n",
              "43           1      True                                                NaN  \n",
              "44           1      True                                                NaN  \n",
              "45           1      True                                                NaN  \n",
              "46           1      True                                                NaN  \n",
              "47           1      True                                                NaN  \n",
              "48           1      True                                                NaN  \n",
              "49           1      True                                                NaN  \n",
              "50           1      True                                                NaN  \n",
              "51           1      True                                                NaN  \n",
              "52           1      True                                                NaN  \n",
              "53           1      True                                                NaN  \n",
              "54           1      True                                                NaN  \n",
              "55           1     False                                                NaN  \n",
              "56           1     False                                                NaN  "
            ],
            "text/html": [
              "\n",
              "  <div id=\"df-f961de1e-fd9f-49cb-a605-9837318e8d95\">\n",
              "    <div class=\"colab-df-container\">\n",
              "      <div>\n",
              "<style scoped>\n",
              "    .dataframe tbody tr th:only-of-type {\n",
              "        vertical-align: middle;\n",
              "    }\n",
              "\n",
              "    .dataframe tbody tr th {\n",
              "        vertical-align: top;\n",
              "    }\n",
              "\n",
              "    .dataframe thead th {\n",
              "        text-align: right;\n",
              "    }\n",
              "</style>\n",
              "<table border=\"1\" class=\"dataframe\">\n",
              "  <thead>\n",
              "    <tr style=\"text-align: right;\">\n",
              "      <th></th>\n",
              "      <th>Element ID</th>\n",
              "      <th>Tag name</th>\n",
              "      <th>Name</th>\n",
              "      <th>No. clicks</th>\n",
              "      <th>Visible?</th>\n",
              "      <th>Snapshot information</th>\n",
              "    </tr>\n",
              "  </thead>\n",
              "  <tbody>\n",
              "    <tr>\n",
              "      <th>0</th>\n",
              "      <td>74</td>\n",
              "      <td>a</td>\n",
              "      <td>FIND</td>\n",
              "      <td>631</td>\n",
              "      <td>True</td>\n",
              "      <td>Homepage Version 4 - Help   •   http://www.lib...</td>\n",
              "    </tr>\n",
              "    <tr>\n",
              "      <th>1</th>\n",
              "      <td>66</td>\n",
              "      <td>input</td>\n",
              "      <td>s.q</td>\n",
              "      <td>364</td>\n",
              "      <td>True</td>\n",
              "      <td>created 5-29-2013   •   20 days 4 hours 59 min...</td>\n",
              "    </tr>\n",
              "    <tr>\n",
              "      <th>2</th>\n",
              "      <td>72</td>\n",
              "      <td>a</td>\n",
              "      <td>lib.montana.edu/find/</td>\n",
              "      <td>139</td>\n",
              "      <td>True</td>\n",
              "      <td>NaN</td>\n",
              "    </tr>\n",
              "    <tr>\n",
              "      <th>3</th>\n",
              "      <td>133</td>\n",
              "      <td>area</td>\n",
              "      <td>Montana State University - Home</td>\n",
              "      <td>122</td>\n",
              "      <td>False</td>\n",
              "      <td>NaN</td>\n",
              "    </tr>\n",
              "    <tr>\n",
              "      <th>4</th>\n",
              "      <td>83</td>\n",
              "      <td>a</td>\n",
              "      <td>REQUEST</td>\n",
              "      <td>72</td>\n",
              "      <td>True</td>\n",
              "      <td>NaN</td>\n",
              "    </tr>\n",
              "    <tr>\n",
              "      <th>5</th>\n",
              "      <td>103</td>\n",
              "      <td>a</td>\n",
              "      <td>Hours</td>\n",
              "      <td>68</td>\n",
              "      <td>True</td>\n",
              "      <td>NaN</td>\n",
              "    </tr>\n",
              "    <tr>\n",
              "      <th>6</th>\n",
              "      <td>67</td>\n",
              "      <td>button</td>\n",
              "      <td>Search</td>\n",
              "      <td>59</td>\n",
              "      <td>True</td>\n",
              "      <td>NaN</td>\n",
              "    </tr>\n",
              "    <tr>\n",
              "      <th>7</th>\n",
              "      <td>92</td>\n",
              "      <td>a</td>\n",
              "      <td>HELP</td>\n",
              "      <td>38</td>\n",
              "      <td>True</td>\n",
              "      <td>NaN</td>\n",
              "    </tr>\n",
              "    <tr>\n",
              "      <th>8</th>\n",
              "      <td>101</td>\n",
              "      <td>a</td>\n",
              "      <td>News</td>\n",
              "      <td>26</td>\n",
              "      <td>True</td>\n",
              "      <td>NaN</td>\n",
              "    </tr>\n",
              "    <tr>\n",
              "      <th>9</th>\n",
              "      <td>127</td>\n",
              "      <td>a</td>\n",
              "      <td>Contact Us</td>\n",
              "      <td>17</td>\n",
              "      <td>True</td>\n",
              "      <td>NaN</td>\n",
              "    </tr>\n",
              "    <tr>\n",
              "      <th>10</th>\n",
              "      <td>81</td>\n",
              "      <td>a</td>\n",
              "      <td>lib.montana.edu/request/</td>\n",
              "      <td>15</td>\n",
              "      <td>True</td>\n",
              "      <td>NaN</td>\n",
              "    </tr>\n",
              "    <tr>\n",
              "      <th>11</th>\n",
              "      <td>35</td>\n",
              "      <td>a</td>\n",
              "      <td>slideshow-right</td>\n",
              "      <td>14</td>\n",
              "      <td>True</td>\n",
              "      <td>NaN</td>\n",
              "    </tr>\n",
              "    <tr>\n",
              "      <th>12</th>\n",
              "      <td>69</td>\n",
              "      <td>a</td>\n",
              "      <td>Advanced Search</td>\n",
              "      <td>14</td>\n",
              "      <td>True</td>\n",
              "      <td>NaN</td>\n",
              "    </tr>\n",
              "    <tr>\n",
              "      <th>13</th>\n",
              "      <td>6</td>\n",
              "      <td>a</td>\n",
              "      <td>Ask A Librarian</td>\n",
              "      <td>10</td>\n",
              "      <td>True</td>\n",
              "      <td>NaN</td>\n",
              "    </tr>\n",
              "    <tr>\n",
              "      <th>14</th>\n",
              "      <td>55</td>\n",
              "      <td>span</td>\n",
              "      <td>nav-item-dot</td>\n",
              "      <td>10</td>\n",
              "      <td>True</td>\n",
              "      <td>NaN</td>\n",
              "    </tr>\n",
              "    <tr>\n",
              "      <th>15</th>\n",
              "      <td>105</td>\n",
              "      <td>a</td>\n",
              "      <td>Twitter</td>\n",
              "      <td>9</td>\n",
              "      <td>True</td>\n",
              "      <td>NaN</td>\n",
              "    </tr>\n",
              "    <tr>\n",
              "      <th>16</th>\n",
              "      <td>134</td>\n",
              "      <td>a</td>\n",
              "      <td>slideshow-left</td>\n",
              "      <td>8</td>\n",
              "      <td>False</td>\n",
              "      <td>NaN</td>\n",
              "    </tr>\n",
              "    <tr>\n",
              "      <th>17</th>\n",
              "      <td>135</td>\n",
              "      <td>a</td>\n",
              "      <td>Tip of the Week: Submit a Request for the Libr...</td>\n",
              "      <td>8</td>\n",
              "      <td>False</td>\n",
              "      <td>NaN</td>\n",
              "    </tr>\n",
              "    <tr>\n",
              "      <th>18</th>\n",
              "      <td>90</td>\n",
              "      <td>a</td>\n",
              "      <td>lib.montana.edu/interact/</td>\n",
              "      <td>7</td>\n",
              "      <td>True</td>\n",
              "      <td>NaN</td>\n",
              "    </tr>\n",
              "    <tr>\n",
              "      <th>19</th>\n",
              "      <td>68</td>\n",
              "      <td>div</td>\n",
              "      <td>Advanced Search</td>\n",
              "      <td>6</td>\n",
              "      <td>True</td>\n",
              "      <td>NaN</td>\n",
              "    </tr>\n",
              "    <tr>\n",
              "      <th>20</th>\n",
              "      <td>112</td>\n",
              "      <td>a</td>\n",
              "      <td>6/17 Library Workshop: EndNote Web Basics</td>\n",
              "      <td>6</td>\n",
              "      <td>True</td>\n",
              "      <td>NaN</td>\n",
              "    </tr>\n",
              "    <tr>\n",
              "      <th>21</th>\n",
              "      <td>124</td>\n",
              "      <td>a</td>\n",
              "      <td>About MSU Library</td>\n",
              "      <td>6</td>\n",
              "      <td>True</td>\n",
              "      <td>NaN</td>\n",
              "    </tr>\n",
              "    <tr>\n",
              "      <th>22</th>\n",
              "      <td>65</td>\n",
              "      <td>form</td>\n",
              "      <td>Search</td>\n",
              "      <td>5</td>\n",
              "      <td>True</td>\n",
              "      <td>NaN</td>\n",
              "    </tr>\n",
              "    <tr>\n",
              "      <th>23</th>\n",
              "      <td>15</td>\n",
              "      <td>div</td>\n",
              "      <td>Explore the world, explore the past Science &amp; ...</td>\n",
              "      <td>4</td>\n",
              "      <td>True</td>\n",
              "      <td>NaN</td>\n",
              "    </tr>\n",
              "    <tr>\n",
              "      <th>24</th>\n",
              "      <td>45</td>\n",
              "      <td>a</td>\n",
              "      <td>nav-item</td>\n",
              "      <td>4</td>\n",
              "      <td>True</td>\n",
              "      <td>NaN</td>\n",
              "    </tr>\n",
              "    <tr>\n",
              "      <th>25</th>\n",
              "      <td>59</td>\n",
              "      <td>div</td>\n",
              "      <td>Search Advanced Search FIND Find research mate...</td>\n",
              "      <td>4</td>\n",
              "      <td>True</td>\n",
              "      <td>NaN</td>\n",
              "    </tr>\n",
              "    <tr>\n",
              "      <th>26</th>\n",
              "      <td>78</td>\n",
              "      <td>p</td>\n",
              "      <td>Find research materials, including articles, b...</td>\n",
              "      <td>4</td>\n",
              "      <td>True</td>\n",
              "      <td>NaN</td>\n",
              "    </tr>\n",
              "    <tr>\n",
              "      <th>27</th>\n",
              "      <td>8</td>\n",
              "      <td>div</td>\n",
              "      <td>logo-ikd</td>\n",
              "      <td>3</td>\n",
              "      <td>True</td>\n",
              "      <td>NaN</td>\n",
              "    </tr>\n",
              "    <tr>\n",
              "      <th>28</th>\n",
              "      <td>11</td>\n",
              "      <td>div</td>\n",
              "      <td>.</td>\n",
              "      <td>3</td>\n",
              "      <td>True</td>\n",
              "      <td>NaN</td>\n",
              "    </tr>\n",
              "    <tr>\n",
              "      <th>29</th>\n",
              "      <td>41</td>\n",
              "      <td>a</td>\n",
              "      <td>nav-item</td>\n",
              "      <td>3</td>\n",
              "      <td>True</td>\n",
              "      <td>NaN</td>\n",
              "    </tr>\n",
              "    <tr>\n",
              "      <th>30</th>\n",
              "      <td>132</td>\n",
              "      <td>a</td>\n",
              "      <td>Site Index &amp; Site Search</td>\n",
              "      <td>3</td>\n",
              "      <td>True</td>\n",
              "      <td>NaN</td>\n",
              "    </tr>\n",
              "    <tr>\n",
              "      <th>31</th>\n",
              "      <td>1</td>\n",
              "      <td>div</td>\n",
              "      <td>Ask A Librarian</td>\n",
              "      <td>2</td>\n",
              "      <td>True</td>\n",
              "      <td>NaN</td>\n",
              "    </tr>\n",
              "    <tr>\n",
              "      <th>32</th>\n",
              "      <td>5</td>\n",
              "      <td>div</td>\n",
              "      <td>Ask A Librarian</td>\n",
              "      <td>2</td>\n",
              "      <td>True</td>\n",
              "      <td>NaN</td>\n",
              "    </tr>\n",
              "    <tr>\n",
              "      <th>33</th>\n",
              "      <td>20</td>\n",
              "      <td>div</td>\n",
              "      <td>Montana State University Historical Photographs</td>\n",
              "      <td>2</td>\n",
              "      <td>True</td>\n",
              "      <td>NaN</td>\n",
              "    </tr>\n",
              "    <tr>\n",
              "      <th>34</th>\n",
              "      <td>23</td>\n",
              "      <td>div</td>\n",
              "      <td>Indian Peoples of the Northern Great Plains</td>\n",
              "      <td>2</td>\n",
              "      <td>True</td>\n",
              "      <td>NaN</td>\n",
              "    </tr>\n",
              "    <tr>\n",
              "      <th>35</th>\n",
              "      <td>49</td>\n",
              "      <td>a</td>\n",
              "      <td>nav-item</td>\n",
              "      <td>2</td>\n",
              "      <td>True</td>\n",
              "      <td>NaN</td>\n",
              "    </tr>\n",
              "    <tr>\n",
              "      <th>36</th>\n",
              "      <td>53</td>\n",
              "      <td>a</td>\n",
              "      <td>nav-item</td>\n",
              "      <td>2</td>\n",
              "      <td>True</td>\n",
              "      <td>NaN</td>\n",
              "    </tr>\n",
              "    <tr>\n",
              "      <th>37</th>\n",
              "      <td>61</td>\n",
              "      <td>div</td>\n",
              "      <td>logo</td>\n",
              "      <td>2</td>\n",
              "      <td>True</td>\n",
              "      <td>NaN</td>\n",
              "    </tr>\n",
              "    <tr>\n",
              "      <th>38</th>\n",
              "      <td>110</td>\n",
              "      <td>a</td>\n",
              "      <td>6/17 Library Workshop: Zotero Basics</td>\n",
              "      <td>2</td>\n",
              "      <td>True</td>\n",
              "      <td>NaN</td>\n",
              "    </tr>\n",
              "    <tr>\n",
              "      <th>39</th>\n",
              "      <td>118</td>\n",
              "      <td>a</td>\n",
              "      <td>Twitter</td>\n",
              "      <td>2</td>\n",
              "      <td>True</td>\n",
              "      <td>NaN</td>\n",
              "    </tr>\n",
              "    <tr>\n",
              "      <th>40</th>\n",
              "      <td>2</td>\n",
              "      <td>div</td>\n",
              "      <td>Ask A Librarian</td>\n",
              "      <td>1</td>\n",
              "      <td>True</td>\n",
              "      <td>NaN</td>\n",
              "    </tr>\n",
              "    <tr>\n",
              "      <th>41</th>\n",
              "      <td>3</td>\n",
              "      <td>img</td>\n",
              "      <td>Montana State University in Bozeman</td>\n",
              "      <td>1</td>\n",
              "      <td>True</td>\n",
              "      <td>NaN</td>\n",
              "    </tr>\n",
              "    <tr>\n",
              "      <th>42</th>\n",
              "      <td>17</td>\n",
              "      <td>p</td>\n",
              "      <td>Science &amp; Natural History Filmmaking Archive</td>\n",
              "      <td>1</td>\n",
              "      <td>True</td>\n",
              "      <td>NaN</td>\n",
              "    </tr>\n",
              "    <tr>\n",
              "      <th>43</th>\n",
              "      <td>26</td>\n",
              "      <td>p</td>\n",
              "      <td>Meet with a librarian for help with your resea...</td>\n",
              "      <td>1</td>\n",
              "      <td>True</td>\n",
              "      <td>NaN</td>\n",
              "    </tr>\n",
              "    <tr>\n",
              "      <th>44</th>\n",
              "      <td>51</td>\n",
              "      <td>span</td>\n",
              "      <td>nav-item-dot</td>\n",
              "      <td>1</td>\n",
              "      <td>True</td>\n",
              "      <td>NaN</td>\n",
              "    </tr>\n",
              "    <tr>\n",
              "      <th>45</th>\n",
              "      <td>63</td>\n",
              "      <td>img</td>\n",
              "      <td>label for catsearch</td>\n",
              "      <td>1</td>\n",
              "      <td>True</td>\n",
              "      <td>NaN</td>\n",
              "    </tr>\n",
              "    <tr>\n",
              "      <th>46</th>\n",
              "      <td>84</td>\n",
              "      <td>div</td>\n",
              "      <td>triangle-l</td>\n",
              "      <td>1</td>\n",
              "      <td>True</td>\n",
              "      <td>NaN</td>\n",
              "    </tr>\n",
              "    <tr>\n",
              "      <th>47</th>\n",
              "      <td>87</td>\n",
              "      <td>p</td>\n",
              "      <td>Request resources and services, including grou...</td>\n",
              "      <td>1</td>\n",
              "      <td>True</td>\n",
              "      <td>NaN</td>\n",
              "    </tr>\n",
              "    <tr>\n",
              "      <th>48</th>\n",
              "      <td>106</td>\n",
              "      <td>ul</td>\n",
              "      <td>News 6/17 Library Workshop: Zotero Basics 6/17...</td>\n",
              "      <td>1</td>\n",
              "      <td>True</td>\n",
              "      <td>NaN</td>\n",
              "    </tr>\n",
              "    <tr>\n",
              "      <th>49</th>\n",
              "      <td>107</td>\n",
              "      <td>li</td>\n",
              "      <td>News</td>\n",
              "      <td>1</td>\n",
              "      <td>True</td>\n",
              "      <td>NaN</td>\n",
              "    </tr>\n",
              "    <tr>\n",
              "      <th>50</th>\n",
              "      <td>116</td>\n",
              "      <td>a</td>\n",
              "      <td>New Database: Access World News</td>\n",
              "      <td>1</td>\n",
              "      <td>True</td>\n",
              "      <td>NaN</td>\n",
              "    </tr>\n",
              "    <tr>\n",
              "      <th>51</th>\n",
              "      <td>120</td>\n",
              "      <td>a</td>\n",
              "      <td>YouTube</td>\n",
              "      <td>1</td>\n",
              "      <td>True</td>\n",
              "      <td>NaN</td>\n",
              "    </tr>\n",
              "    <tr>\n",
              "      <th>52</th>\n",
              "      <td>121</td>\n",
              "      <td>div</td>\n",
              "      <td>© MSU About MSU Library Accessibility Contact ...</td>\n",
              "      <td>1</td>\n",
              "      <td>True</td>\n",
              "      <td>NaN</td>\n",
              "    </tr>\n",
              "    <tr>\n",
              "      <th>53</th>\n",
              "      <td>128</td>\n",
              "      <td>a</td>\n",
              "      <td>Privacy Policy</td>\n",
              "      <td>1</td>\n",
              "      <td>True</td>\n",
              "      <td>NaN</td>\n",
              "    </tr>\n",
              "    <tr>\n",
              "      <th>54</th>\n",
              "      <td>130</td>\n",
              "      <td>a</td>\n",
              "      <td>Mobile Site</td>\n",
              "      <td>1</td>\n",
              "      <td>True</td>\n",
              "      <td>NaN</td>\n",
              "    </tr>\n",
              "    <tr>\n",
              "      <th>55</th>\n",
              "      <td>136</td>\n",
              "      <td>div</td>\n",
              "      <td>montana.summon.serialssolutions.com/advanced/</td>\n",
              "      <td>1</td>\n",
              "      <td>False</td>\n",
              "      <td>NaN</td>\n",
              "    </tr>\n",
              "    <tr>\n",
              "      <th>56</th>\n",
              "      <td>137</td>\n",
              "      <td>img</td>\n",
              "      <td>s3.amazonaws.com/z90/d7563d332436cc96671be5ed9...</td>\n",
              "      <td>1</td>\n",
              "      <td>False</td>\n",
              "      <td>NaN</td>\n",
              "    </tr>\n",
              "  </tbody>\n",
              "</table>\n",
              "</div>\n",
              "      <button class=\"colab-df-convert\" onclick=\"convertToInteractive('df-f961de1e-fd9f-49cb-a605-9837318e8d95')\"\n",
              "              title=\"Convert this dataframe to an interactive table.\"\n",
              "              style=\"display:none;\">\n",
              "        \n",
              "  <svg xmlns=\"http://www.w3.org/2000/svg\" height=\"24px\"viewBox=\"0 0 24 24\"\n",
              "       width=\"24px\">\n",
              "    <path d=\"M0 0h24v24H0V0z\" fill=\"none\"/>\n",
              "    <path d=\"M18.56 5.44l.94 2.06.94-2.06 2.06-.94-2.06-.94-.94-2.06-.94 2.06-2.06.94zm-11 1L8.5 8.5l.94-2.06 2.06-.94-2.06-.94L8.5 2.5l-.94 2.06-2.06.94zm10 10l.94 2.06.94-2.06 2.06-.94-2.06-.94-.94-2.06-.94 2.06-2.06.94z\"/><path d=\"M17.41 7.96l-1.37-1.37c-.4-.4-.92-.59-1.43-.59-.52 0-1.04.2-1.43.59L10.3 9.45l-7.72 7.72c-.78.78-.78 2.05 0 2.83L4 21.41c.39.39.9.59 1.41.59.51 0 1.02-.2 1.41-.59l7.78-7.78 2.81-2.81c.8-.78.8-2.07 0-2.86zM5.41 20L4 18.59l7.72-7.72 1.47 1.35L5.41 20z\"/>\n",
              "  </svg>\n",
              "      </button>\n",
              "      \n",
              "  <style>\n",
              "    .colab-df-container {\n",
              "      display:flex;\n",
              "      flex-wrap:wrap;\n",
              "      gap: 12px;\n",
              "    }\n",
              "\n",
              "    .colab-df-convert {\n",
              "      background-color: #E8F0FE;\n",
              "      border: none;\n",
              "      border-radius: 50%;\n",
              "      cursor: pointer;\n",
              "      display: none;\n",
              "      fill: #1967D2;\n",
              "      height: 32px;\n",
              "      padding: 0 0 0 0;\n",
              "      width: 32px;\n",
              "    }\n",
              "\n",
              "    .colab-df-convert:hover {\n",
              "      background-color: #E2EBFA;\n",
              "      box-shadow: 0px 1px 2px rgba(60, 64, 67, 0.3), 0px 1px 3px 1px rgba(60, 64, 67, 0.15);\n",
              "      fill: #174EA6;\n",
              "    }\n",
              "\n",
              "    [theme=dark] .colab-df-convert {\n",
              "      background-color: #3B4455;\n",
              "      fill: #D2E3FC;\n",
              "    }\n",
              "\n",
              "    [theme=dark] .colab-df-convert:hover {\n",
              "      background-color: #434B5C;\n",
              "      box-shadow: 0px 1px 3px 1px rgba(0, 0, 0, 0.15);\n",
              "      filter: drop-shadow(0px 1px 2px rgba(0, 0, 0, 0.3));\n",
              "      fill: #FFFFFF;\n",
              "    }\n",
              "  </style>\n",
              "\n",
              "      <script>\n",
              "        const buttonEl =\n",
              "          document.querySelector('#df-f961de1e-fd9f-49cb-a605-9837318e8d95 button.colab-df-convert');\n",
              "        buttonEl.style.display =\n",
              "          google.colab.kernel.accessAllowed ? 'block' : 'none';\n",
              "\n",
              "        async function convertToInteractive(key) {\n",
              "          const element = document.querySelector('#df-f961de1e-fd9f-49cb-a605-9837318e8d95');\n",
              "          const dataTable =\n",
              "            await google.colab.kernel.invokeFunction('convertToInteractive',\n",
              "                                                     [key], {});\n",
              "          if (!dataTable) return;\n",
              "\n",
              "          const docLinkHtml = 'Like what you see? Visit the ' +\n",
              "            '<a target=\"_blank\" href=https://colab.research.google.com/notebooks/data_table.ipynb>data table notebook</a>'\n",
              "            + ' to learn more about interactive tables.';\n",
              "          element.innerHTML = '';\n",
              "          dataTable['output_type'] = 'display_data';\n",
              "          await google.colab.output.renderOutput(dataTable, element);\n",
              "          const docLink = document.createElement('div');\n",
              "          docLink.innerHTML = docLinkHtml;\n",
              "          element.appendChild(docLink);\n",
              "        }\n",
              "      </script>\n",
              "    </div>\n",
              "  </div>\n",
              "  "
            ]
          },
          "metadata": {},
          "execution_count": 101
        }
      ]
    },
    {
      "cell_type": "code",
      "source": [
        "#Renaming the columns\n",
        "help.rename(columns={ \"Tag name\" :\"Tag_name\",\"No. clicks\":\"clicks\"},inplace=True)"
      ],
      "metadata": {
        "id": "88aJNN_u67VF"
      },
      "execution_count": null,
      "outputs": []
    },
    {
      "cell_type": "code",
      "source": [
        "#Calculating no of clicks for help\n",
        "clicks_help_ver4=help.loc[help.Name==\"HELP\",\"clicks\"].sum()\n",
        "clicks_help_ver4"
      ],
      "metadata": {
        "colab": {
          "base_uri": "https://localhost:8080/"
        },
        "id": "Qbqwngl467gf",
        "outputId": "6dfe0cd0-4970-46c1-8aec-de40c504606e"
      },
      "execution_count": null,
      "outputs": [
        {
          "output_type": "execute_result",
          "data": {
            "text/plain": [
              "38"
            ]
          },
          "metadata": {},
          "execution_count": 103
        }
      ]
    },
    {
      "cell_type": "code",
      "source": [
        "#Calculating no of clicks for find\n",
        "clicks_find_ver4=help.loc[help.Name==\"FIND\",\"clicks\"].sum()\n",
        "clicks_find_ver4"
      ],
      "metadata": {
        "colab": {
          "base_uri": "https://localhost:8080/"
        },
        "id": "zIeWMFcW67oZ",
        "outputId": "ad22d5a5-4b26-42ff-a9f0-43f3a114c4d6"
      },
      "execution_count": null,
      "outputs": [
        {
          "output_type": "execute_result",
          "data": {
            "text/plain": [
              "631"
            ]
          },
          "metadata": {},
          "execution_count": 104
        }
      ]
    },
    {
      "cell_type": "code",
      "source": [
        "#Calculating no of clicks for request\n",
        "clicks_request_ver4=help.loc[help.Name==\"REQUEST\",\"clicks\"].sum()\n",
        "clicks_request_ver4"
      ],
      "metadata": {
        "colab": {
          "base_uri": "https://localhost:8080/"
        },
        "id": "1WlojOvG67s_",
        "outputId": "061f323b-0af7-43f2-9f5c-39a18e196667"
      },
      "execution_count": null,
      "outputs": [
        {
          "output_type": "execute_result",
          "data": {
            "text/plain": [
              "72"
            ]
          },
          "metadata": {},
          "execution_count": 105
        }
      ]
    },
    {
      "cell_type": "code",
      "source": [
        "#calcuting the no of clicks for Interact\n",
        "#Total_clicks_ver4=help.clicks.sum()\n",
        "noclicks_help_ver4= 3180 - clicks_help_ver4\n",
        "noclicks_requset_ver4=3180- clicks_request_ver4\n",
        "noclicks_find_ver4=3180- clicks_find_ver4\n",
        "noclicks_help_ver4,noclicks_requset_ver4,noclicks_find_ver4"
      ],
      "metadata": {
        "colab": {
          "base_uri": "https://localhost:8080/"
        },
        "id": "3S_rlOZ267xY",
        "outputId": "3c50ca1d-c0fc-4c64-a507-4661b6c1cd50"
      },
      "execution_count": null,
      "outputs": [
        {
          "output_type": "execute_result",
          "data": {
            "text/plain": [
              "(3142, 3108, 2549)"
            ]
          },
          "metadata": {},
          "execution_count": 106
        }
      ]
    },
    {
      "cell_type": "code",
      "source": [
        "# calculating click through rate version 4\n",
        "ctr_ver4=clicks_help_ver4/ 3180 # total visits from .csv\n",
        "per_help_click=ctr_ver4*100\n",
        "ctr_ver4,per_help_click"
      ],
      "metadata": {
        "colab": {
          "base_uri": "https://localhost:8080/"
        },
        "id": "7uR-j0Oq98cF",
        "outputId": "dac8e66c-9ae4-4169-d0c7-f5e82e9ddd7a"
      },
      "execution_count": null,
      "outputs": [
        {
          "output_type": "execute_result",
          "data": {
            "text/plain": [
              "(0.011949685534591196, 1.1949685534591197)"
            ]
          },
          "metadata": {},
          "execution_count": 107
        }
      ]
    },
    {
      "cell_type": "code",
      "source": [
        "#calculating Homepage-return rate for the category pages version 4 Metric 3\n",
        "Homepage_return_rate_ver4=1350/ 1717\n",
        "Homepage_return_rate_ver4"
      ],
      "metadata": {
        "colab": {
          "base_uri": "https://localhost:8080/"
        },
        "id": "XYpjXoqlCMnh",
        "outputId": "c3b2a3e2-2879-4525-be3d-b9fceb92e2ae"
      },
      "execution_count": null,
      "outputs": [
        {
          "output_type": "execute_result",
          "data": {
            "text/plain": [
              "0.786255096097845"
            ]
          },
          "metadata": {},
          "execution_count": 108
        }
      ]
    },
    {
      "cell_type": "code",
      "source": [
        "# 30% of version1 clicks\n",
        "exp_clicks_ver4=round(0.3*3180,0)\n",
        "exp_clicks_ver4"
      ],
      "metadata": {
        "colab": {
          "base_uri": "https://localhost:8080/"
        },
        "id": "eFwd3wcSK76P",
        "outputId": "f8d68efe-9cac-4c48-c581-d17f0a12cefc"
      },
      "execution_count": null,
      "outputs": [
        {
          "output_type": "execute_result",
          "data": {
            "text/plain": [
              "954.0"
            ]
          },
          "metadata": {},
          "execution_count": 109
        }
      ]
    },
    {
      "cell_type": "markdown",
      "source": [
        "### **Version 5**"
      ],
      "metadata": {
        "id": "GvVEiUn08Jqt"
      }
    },
    {
      "cell_type": "code",
      "source": [
        "services"
      ],
      "metadata": {
        "colab": {
          "base_uri": "https://localhost:8080/",
          "height": 1000
        },
        "id": "wfFekfMG8RbS",
        "outputId": "4f43c01c-760c-457a-de69-3b6b4ec3a6a4"
      },
      "execution_count": null,
      "outputs": [
        {
          "output_type": "execute_result",
          "data": {
            "text/plain": [
              "    Element ID Tag name                                               Name  \\\n",
              "0           69        a                                               FIND   \n",
              "1           61    input                                                s.q   \n",
              "2           67        a                              lib.montana.edu/find/   \n",
              "3           62   button                                             Search   \n",
              "4           98        a                                              Hours   \n",
              "5           78        a                                            REQUEST   \n",
              "6          129     area                    Montana State University - Home   \n",
              "7           87        a                                           SERVICES   \n",
              "8           96        a                                               News   \n",
              "9           76        a                           lib.montana.edu/request/   \n",
              "10          64        a                                    Advanced Search   \n",
              "11          85        a                          lib.montana.edu/interact/   \n",
              "12          30        a                                    slideshow-right   \n",
              "13         119        a                                  About MSU Library   \n",
              "14          50     span                                       nav-item-dot   \n",
              "15         115        a                                            YouTube   \n",
              "16           6        a                                    Ask A Librarian   \n",
              "17         122        a                                         Contact Us   \n",
              "18          40        a                                           nav-item   \n",
              "19          48        a                                           nav-item   \n",
              "20         107        a          6/17 Library Workshop: EndNote Web Basics   \n",
              "21          44        a                                           nav-item   \n",
              "22          59      div                                             Search   \n",
              "23          46     span                                       nav-item-dot   \n",
              "24          58      img                                label for catsearch   \n",
              "25          60     form                                             Search   \n",
              "26          63      div                                    Advanced Search   \n",
              "27         128      div  Explore the world, explore the pastScience & N...   \n",
              "28           3      img                Montana State University in Bozeman   \n",
              "29           8      div                                           logo-ikd   \n",
              "30          15        p    Montana State University Historical Photographs   \n",
              "31          29        a                                     slideshow-left   \n",
              "32          38     span                                       nav-item-dot   \n",
              "33          73        p  Find research materials, including articles, b...   \n",
              "34         105        a               6/17 Library Workshop: Zotero Basics   \n",
              "35         114        a                                           Facebook   \n",
              "36         125        a                                        Mobile Site   \n",
              "37          14      div    Montana State University Historical Photographs   \n",
              "38          18        p        Indian Peoples of the Northern Great Plains   \n",
              "39          19      div  Meet with a librarian for help with your resea...   \n",
              "40          25        a                                 Schedule a meeting   \n",
              "41          36        a                                           nav-item   \n",
              "42          42     span                                       nav-item-dot   \n",
              "43          55      div                             Search Advanced Search   \n",
              "44          91        p  Learn about the library and meet with us for r...   \n",
              "45         100        a                                            Twitter   \n",
              "46         101       ul  News 6/17 Library Workshop: Zotero Basics 6/17...   \n",
              "47         113        a                                            Twitter   \n",
              "48         116      div  © MSU About MSU Library Accessibility Contact ...   \n",
              "49         130      div                          lib.montana.edu/interact/   \n",
              "50         131   center                             lib.montana.edu/hours/   \n",
              "51         132     font                                               지저귀다   \n",
              "52         133        a  6/18 Excel 2010: Formulas and Functions [webinar]   \n",
              "\n",
              "    No. clicks  Visible?                               Snapshot information  \n",
              "0          397      True  Homepage Version 5 - Services   •   http://www...  \n",
              "1          323      True  created 5-29-2013   •   20 days 4 hours 59 min...  \n",
              "2          106      True                                                NaN  \n",
              "3           85      True                                                NaN  \n",
              "4           81      True                                                NaN  \n",
              "5           57      True                                                NaN  \n",
              "6           49     False                                                NaN  \n",
              "7           45      True                                                NaN  \n",
              "8           24      True                                                NaN  \n",
              "9           22      True                                                NaN  \n",
              "10          19      True                                                NaN  \n",
              "11          18      True                                                NaN  \n",
              "12          14      True                                                NaN  \n",
              "13           9      True                                                NaN  \n",
              "14           8      True                                                NaN  \n",
              "15           7      True                                                NaN  \n",
              "16           6      True                                                NaN  \n",
              "17           6      True                                                NaN  \n",
              "18           5      True                                                NaN  \n",
              "19           5      True                                                NaN  \n",
              "20           5      True                                                NaN  \n",
              "21           4      True                                                NaN  \n",
              "22           4      True                                                NaN  \n",
              "23           3      True                                                NaN  \n",
              "24           3      True                                                NaN  \n",
              "25           3      True                                                NaN  \n",
              "26           3      True                                                NaN  \n",
              "27           3     False                                                NaN  \n",
              "28           2      True                                                NaN  \n",
              "29           2      True                                                NaN  \n",
              "30           2      True                                                NaN  \n",
              "31           2      True                                                NaN  \n",
              "32           2      True                                                NaN  \n",
              "33           2      True                                                NaN  \n",
              "34           2      True                                                NaN  \n",
              "35           2      True                                                NaN  \n",
              "36           2      True                                                NaN  \n",
              "37           1      True                                                NaN  \n",
              "38           1      True                                                NaN  \n",
              "39           1      True                                                NaN  \n",
              "40           1      True                                                NaN  \n",
              "41           1      True                                                NaN  \n",
              "42           1      True                                                NaN  \n",
              "43           1      True                                                NaN  \n",
              "44           1      True                                                NaN  \n",
              "45           1      True                                                NaN  \n",
              "46           1      True                                                NaN  \n",
              "47           1      True                                                NaN  \n",
              "48           1      True                                                NaN  \n",
              "49           1     False                                                NaN  \n",
              "50           1     False                                                NaN  \n",
              "51           1     False                                                NaN  \n",
              "52           1     False                                                NaN  "
            ],
            "text/html": [
              "\n",
              "  <div id=\"df-bbcd90f0-dfea-4589-bb39-886512b6e621\">\n",
              "    <div class=\"colab-df-container\">\n",
              "      <div>\n",
              "<style scoped>\n",
              "    .dataframe tbody tr th:only-of-type {\n",
              "        vertical-align: middle;\n",
              "    }\n",
              "\n",
              "    .dataframe tbody tr th {\n",
              "        vertical-align: top;\n",
              "    }\n",
              "\n",
              "    .dataframe thead th {\n",
              "        text-align: right;\n",
              "    }\n",
              "</style>\n",
              "<table border=\"1\" class=\"dataframe\">\n",
              "  <thead>\n",
              "    <tr style=\"text-align: right;\">\n",
              "      <th></th>\n",
              "      <th>Element ID</th>\n",
              "      <th>Tag name</th>\n",
              "      <th>Name</th>\n",
              "      <th>No. clicks</th>\n",
              "      <th>Visible?</th>\n",
              "      <th>Snapshot information</th>\n",
              "    </tr>\n",
              "  </thead>\n",
              "  <tbody>\n",
              "    <tr>\n",
              "      <th>0</th>\n",
              "      <td>69</td>\n",
              "      <td>a</td>\n",
              "      <td>FIND</td>\n",
              "      <td>397</td>\n",
              "      <td>True</td>\n",
              "      <td>Homepage Version 5 - Services   •   http://www...</td>\n",
              "    </tr>\n",
              "    <tr>\n",
              "      <th>1</th>\n",
              "      <td>61</td>\n",
              "      <td>input</td>\n",
              "      <td>s.q</td>\n",
              "      <td>323</td>\n",
              "      <td>True</td>\n",
              "      <td>created 5-29-2013   •   20 days 4 hours 59 min...</td>\n",
              "    </tr>\n",
              "    <tr>\n",
              "      <th>2</th>\n",
              "      <td>67</td>\n",
              "      <td>a</td>\n",
              "      <td>lib.montana.edu/find/</td>\n",
              "      <td>106</td>\n",
              "      <td>True</td>\n",
              "      <td>NaN</td>\n",
              "    </tr>\n",
              "    <tr>\n",
              "      <th>3</th>\n",
              "      <td>62</td>\n",
              "      <td>button</td>\n",
              "      <td>Search</td>\n",
              "      <td>85</td>\n",
              "      <td>True</td>\n",
              "      <td>NaN</td>\n",
              "    </tr>\n",
              "    <tr>\n",
              "      <th>4</th>\n",
              "      <td>98</td>\n",
              "      <td>a</td>\n",
              "      <td>Hours</td>\n",
              "      <td>81</td>\n",
              "      <td>True</td>\n",
              "      <td>NaN</td>\n",
              "    </tr>\n",
              "    <tr>\n",
              "      <th>5</th>\n",
              "      <td>78</td>\n",
              "      <td>a</td>\n",
              "      <td>REQUEST</td>\n",
              "      <td>57</td>\n",
              "      <td>True</td>\n",
              "      <td>NaN</td>\n",
              "    </tr>\n",
              "    <tr>\n",
              "      <th>6</th>\n",
              "      <td>129</td>\n",
              "      <td>area</td>\n",
              "      <td>Montana State University - Home</td>\n",
              "      <td>49</td>\n",
              "      <td>False</td>\n",
              "      <td>NaN</td>\n",
              "    </tr>\n",
              "    <tr>\n",
              "      <th>7</th>\n",
              "      <td>87</td>\n",
              "      <td>a</td>\n",
              "      <td>SERVICES</td>\n",
              "      <td>45</td>\n",
              "      <td>True</td>\n",
              "      <td>NaN</td>\n",
              "    </tr>\n",
              "    <tr>\n",
              "      <th>8</th>\n",
              "      <td>96</td>\n",
              "      <td>a</td>\n",
              "      <td>News</td>\n",
              "      <td>24</td>\n",
              "      <td>True</td>\n",
              "      <td>NaN</td>\n",
              "    </tr>\n",
              "    <tr>\n",
              "      <th>9</th>\n",
              "      <td>76</td>\n",
              "      <td>a</td>\n",
              "      <td>lib.montana.edu/request/</td>\n",
              "      <td>22</td>\n",
              "      <td>True</td>\n",
              "      <td>NaN</td>\n",
              "    </tr>\n",
              "    <tr>\n",
              "      <th>10</th>\n",
              "      <td>64</td>\n",
              "      <td>a</td>\n",
              "      <td>Advanced Search</td>\n",
              "      <td>19</td>\n",
              "      <td>True</td>\n",
              "      <td>NaN</td>\n",
              "    </tr>\n",
              "    <tr>\n",
              "      <th>11</th>\n",
              "      <td>85</td>\n",
              "      <td>a</td>\n",
              "      <td>lib.montana.edu/interact/</td>\n",
              "      <td>18</td>\n",
              "      <td>True</td>\n",
              "      <td>NaN</td>\n",
              "    </tr>\n",
              "    <tr>\n",
              "      <th>12</th>\n",
              "      <td>30</td>\n",
              "      <td>a</td>\n",
              "      <td>slideshow-right</td>\n",
              "      <td>14</td>\n",
              "      <td>True</td>\n",
              "      <td>NaN</td>\n",
              "    </tr>\n",
              "    <tr>\n",
              "      <th>13</th>\n",
              "      <td>119</td>\n",
              "      <td>a</td>\n",
              "      <td>About MSU Library</td>\n",
              "      <td>9</td>\n",
              "      <td>True</td>\n",
              "      <td>NaN</td>\n",
              "    </tr>\n",
              "    <tr>\n",
              "      <th>14</th>\n",
              "      <td>50</td>\n",
              "      <td>span</td>\n",
              "      <td>nav-item-dot</td>\n",
              "      <td>8</td>\n",
              "      <td>True</td>\n",
              "      <td>NaN</td>\n",
              "    </tr>\n",
              "    <tr>\n",
              "      <th>15</th>\n",
              "      <td>115</td>\n",
              "      <td>a</td>\n",
              "      <td>YouTube</td>\n",
              "      <td>7</td>\n",
              "      <td>True</td>\n",
              "      <td>NaN</td>\n",
              "    </tr>\n",
              "    <tr>\n",
              "      <th>16</th>\n",
              "      <td>6</td>\n",
              "      <td>a</td>\n",
              "      <td>Ask A Librarian</td>\n",
              "      <td>6</td>\n",
              "      <td>True</td>\n",
              "      <td>NaN</td>\n",
              "    </tr>\n",
              "    <tr>\n",
              "      <th>17</th>\n",
              "      <td>122</td>\n",
              "      <td>a</td>\n",
              "      <td>Contact Us</td>\n",
              "      <td>6</td>\n",
              "      <td>True</td>\n",
              "      <td>NaN</td>\n",
              "    </tr>\n",
              "    <tr>\n",
              "      <th>18</th>\n",
              "      <td>40</td>\n",
              "      <td>a</td>\n",
              "      <td>nav-item</td>\n",
              "      <td>5</td>\n",
              "      <td>True</td>\n",
              "      <td>NaN</td>\n",
              "    </tr>\n",
              "    <tr>\n",
              "      <th>19</th>\n",
              "      <td>48</td>\n",
              "      <td>a</td>\n",
              "      <td>nav-item</td>\n",
              "      <td>5</td>\n",
              "      <td>True</td>\n",
              "      <td>NaN</td>\n",
              "    </tr>\n",
              "    <tr>\n",
              "      <th>20</th>\n",
              "      <td>107</td>\n",
              "      <td>a</td>\n",
              "      <td>6/17 Library Workshop: EndNote Web Basics</td>\n",
              "      <td>5</td>\n",
              "      <td>True</td>\n",
              "      <td>NaN</td>\n",
              "    </tr>\n",
              "    <tr>\n",
              "      <th>21</th>\n",
              "      <td>44</td>\n",
              "      <td>a</td>\n",
              "      <td>nav-item</td>\n",
              "      <td>4</td>\n",
              "      <td>True</td>\n",
              "      <td>NaN</td>\n",
              "    </tr>\n",
              "    <tr>\n",
              "      <th>22</th>\n",
              "      <td>59</td>\n",
              "      <td>div</td>\n",
              "      <td>Search</td>\n",
              "      <td>4</td>\n",
              "      <td>True</td>\n",
              "      <td>NaN</td>\n",
              "    </tr>\n",
              "    <tr>\n",
              "      <th>23</th>\n",
              "      <td>46</td>\n",
              "      <td>span</td>\n",
              "      <td>nav-item-dot</td>\n",
              "      <td>3</td>\n",
              "      <td>True</td>\n",
              "      <td>NaN</td>\n",
              "    </tr>\n",
              "    <tr>\n",
              "      <th>24</th>\n",
              "      <td>58</td>\n",
              "      <td>img</td>\n",
              "      <td>label for catsearch</td>\n",
              "      <td>3</td>\n",
              "      <td>True</td>\n",
              "      <td>NaN</td>\n",
              "    </tr>\n",
              "    <tr>\n",
              "      <th>25</th>\n",
              "      <td>60</td>\n",
              "      <td>form</td>\n",
              "      <td>Search</td>\n",
              "      <td>3</td>\n",
              "      <td>True</td>\n",
              "      <td>NaN</td>\n",
              "    </tr>\n",
              "    <tr>\n",
              "      <th>26</th>\n",
              "      <td>63</td>\n",
              "      <td>div</td>\n",
              "      <td>Advanced Search</td>\n",
              "      <td>3</td>\n",
              "      <td>True</td>\n",
              "      <td>NaN</td>\n",
              "    </tr>\n",
              "    <tr>\n",
              "      <th>27</th>\n",
              "      <td>128</td>\n",
              "      <td>div</td>\n",
              "      <td>Explore the world, explore the pastScience &amp; N...</td>\n",
              "      <td>3</td>\n",
              "      <td>False</td>\n",
              "      <td>NaN</td>\n",
              "    </tr>\n",
              "    <tr>\n",
              "      <th>28</th>\n",
              "      <td>3</td>\n",
              "      <td>img</td>\n",
              "      <td>Montana State University in Bozeman</td>\n",
              "      <td>2</td>\n",
              "      <td>True</td>\n",
              "      <td>NaN</td>\n",
              "    </tr>\n",
              "    <tr>\n",
              "      <th>29</th>\n",
              "      <td>8</td>\n",
              "      <td>div</td>\n",
              "      <td>logo-ikd</td>\n",
              "      <td>2</td>\n",
              "      <td>True</td>\n",
              "      <td>NaN</td>\n",
              "    </tr>\n",
              "    <tr>\n",
              "      <th>30</th>\n",
              "      <td>15</td>\n",
              "      <td>p</td>\n",
              "      <td>Montana State University Historical Photographs</td>\n",
              "      <td>2</td>\n",
              "      <td>True</td>\n",
              "      <td>NaN</td>\n",
              "    </tr>\n",
              "    <tr>\n",
              "      <th>31</th>\n",
              "      <td>29</td>\n",
              "      <td>a</td>\n",
              "      <td>slideshow-left</td>\n",
              "      <td>2</td>\n",
              "      <td>True</td>\n",
              "      <td>NaN</td>\n",
              "    </tr>\n",
              "    <tr>\n",
              "      <th>32</th>\n",
              "      <td>38</td>\n",
              "      <td>span</td>\n",
              "      <td>nav-item-dot</td>\n",
              "      <td>2</td>\n",
              "      <td>True</td>\n",
              "      <td>NaN</td>\n",
              "    </tr>\n",
              "    <tr>\n",
              "      <th>33</th>\n",
              "      <td>73</td>\n",
              "      <td>p</td>\n",
              "      <td>Find research materials, including articles, b...</td>\n",
              "      <td>2</td>\n",
              "      <td>True</td>\n",
              "      <td>NaN</td>\n",
              "    </tr>\n",
              "    <tr>\n",
              "      <th>34</th>\n",
              "      <td>105</td>\n",
              "      <td>a</td>\n",
              "      <td>6/17 Library Workshop: Zotero Basics</td>\n",
              "      <td>2</td>\n",
              "      <td>True</td>\n",
              "      <td>NaN</td>\n",
              "    </tr>\n",
              "    <tr>\n",
              "      <th>35</th>\n",
              "      <td>114</td>\n",
              "      <td>a</td>\n",
              "      <td>Facebook</td>\n",
              "      <td>2</td>\n",
              "      <td>True</td>\n",
              "      <td>NaN</td>\n",
              "    </tr>\n",
              "    <tr>\n",
              "      <th>36</th>\n",
              "      <td>125</td>\n",
              "      <td>a</td>\n",
              "      <td>Mobile Site</td>\n",
              "      <td>2</td>\n",
              "      <td>True</td>\n",
              "      <td>NaN</td>\n",
              "    </tr>\n",
              "    <tr>\n",
              "      <th>37</th>\n",
              "      <td>14</td>\n",
              "      <td>div</td>\n",
              "      <td>Montana State University Historical Photographs</td>\n",
              "      <td>1</td>\n",
              "      <td>True</td>\n",
              "      <td>NaN</td>\n",
              "    </tr>\n",
              "    <tr>\n",
              "      <th>38</th>\n",
              "      <td>18</td>\n",
              "      <td>p</td>\n",
              "      <td>Indian Peoples of the Northern Great Plains</td>\n",
              "      <td>1</td>\n",
              "      <td>True</td>\n",
              "      <td>NaN</td>\n",
              "    </tr>\n",
              "    <tr>\n",
              "      <th>39</th>\n",
              "      <td>19</td>\n",
              "      <td>div</td>\n",
              "      <td>Meet with a librarian for help with your resea...</td>\n",
              "      <td>1</td>\n",
              "      <td>True</td>\n",
              "      <td>NaN</td>\n",
              "    </tr>\n",
              "    <tr>\n",
              "      <th>40</th>\n",
              "      <td>25</td>\n",
              "      <td>a</td>\n",
              "      <td>Schedule a meeting</td>\n",
              "      <td>1</td>\n",
              "      <td>True</td>\n",
              "      <td>NaN</td>\n",
              "    </tr>\n",
              "    <tr>\n",
              "      <th>41</th>\n",
              "      <td>36</td>\n",
              "      <td>a</td>\n",
              "      <td>nav-item</td>\n",
              "      <td>1</td>\n",
              "      <td>True</td>\n",
              "      <td>NaN</td>\n",
              "    </tr>\n",
              "    <tr>\n",
              "      <th>42</th>\n",
              "      <td>42</td>\n",
              "      <td>span</td>\n",
              "      <td>nav-item-dot</td>\n",
              "      <td>1</td>\n",
              "      <td>True</td>\n",
              "      <td>NaN</td>\n",
              "    </tr>\n",
              "    <tr>\n",
              "      <th>43</th>\n",
              "      <td>55</td>\n",
              "      <td>div</td>\n",
              "      <td>Search Advanced Search</td>\n",
              "      <td>1</td>\n",
              "      <td>True</td>\n",
              "      <td>NaN</td>\n",
              "    </tr>\n",
              "    <tr>\n",
              "      <th>44</th>\n",
              "      <td>91</td>\n",
              "      <td>p</td>\n",
              "      <td>Learn about the library and meet with us for r...</td>\n",
              "      <td>1</td>\n",
              "      <td>True</td>\n",
              "      <td>NaN</td>\n",
              "    </tr>\n",
              "    <tr>\n",
              "      <th>45</th>\n",
              "      <td>100</td>\n",
              "      <td>a</td>\n",
              "      <td>Twitter</td>\n",
              "      <td>1</td>\n",
              "      <td>True</td>\n",
              "      <td>NaN</td>\n",
              "    </tr>\n",
              "    <tr>\n",
              "      <th>46</th>\n",
              "      <td>101</td>\n",
              "      <td>ul</td>\n",
              "      <td>News 6/17 Library Workshop: Zotero Basics 6/17...</td>\n",
              "      <td>1</td>\n",
              "      <td>True</td>\n",
              "      <td>NaN</td>\n",
              "    </tr>\n",
              "    <tr>\n",
              "      <th>47</th>\n",
              "      <td>113</td>\n",
              "      <td>a</td>\n",
              "      <td>Twitter</td>\n",
              "      <td>1</td>\n",
              "      <td>True</td>\n",
              "      <td>NaN</td>\n",
              "    </tr>\n",
              "    <tr>\n",
              "      <th>48</th>\n",
              "      <td>116</td>\n",
              "      <td>div</td>\n",
              "      <td>© MSU About MSU Library Accessibility Contact ...</td>\n",
              "      <td>1</td>\n",
              "      <td>True</td>\n",
              "      <td>NaN</td>\n",
              "    </tr>\n",
              "    <tr>\n",
              "      <th>49</th>\n",
              "      <td>130</td>\n",
              "      <td>div</td>\n",
              "      <td>lib.montana.edu/interact/</td>\n",
              "      <td>1</td>\n",
              "      <td>False</td>\n",
              "      <td>NaN</td>\n",
              "    </tr>\n",
              "    <tr>\n",
              "      <th>50</th>\n",
              "      <td>131</td>\n",
              "      <td>center</td>\n",
              "      <td>lib.montana.edu/hours/</td>\n",
              "      <td>1</td>\n",
              "      <td>False</td>\n",
              "      <td>NaN</td>\n",
              "    </tr>\n",
              "    <tr>\n",
              "      <th>51</th>\n",
              "      <td>132</td>\n",
              "      <td>font</td>\n",
              "      <td>지저귀다</td>\n",
              "      <td>1</td>\n",
              "      <td>False</td>\n",
              "      <td>NaN</td>\n",
              "    </tr>\n",
              "    <tr>\n",
              "      <th>52</th>\n",
              "      <td>133</td>\n",
              "      <td>a</td>\n",
              "      <td>6/18 Excel 2010: Formulas and Functions [webinar]</td>\n",
              "      <td>1</td>\n",
              "      <td>False</td>\n",
              "      <td>NaN</td>\n",
              "    </tr>\n",
              "  </tbody>\n",
              "</table>\n",
              "</div>\n",
              "      <button class=\"colab-df-convert\" onclick=\"convertToInteractive('df-bbcd90f0-dfea-4589-bb39-886512b6e621')\"\n",
              "              title=\"Convert this dataframe to an interactive table.\"\n",
              "              style=\"display:none;\">\n",
              "        \n",
              "  <svg xmlns=\"http://www.w3.org/2000/svg\" height=\"24px\"viewBox=\"0 0 24 24\"\n",
              "       width=\"24px\">\n",
              "    <path d=\"M0 0h24v24H0V0z\" fill=\"none\"/>\n",
              "    <path d=\"M18.56 5.44l.94 2.06.94-2.06 2.06-.94-2.06-.94-.94-2.06-.94 2.06-2.06.94zm-11 1L8.5 8.5l.94-2.06 2.06-.94-2.06-.94L8.5 2.5l-.94 2.06-2.06.94zm10 10l.94 2.06.94-2.06 2.06-.94-2.06-.94-.94-2.06-.94 2.06-2.06.94z\"/><path d=\"M17.41 7.96l-1.37-1.37c-.4-.4-.92-.59-1.43-.59-.52 0-1.04.2-1.43.59L10.3 9.45l-7.72 7.72c-.78.78-.78 2.05 0 2.83L4 21.41c.39.39.9.59 1.41.59.51 0 1.02-.2 1.41-.59l7.78-7.78 2.81-2.81c.8-.78.8-2.07 0-2.86zM5.41 20L4 18.59l7.72-7.72 1.47 1.35L5.41 20z\"/>\n",
              "  </svg>\n",
              "      </button>\n",
              "      \n",
              "  <style>\n",
              "    .colab-df-container {\n",
              "      display:flex;\n",
              "      flex-wrap:wrap;\n",
              "      gap: 12px;\n",
              "    }\n",
              "\n",
              "    .colab-df-convert {\n",
              "      background-color: #E8F0FE;\n",
              "      border: none;\n",
              "      border-radius: 50%;\n",
              "      cursor: pointer;\n",
              "      display: none;\n",
              "      fill: #1967D2;\n",
              "      height: 32px;\n",
              "      padding: 0 0 0 0;\n",
              "      width: 32px;\n",
              "    }\n",
              "\n",
              "    .colab-df-convert:hover {\n",
              "      background-color: #E2EBFA;\n",
              "      box-shadow: 0px 1px 2px rgba(60, 64, 67, 0.3), 0px 1px 3px 1px rgba(60, 64, 67, 0.15);\n",
              "      fill: #174EA6;\n",
              "    }\n",
              "\n",
              "    [theme=dark] .colab-df-convert {\n",
              "      background-color: #3B4455;\n",
              "      fill: #D2E3FC;\n",
              "    }\n",
              "\n",
              "    [theme=dark] .colab-df-convert:hover {\n",
              "      background-color: #434B5C;\n",
              "      box-shadow: 0px 1px 3px 1px rgba(0, 0, 0, 0.15);\n",
              "      filter: drop-shadow(0px 1px 2px rgba(0, 0, 0, 0.3));\n",
              "      fill: #FFFFFF;\n",
              "    }\n",
              "  </style>\n",
              "\n",
              "      <script>\n",
              "        const buttonEl =\n",
              "          document.querySelector('#df-bbcd90f0-dfea-4589-bb39-886512b6e621 button.colab-df-convert');\n",
              "        buttonEl.style.display =\n",
              "          google.colab.kernel.accessAllowed ? 'block' : 'none';\n",
              "\n",
              "        async function convertToInteractive(key) {\n",
              "          const element = document.querySelector('#df-bbcd90f0-dfea-4589-bb39-886512b6e621');\n",
              "          const dataTable =\n",
              "            await google.colab.kernel.invokeFunction('convertToInteractive',\n",
              "                                                     [key], {});\n",
              "          if (!dataTable) return;\n",
              "\n",
              "          const docLinkHtml = 'Like what you see? Visit the ' +\n",
              "            '<a target=\"_blank\" href=https://colab.research.google.com/notebooks/data_table.ipynb>data table notebook</a>'\n",
              "            + ' to learn more about interactive tables.';\n",
              "          element.innerHTML = '';\n",
              "          dataTable['output_type'] = 'display_data';\n",
              "          await google.colab.output.renderOutput(dataTable, element);\n",
              "          const docLink = document.createElement('div');\n",
              "          docLink.innerHTML = docLinkHtml;\n",
              "          element.appendChild(docLink);\n",
              "        }\n",
              "      </script>\n",
              "    </div>\n",
              "  </div>\n",
              "  "
            ]
          },
          "metadata": {},
          "execution_count": 110
        }
      ]
    },
    {
      "cell_type": "code",
      "source": [
        "#Renaming the columns\n",
        "services.rename(columns={ \"Tag name\" :\"Tag_name\",\"No. clicks\":\"clicks\"},inplace=True)"
      ],
      "metadata": {
        "id": "41TheylN8XH2"
      },
      "execution_count": null,
      "outputs": []
    },
    {
      "cell_type": "code",
      "source": [
        "#Calculating no of clicks for find\n",
        "clicks_find_ver5=services.loc[services.Name==\"FIND\",\"clicks\"].sum()\n",
        "clicks_find_ver5"
      ],
      "metadata": {
        "colab": {
          "base_uri": "https://localhost:8080/"
        },
        "id": "wXv__bDm8XNP",
        "outputId": "4e19fc1a-3804-439b-e9af-ae41b69f5a23"
      },
      "execution_count": null,
      "outputs": [
        {
          "output_type": "execute_result",
          "data": {
            "text/plain": [
              "397"
            ]
          },
          "metadata": {},
          "execution_count": 112
        }
      ]
    },
    {
      "cell_type": "code",
      "source": [
        "#Calculating no of clicks for request\n",
        "clicks_request_ver5=services.loc[services.Name==\"REQUEST\",\"clicks\"].sum()\n",
        "clicks_request_ver5"
      ],
      "metadata": {
        "colab": {
          "base_uri": "https://localhost:8080/"
        },
        "id": "a4VdrMak8XSL",
        "outputId": "75f90cde-5119-4858-a5fb-15761efa0196"
      },
      "execution_count": null,
      "outputs": [
        {
          "output_type": "execute_result",
          "data": {
            "text/plain": [
              "57"
            ]
          },
          "metadata": {},
          "execution_count": 113
        }
      ]
    },
    {
      "cell_type": "code",
      "source": [
        "#Calculating no of clicks for services\n",
        "clicks_services_ver5=services.loc[services.Name==\"SERVICES\",\"clicks\"].sum()\n",
        "clicks_services_ver5"
      ],
      "metadata": {
        "colab": {
          "base_uri": "https://localhost:8080/"
        },
        "id": "C7ZfsorI8XXu",
        "outputId": "0fc133d7-0c75-4894-ca93-d0b7f4476c7e"
      },
      "execution_count": null,
      "outputs": [
        {
          "output_type": "execute_result",
          "data": {
            "text/plain": [
              "45"
            ]
          },
          "metadata": {},
          "execution_count": 114
        }
      ]
    },
    {
      "cell_type": "code",
      "source": [
        "#calcuting the no of clicks for Interact\n",
        "#Total_clicks_ver5=services.clicks.sum()\n",
        "noclicks_services_ver5= 2064 - clicks_services_ver5\n",
        "noclicks_requset_ver5=2064- clicks_request_ver4\n",
        "noclicks_find_ver5=2064- clicks_find_ver5\n",
        "noclicks_services_ver5,noclicks_requset_ver5,noclicks_find_ver5"
      ],
      "metadata": {
        "colab": {
          "base_uri": "https://localhost:8080/"
        },
        "id": "Exlueg9i8Xcl",
        "outputId": "899df8fc-21ae-4665-f259-e7730c70bdb5"
      },
      "execution_count": null,
      "outputs": [
        {
          "output_type": "execute_result",
          "data": {
            "text/plain": [
              "(2019, 1992, 1667)"
            ]
          },
          "metadata": {},
          "execution_count": 115
        }
      ]
    },
    {
      "cell_type": "code",
      "source": [
        "ctr_ver5=clicks_services_ver5/ 2064 # total visits from .csv\n",
        "per_services_click=ctr_ver5*100\n",
        "ctr_ver5,per_services_click"
      ],
      "metadata": {
        "colab": {
          "base_uri": "https://localhost:8080/"
        },
        "id": "QAH997vH9iE5",
        "outputId": "157af698-6430-4412-bbdb-a2372168f8bc"
      },
      "execution_count": null,
      "outputs": [
        {
          "output_type": "execute_result",
          "data": {
            "text/plain": [
              "(0.02180232558139535, 2.1802325581395348)"
            ]
          },
          "metadata": {},
          "execution_count": 116
        }
      ]
    },
    {
      "cell_type": "code",
      "source": [
        "# Find max CTR\n",
        "CTR=[ctr_ver1,ctr_ver2,ctr_ver3,ctr_ver4,ctr_ver5]\n",
        "max_ctr=max(CTR)\n",
        "max_ctr\n"
      ],
      "metadata": {
        "colab": {
          "base_uri": "https://localhost:8080/"
        },
        "id": "vfoVYKRz_GiF",
        "outputId": "8cdb2111-bf39-405f-bf81-5d2780e06e0e"
      },
      "execution_count": null,
      "outputs": [
        {
          "output_type": "execute_result",
          "data": {
            "text/plain": [
              "0.02180232558139535"
            ]
          },
          "metadata": {},
          "execution_count": 117
        }
      ]
    },
    {
      "cell_type": "code",
      "source": [
        "#calculating Homepage-return rate for the category pages version 5 Metric 3\n",
        "Homepage_return_rate_ver5=936/ 1348\n",
        "Homepage_return_rate_ver5"
      ],
      "metadata": {
        "colab": {
          "base_uri": "https://localhost:8080/"
        },
        "id": "mfrtwuZkChUH",
        "outputId": "47657565-75e9-424c-9837-7281acf4e4a3"
      },
      "execution_count": null,
      "outputs": [
        {
          "output_type": "execute_result",
          "data": {
            "text/plain": [
              "0.6943620178041543"
            ]
          },
          "metadata": {},
          "execution_count": 118
        }
      ]
    },
    {
      "cell_type": "code",
      "source": [
        "# 30% of version1 clicks\n",
        "exp_clicks_ver5=round(0.3*2064,0)\n",
        "exp_clicks_ver5"
      ],
      "metadata": {
        "colab": {
          "base_uri": "https://localhost:8080/"
        },
        "id": "uXbJknrCK-el",
        "outputId": "030a2913-714c-4df4-ec01-2fe1900b9918"
      },
      "execution_count": null,
      "outputs": [
        {
          "output_type": "execute_result",
          "data": {
            "text/plain": [
              "619.0"
            ]
          },
          "metadata": {},
          "execution_count": 119
        }
      ]
    },
    {
      "cell_type": "markdown",
      "source": [
        "### **Version 5(services) has max CTR**"
      ],
      "metadata": {
        "id": "0Kl9mlh5_77W"
      }
    },
    {
      "cell_type": "markdown",
      "source": [
        "### **CHI square Test**"
      ],
      "metadata": {
        "id": "VnoDW_USFcJK"
      }
    },
    {
      "cell_type": "code",
      "source": [
        "# Observed results\n",
        "Click = [clicks_interact_ver1,clicks_connect_ver2,clicks_learn_ver3,clicks_help_ver4,clicks_services_ver5]\n",
        "No_click = [noclicks_interact_ver1,noclicks_connect_ver2,noclicks_learn_ver3,noclicks_help_ver4,noclicks_services_ver5]\n",
        "\n",
        "# Display the data in the form of a contingency table\n",
        "observed = pd.DataFrame([Click, No_click],\n",
        "                         columns = [\"Interact\", \"Connect\", \"Learn\",\"Help\",\"Services\"],\n",
        "                          index = [\"Click\", \"No-click\"])\n",
        "observed"
      ],
      "metadata": {
        "colab": {
          "base_uri": "https://localhost:8080/",
          "height": 112
        },
        "id": "l0FkB1L4Fgbz",
        "outputId": "64ef0d39-81ac-4c43-ba53-7aa463a1b2f0"
      },
      "execution_count": null,
      "outputs": [
        {
          "output_type": "execute_result",
          "data": {
            "text/plain": [
              "          Interact  Connect  Learn  Help  Services\n",
              "Click           42       53     21    38        45\n",
              "No-click     10241     2689   2726  3142      2019"
            ],
            "text/html": [
              "\n",
              "  <div id=\"df-5823f878-a67b-4089-bb3b-7d1b509ed486\">\n",
              "    <div class=\"colab-df-container\">\n",
              "      <div>\n",
              "<style scoped>\n",
              "    .dataframe tbody tr th:only-of-type {\n",
              "        vertical-align: middle;\n",
              "    }\n",
              "\n",
              "    .dataframe tbody tr th {\n",
              "        vertical-align: top;\n",
              "    }\n",
              "\n",
              "    .dataframe thead th {\n",
              "        text-align: right;\n",
              "    }\n",
              "</style>\n",
              "<table border=\"1\" class=\"dataframe\">\n",
              "  <thead>\n",
              "    <tr style=\"text-align: right;\">\n",
              "      <th></th>\n",
              "      <th>Interact</th>\n",
              "      <th>Connect</th>\n",
              "      <th>Learn</th>\n",
              "      <th>Help</th>\n",
              "      <th>Services</th>\n",
              "    </tr>\n",
              "  </thead>\n",
              "  <tbody>\n",
              "    <tr>\n",
              "      <th>Click</th>\n",
              "      <td>42</td>\n",
              "      <td>53</td>\n",
              "      <td>21</td>\n",
              "      <td>38</td>\n",
              "      <td>45</td>\n",
              "    </tr>\n",
              "    <tr>\n",
              "      <th>No-click</th>\n",
              "      <td>10241</td>\n",
              "      <td>2689</td>\n",
              "      <td>2726</td>\n",
              "      <td>3142</td>\n",
              "      <td>2019</td>\n",
              "    </tr>\n",
              "  </tbody>\n",
              "</table>\n",
              "</div>\n",
              "      <button class=\"colab-df-convert\" onclick=\"convertToInteractive('df-5823f878-a67b-4089-bb3b-7d1b509ed486')\"\n",
              "              title=\"Convert this dataframe to an interactive table.\"\n",
              "              style=\"display:none;\">\n",
              "        \n",
              "  <svg xmlns=\"http://www.w3.org/2000/svg\" height=\"24px\"viewBox=\"0 0 24 24\"\n",
              "       width=\"24px\">\n",
              "    <path d=\"M0 0h24v24H0V0z\" fill=\"none\"/>\n",
              "    <path d=\"M18.56 5.44l.94 2.06.94-2.06 2.06-.94-2.06-.94-.94-2.06-.94 2.06-2.06.94zm-11 1L8.5 8.5l.94-2.06 2.06-.94-2.06-.94L8.5 2.5l-.94 2.06-2.06.94zm10 10l.94 2.06.94-2.06 2.06-.94-2.06-.94-.94-2.06-.94 2.06-2.06.94z\"/><path d=\"M17.41 7.96l-1.37-1.37c-.4-.4-.92-.59-1.43-.59-.52 0-1.04.2-1.43.59L10.3 9.45l-7.72 7.72c-.78.78-.78 2.05 0 2.83L4 21.41c.39.39.9.59 1.41.59.51 0 1.02-.2 1.41-.59l7.78-7.78 2.81-2.81c.8-.78.8-2.07 0-2.86zM5.41 20L4 18.59l7.72-7.72 1.47 1.35L5.41 20z\"/>\n",
              "  </svg>\n",
              "      </button>\n",
              "      \n",
              "  <style>\n",
              "    .colab-df-container {\n",
              "      display:flex;\n",
              "      flex-wrap:wrap;\n",
              "      gap: 12px;\n",
              "    }\n",
              "\n",
              "    .colab-df-convert {\n",
              "      background-color: #E8F0FE;\n",
              "      border: none;\n",
              "      border-radius: 50%;\n",
              "      cursor: pointer;\n",
              "      display: none;\n",
              "      fill: #1967D2;\n",
              "      height: 32px;\n",
              "      padding: 0 0 0 0;\n",
              "      width: 32px;\n",
              "    }\n",
              "\n",
              "    .colab-df-convert:hover {\n",
              "      background-color: #E2EBFA;\n",
              "      box-shadow: 0px 1px 2px rgba(60, 64, 67, 0.3), 0px 1px 3px 1px rgba(60, 64, 67, 0.15);\n",
              "      fill: #174EA6;\n",
              "    }\n",
              "\n",
              "    [theme=dark] .colab-df-convert {\n",
              "      background-color: #3B4455;\n",
              "      fill: #D2E3FC;\n",
              "    }\n",
              "\n",
              "    [theme=dark] .colab-df-convert:hover {\n",
              "      background-color: #434B5C;\n",
              "      box-shadow: 0px 1px 3px 1px rgba(0, 0, 0, 0.15);\n",
              "      filter: drop-shadow(0px 1px 2px rgba(0, 0, 0, 0.3));\n",
              "      fill: #FFFFFF;\n",
              "    }\n",
              "  </style>\n",
              "\n",
              "      <script>\n",
              "        const buttonEl =\n",
              "          document.querySelector('#df-5823f878-a67b-4089-bb3b-7d1b509ed486 button.colab-df-convert');\n",
              "        buttonEl.style.display =\n",
              "          google.colab.kernel.accessAllowed ? 'block' : 'none';\n",
              "\n",
              "        async function convertToInteractive(key) {\n",
              "          const element = document.querySelector('#df-5823f878-a67b-4089-bb3b-7d1b509ed486');\n",
              "          const dataTable =\n",
              "            await google.colab.kernel.invokeFunction('convertToInteractive',\n",
              "                                                     [key], {});\n",
              "          if (!dataTable) return;\n",
              "\n",
              "          const docLinkHtml = 'Like what you see? Visit the ' +\n",
              "            '<a target=\"_blank\" href=https://colab.research.google.com/notebooks/data_table.ipynb>data table notebook</a>'\n",
              "            + ' to learn more about interactive tables.';\n",
              "          element.innerHTML = '';\n",
              "          dataTable['output_type'] = 'display_data';\n",
              "          await google.colab.output.renderOutput(dataTable, element);\n",
              "          const docLink = document.createElement('div');\n",
              "          docLink.innerHTML = docLinkHtml;\n",
              "          element.appendChild(docLink);\n",
              "        }\n",
              "      </script>\n",
              "    </div>\n",
              "  </div>\n",
              "  "
            ]
          },
          "metadata": {},
          "execution_count": 141
        }
      ]
    },
    {
      "cell_type": "markdown",
      "source": [
        "Null Hypothesis: The 5 versions of the button are equally likely to receive clicks, and the observed differences are due to chance.\n",
        "\n",
        "Alternative Hypothesis: The observed differences are not due to chance: there is at least one version that got so many more/much less clicks than the others that this can hardly be explained just by chance (i.e. they have a better/worse CTR, a better/worse performance)."
      ],
      "metadata": {
        "id": "_FVgVHLKG_Mf"
      }
    },
    {
      "cell_type": "code",
      "source": [
        "alpha=0.1 # level of significance"
      ],
      "metadata": {
        "id": "4u7-9LGqHJau"
      },
      "execution_count": null,
      "outputs": []
    },
    {
      "cell_type": "code",
      "source": [
        "from scipy.stats import chi2_contingency"
      ],
      "metadata": {
        "id": "WjNiwCsEGtDD"
      },
      "execution_count": null,
      "outputs": []
    },
    {
      "cell_type": "code",
      "source": [
        "chisq, pvalue, df, expected = chi2_contingency(observed)\n",
        "chisq"
      ],
      "metadata": {
        "colab": {
          "base_uri": "https://localhost:8080/"
        },
        "id": "tqKp05SLGxb_",
        "outputId": "5638baf1-cda5-4ae6-fdce-3bb1407c9fbb"
      },
      "execution_count": null,
      "outputs": [
        {
          "output_type": "execute_result",
          "data": {
            "text/plain": [
              "96.7432353798328"
            ]
          },
          "metadata": {},
          "execution_count": 144
        }
      ]
    },
    {
      "cell_type": "code",
      "source": [
        "pvalue#, df, expected "
      ],
      "metadata": {
        "colab": {
          "base_uri": "https://localhost:8080/"
        },
        "id": "KI-88VhrG0Nm",
        "outputId": "288d4c91-e32c-4ab4-94d8-98b21b7e844d"
      },
      "execution_count": null,
      "outputs": [
        {
          "output_type": "execute_result",
          "data": {
            "text/plain": [
              "4.852334301093838e-20"
            ]
          },
          "metadata": {},
          "execution_count": 145
        }
      ]
    },
    {
      "cell_type": "code",
      "source": [
        "if pvalue > alpha:\n",
        "  print(\"The p-value is larger than alpha.\")\n",
        "else:\n",
        "  print(\"The p-value is smaller than alpha.\")"
      ],
      "metadata": {
        "colab": {
          "base_uri": "https://localhost:8080/"
        },
        "id": "YDFB2QXKHIS2",
        "outputId": "42fedc4c-e8bb-48a2-ea7e-a0835cf35182"
      },
      "execution_count": null,
      "outputs": [
        {
          "output_type": "stream",
          "name": "stdout",
          "text": [
            "The p-value is smaller than alpha.\n"
          ]
        }
      ]
    },
    {
      "cell_type": "markdown",
      "source": [
        "Since the p-value is lesser than alpha, we reject the Null Hypothesis."
      ],
      "metadata": {
        "id": "TjCTHupxHejB"
      }
    },
    {
      "cell_type": "code",
      "source": [
        "# Observed results without INTERACT\n",
        "Click = [clicks_connect_ver2,clicks_learn_ver3,clicks_help_ver4,clicks_services_ver5]\n",
        "No_click = [noclicks_connect_ver2,noclicks_learn_ver3,noclicks_help_ver4,noclicks_services_ver5]\n",
        "\n",
        "# Display the data in the form of a contingency table\n",
        "observed1 = pd.DataFrame([Click, No_click],\n",
        "                         columns = [\"Connect\", \"Learn\",\"Help\",\"Services\"],\n",
        "                          index = [\"Click\", \"No-click\"])\n",
        "observed1"
      ],
      "metadata": {
        "colab": {
          "base_uri": "https://localhost:8080/",
          "height": 112
        },
        "id": "ISBJlUfmINA_",
        "outputId": "32302190-9829-48d9-86ab-0e1bff68750b"
      },
      "execution_count": null,
      "outputs": [
        {
          "output_type": "execute_result",
          "data": {
            "text/plain": [
              "          Connect  Learn  Help  Services\n",
              "Click          53     21    38        45\n",
              "No-click     2689   2726  3142      2019"
            ],
            "text/html": [
              "\n",
              "  <div id=\"df-be7aa3eb-876d-4b2a-9391-cbb97d06545b\">\n",
              "    <div class=\"colab-df-container\">\n",
              "      <div>\n",
              "<style scoped>\n",
              "    .dataframe tbody tr th:only-of-type {\n",
              "        vertical-align: middle;\n",
              "    }\n",
              "\n",
              "    .dataframe tbody tr th {\n",
              "        vertical-align: top;\n",
              "    }\n",
              "\n",
              "    .dataframe thead th {\n",
              "        text-align: right;\n",
              "    }\n",
              "</style>\n",
              "<table border=\"1\" class=\"dataframe\">\n",
              "  <thead>\n",
              "    <tr style=\"text-align: right;\">\n",
              "      <th></th>\n",
              "      <th>Connect</th>\n",
              "      <th>Learn</th>\n",
              "      <th>Help</th>\n",
              "      <th>Services</th>\n",
              "    </tr>\n",
              "  </thead>\n",
              "  <tbody>\n",
              "    <tr>\n",
              "      <th>Click</th>\n",
              "      <td>53</td>\n",
              "      <td>21</td>\n",
              "      <td>38</td>\n",
              "      <td>45</td>\n",
              "    </tr>\n",
              "    <tr>\n",
              "      <th>No-click</th>\n",
              "      <td>2689</td>\n",
              "      <td>2726</td>\n",
              "      <td>3142</td>\n",
              "      <td>2019</td>\n",
              "    </tr>\n",
              "  </tbody>\n",
              "</table>\n",
              "</div>\n",
              "      <button class=\"colab-df-convert\" onclick=\"convertToInteractive('df-be7aa3eb-876d-4b2a-9391-cbb97d06545b')\"\n",
              "              title=\"Convert this dataframe to an interactive table.\"\n",
              "              style=\"display:none;\">\n",
              "        \n",
              "  <svg xmlns=\"http://www.w3.org/2000/svg\" height=\"24px\"viewBox=\"0 0 24 24\"\n",
              "       width=\"24px\">\n",
              "    <path d=\"M0 0h24v24H0V0z\" fill=\"none\"/>\n",
              "    <path d=\"M18.56 5.44l.94 2.06.94-2.06 2.06-.94-2.06-.94-.94-2.06-.94 2.06-2.06.94zm-11 1L8.5 8.5l.94-2.06 2.06-.94-2.06-.94L8.5 2.5l-.94 2.06-2.06.94zm10 10l.94 2.06.94-2.06 2.06-.94-2.06-.94-.94-2.06-.94 2.06-2.06.94z\"/><path d=\"M17.41 7.96l-1.37-1.37c-.4-.4-.92-.59-1.43-.59-.52 0-1.04.2-1.43.59L10.3 9.45l-7.72 7.72c-.78.78-.78 2.05 0 2.83L4 21.41c.39.39.9.59 1.41.59.51 0 1.02-.2 1.41-.59l7.78-7.78 2.81-2.81c.8-.78.8-2.07 0-2.86zM5.41 20L4 18.59l7.72-7.72 1.47 1.35L5.41 20z\"/>\n",
              "  </svg>\n",
              "      </button>\n",
              "      \n",
              "  <style>\n",
              "    .colab-df-container {\n",
              "      display:flex;\n",
              "      flex-wrap:wrap;\n",
              "      gap: 12px;\n",
              "    }\n",
              "\n",
              "    .colab-df-convert {\n",
              "      background-color: #E8F0FE;\n",
              "      border: none;\n",
              "      border-radius: 50%;\n",
              "      cursor: pointer;\n",
              "      display: none;\n",
              "      fill: #1967D2;\n",
              "      height: 32px;\n",
              "      padding: 0 0 0 0;\n",
              "      width: 32px;\n",
              "    }\n",
              "\n",
              "    .colab-df-convert:hover {\n",
              "      background-color: #E2EBFA;\n",
              "      box-shadow: 0px 1px 2px rgba(60, 64, 67, 0.3), 0px 1px 3px 1px rgba(60, 64, 67, 0.15);\n",
              "      fill: #174EA6;\n",
              "    }\n",
              "\n",
              "    [theme=dark] .colab-df-convert {\n",
              "      background-color: #3B4455;\n",
              "      fill: #D2E3FC;\n",
              "    }\n",
              "\n",
              "    [theme=dark] .colab-df-convert:hover {\n",
              "      background-color: #434B5C;\n",
              "      box-shadow: 0px 1px 3px 1px rgba(0, 0, 0, 0.15);\n",
              "      filter: drop-shadow(0px 1px 2px rgba(0, 0, 0, 0.3));\n",
              "      fill: #FFFFFF;\n",
              "    }\n",
              "  </style>\n",
              "\n",
              "      <script>\n",
              "        const buttonEl =\n",
              "          document.querySelector('#df-be7aa3eb-876d-4b2a-9391-cbb97d06545b button.colab-df-convert');\n",
              "        buttonEl.style.display =\n",
              "          google.colab.kernel.accessAllowed ? 'block' : 'none';\n",
              "\n",
              "        async function convertToInteractive(key) {\n",
              "          const element = document.querySelector('#df-be7aa3eb-876d-4b2a-9391-cbb97d06545b');\n",
              "          const dataTable =\n",
              "            await google.colab.kernel.invokeFunction('convertToInteractive',\n",
              "                                                     [key], {});\n",
              "          if (!dataTable) return;\n",
              "\n",
              "          const docLinkHtml = 'Like what you see? Visit the ' +\n",
              "            '<a target=\"_blank\" href=https://colab.research.google.com/notebooks/data_table.ipynb>data table notebook</a>'\n",
              "            + ' to learn more about interactive tables.';\n",
              "          element.innerHTML = '';\n",
              "          dataTable['output_type'] = 'display_data';\n",
              "          await google.colab.output.renderOutput(dataTable, element);\n",
              "          const docLink = document.createElement('div');\n",
              "          docLink.innerHTML = docLinkHtml;\n",
              "          element.appendChild(docLink);\n",
              "        }\n",
              "      </script>\n",
              "    </div>\n",
              "  </div>\n",
              "  "
            ]
          },
          "metadata": {},
          "execution_count": 146
        }
      ]
    },
    {
      "cell_type": "code",
      "source": [
        "chisq, pvalue, df, expected = chi2_contingency(observed1)\n",
        "chisq,pvalue #lesser P_value than alpha still reject Null hypothesis"
      ],
      "metadata": {
        "colab": {
          "base_uri": "https://localhost:8080/"
        },
        "id": "MJW_IHjbNgAN",
        "outputId": "7aace268-c2c0-4c6d-f8ed-7533fd2d71cb"
      },
      "execution_count": null,
      "outputs": [
        {
          "output_type": "execute_result",
          "data": {
            "text/plain": [
              "(22.450979530401828, 5.25509870228566e-05)"
            ]
          },
          "metadata": {},
          "execution_count": 148
        }
      ]
    },
    {
      "cell_type": "code",
      "source": [
        "# Observed results without Learn\n",
        "Click = [clicks_interact_ver1,clicks_connect_ver2,clicks_help_ver4,clicks_services_ver5]\n",
        "No_click = [noclicks_interact_ver1,noclicks_connect_ver2,noclicks_help_ver4,noclicks_services_ver5]\n",
        "\n",
        "# Display the data in the form of a contingency table\n",
        "observed2 = pd.DataFrame([Click, No_click],\n",
        "                         columns = [\"Interact\",\"Connect\",\"Help\",\"Services\"],\n",
        "                          index = [\"Click\", \"No-click\"])\n",
        "observed2"
      ],
      "metadata": {
        "colab": {
          "base_uri": "https://localhost:8080/",
          "height": 112
        },
        "id": "zgmFyi2JIwMB",
        "outputId": "cd8ff008-aea6-4548-b699-6225a65f6c90"
      },
      "execution_count": null,
      "outputs": [
        {
          "output_type": "execute_result",
          "data": {
            "text/plain": [
              "          Interact  Connect  Help  Services\n",
              "Click           42       53    38        45\n",
              "No-click     10241     2689  3142      2019"
            ],
            "text/html": [
              "\n",
              "  <div id=\"df-6c6cf7a3-c22c-42cb-ab41-b5cfa4e891ed\">\n",
              "    <div class=\"colab-df-container\">\n",
              "      <div>\n",
              "<style scoped>\n",
              "    .dataframe tbody tr th:only-of-type {\n",
              "        vertical-align: middle;\n",
              "    }\n",
              "\n",
              "    .dataframe tbody tr th {\n",
              "        vertical-align: top;\n",
              "    }\n",
              "\n",
              "    .dataframe thead th {\n",
              "        text-align: right;\n",
              "    }\n",
              "</style>\n",
              "<table border=\"1\" class=\"dataframe\">\n",
              "  <thead>\n",
              "    <tr style=\"text-align: right;\">\n",
              "      <th></th>\n",
              "      <th>Interact</th>\n",
              "      <th>Connect</th>\n",
              "      <th>Help</th>\n",
              "      <th>Services</th>\n",
              "    </tr>\n",
              "  </thead>\n",
              "  <tbody>\n",
              "    <tr>\n",
              "      <th>Click</th>\n",
              "      <td>42</td>\n",
              "      <td>53</td>\n",
              "      <td>38</td>\n",
              "      <td>45</td>\n",
              "    </tr>\n",
              "    <tr>\n",
              "      <th>No-click</th>\n",
              "      <td>10241</td>\n",
              "      <td>2689</td>\n",
              "      <td>3142</td>\n",
              "      <td>2019</td>\n",
              "    </tr>\n",
              "  </tbody>\n",
              "</table>\n",
              "</div>\n",
              "      <button class=\"colab-df-convert\" onclick=\"convertToInteractive('df-6c6cf7a3-c22c-42cb-ab41-b5cfa4e891ed')\"\n",
              "              title=\"Convert this dataframe to an interactive table.\"\n",
              "              style=\"display:none;\">\n",
              "        \n",
              "  <svg xmlns=\"http://www.w3.org/2000/svg\" height=\"24px\"viewBox=\"0 0 24 24\"\n",
              "       width=\"24px\">\n",
              "    <path d=\"M0 0h24v24H0V0z\" fill=\"none\"/>\n",
              "    <path d=\"M18.56 5.44l.94 2.06.94-2.06 2.06-.94-2.06-.94-.94-2.06-.94 2.06-2.06.94zm-11 1L8.5 8.5l.94-2.06 2.06-.94-2.06-.94L8.5 2.5l-.94 2.06-2.06.94zm10 10l.94 2.06.94-2.06 2.06-.94-2.06-.94-.94-2.06-.94 2.06-2.06.94z\"/><path d=\"M17.41 7.96l-1.37-1.37c-.4-.4-.92-.59-1.43-.59-.52 0-1.04.2-1.43.59L10.3 9.45l-7.72 7.72c-.78.78-.78 2.05 0 2.83L4 21.41c.39.39.9.59 1.41.59.51 0 1.02-.2 1.41-.59l7.78-7.78 2.81-2.81c.8-.78.8-2.07 0-2.86zM5.41 20L4 18.59l7.72-7.72 1.47 1.35L5.41 20z\"/>\n",
              "  </svg>\n",
              "      </button>\n",
              "      \n",
              "  <style>\n",
              "    .colab-df-container {\n",
              "      display:flex;\n",
              "      flex-wrap:wrap;\n",
              "      gap: 12px;\n",
              "    }\n",
              "\n",
              "    .colab-df-convert {\n",
              "      background-color: #E8F0FE;\n",
              "      border: none;\n",
              "      border-radius: 50%;\n",
              "      cursor: pointer;\n",
              "      display: none;\n",
              "      fill: #1967D2;\n",
              "      height: 32px;\n",
              "      padding: 0 0 0 0;\n",
              "      width: 32px;\n",
              "    }\n",
              "\n",
              "    .colab-df-convert:hover {\n",
              "      background-color: #E2EBFA;\n",
              "      box-shadow: 0px 1px 2px rgba(60, 64, 67, 0.3), 0px 1px 3px 1px rgba(60, 64, 67, 0.15);\n",
              "      fill: #174EA6;\n",
              "    }\n",
              "\n",
              "    [theme=dark] .colab-df-convert {\n",
              "      background-color: #3B4455;\n",
              "      fill: #D2E3FC;\n",
              "    }\n",
              "\n",
              "    [theme=dark] .colab-df-convert:hover {\n",
              "      background-color: #434B5C;\n",
              "      box-shadow: 0px 1px 3px 1px rgba(0, 0, 0, 0.15);\n",
              "      filter: drop-shadow(0px 1px 2px rgba(0, 0, 0, 0.3));\n",
              "      fill: #FFFFFF;\n",
              "    }\n",
              "  </style>\n",
              "\n",
              "      <script>\n",
              "        const buttonEl =\n",
              "          document.querySelector('#df-6c6cf7a3-c22c-42cb-ab41-b5cfa4e891ed button.colab-df-convert');\n",
              "        buttonEl.style.display =\n",
              "          google.colab.kernel.accessAllowed ? 'block' : 'none';\n",
              "\n",
              "        async function convertToInteractive(key) {\n",
              "          const element = document.querySelector('#df-6c6cf7a3-c22c-42cb-ab41-b5cfa4e891ed');\n",
              "          const dataTable =\n",
              "            await google.colab.kernel.invokeFunction('convertToInteractive',\n",
              "                                                     [key], {});\n",
              "          if (!dataTable) return;\n",
              "\n",
              "          const docLinkHtml = 'Like what you see? Visit the ' +\n",
              "            '<a target=\"_blank\" href=https://colab.research.google.com/notebooks/data_table.ipynb>data table notebook</a>'\n",
              "            + ' to learn more about interactive tables.';\n",
              "          element.innerHTML = '';\n",
              "          dataTable['output_type'] = 'display_data';\n",
              "          await google.colab.output.renderOutput(dataTable, element);\n",
              "          const docLink = document.createElement('div');\n",
              "          docLink.innerHTML = docLinkHtml;\n",
              "          element.appendChild(docLink);\n",
              "        }\n",
              "      </script>\n",
              "    </div>\n",
              "  </div>\n",
              "  "
            ]
          },
          "metadata": {},
          "execution_count": 149
        }
      ]
    },
    {
      "cell_type": "code",
      "source": [
        "chisq, pvalue, df, expected = chi2_contingency(observed2)\n",
        "chisq,pvalue # value  < 1 reject Null hypothesis"
      ],
      "metadata": {
        "colab": {
          "base_uri": "https://localhost:8080/"
        },
        "id": "qt0g-sB9If72",
        "outputId": "2d9b1d14-3c76-4867-81f9-4d8acba177b6"
      },
      "execution_count": null,
      "outputs": [
        {
          "output_type": "execute_result",
          "data": {
            "text/plain": [
              "(92.95565863559828, 5.0770574600506383e-20)"
            ]
          },
          "metadata": {},
          "execution_count": 151
        }
      ]
    },
    {
      "cell_type": "code",
      "source": [
        "# Observed results without Learn and Interact\n",
        "Click = [clicks_connect_ver2,clicks_help_ver4,clicks_services_ver5]\n",
        "No_click = [noclicks_connect_ver2,noclicks_help_ver4,noclicks_services_ver5]\n",
        "\n",
        "# Display the data in the form of a contingency table\n",
        "observed3 = pd.DataFrame([Click, No_click],\n",
        "                         columns = [\"Connect\",\"Help\",\"Services\"],\n",
        "                          index = [\"Click\", \"No-click\"])\n",
        "observed3"
      ],
      "metadata": {
        "colab": {
          "base_uri": "https://localhost:8080/",
          "height": 112
        },
        "id": "oIT4vksPJa9P",
        "outputId": "049f1bac-055e-4c7f-c729-c2d442bdc93b"
      },
      "execution_count": null,
      "outputs": [
        {
          "output_type": "execute_result",
          "data": {
            "text/plain": [
              "          Connect  Help  Services\n",
              "Click          53    38        45\n",
              "No-click     2689  3142      2019"
            ],
            "text/html": [
              "\n",
              "  <div id=\"df-3a3e22a5-1691-4aa5-98aa-ff9e56a23f3b\">\n",
              "    <div class=\"colab-df-container\">\n",
              "      <div>\n",
              "<style scoped>\n",
              "    .dataframe tbody tr th:only-of-type {\n",
              "        vertical-align: middle;\n",
              "    }\n",
              "\n",
              "    .dataframe tbody tr th {\n",
              "        vertical-align: top;\n",
              "    }\n",
              "\n",
              "    .dataframe thead th {\n",
              "        text-align: right;\n",
              "    }\n",
              "</style>\n",
              "<table border=\"1\" class=\"dataframe\">\n",
              "  <thead>\n",
              "    <tr style=\"text-align: right;\">\n",
              "      <th></th>\n",
              "      <th>Connect</th>\n",
              "      <th>Help</th>\n",
              "      <th>Services</th>\n",
              "    </tr>\n",
              "  </thead>\n",
              "  <tbody>\n",
              "    <tr>\n",
              "      <th>Click</th>\n",
              "      <td>53</td>\n",
              "      <td>38</td>\n",
              "      <td>45</td>\n",
              "    </tr>\n",
              "    <tr>\n",
              "      <th>No-click</th>\n",
              "      <td>2689</td>\n",
              "      <td>3142</td>\n",
              "      <td>2019</td>\n",
              "    </tr>\n",
              "  </tbody>\n",
              "</table>\n",
              "</div>\n",
              "      <button class=\"colab-df-convert\" onclick=\"convertToInteractive('df-3a3e22a5-1691-4aa5-98aa-ff9e56a23f3b')\"\n",
              "              title=\"Convert this dataframe to an interactive table.\"\n",
              "              style=\"display:none;\">\n",
              "        \n",
              "  <svg xmlns=\"http://www.w3.org/2000/svg\" height=\"24px\"viewBox=\"0 0 24 24\"\n",
              "       width=\"24px\">\n",
              "    <path d=\"M0 0h24v24H0V0z\" fill=\"none\"/>\n",
              "    <path d=\"M18.56 5.44l.94 2.06.94-2.06 2.06-.94-2.06-.94-.94-2.06-.94 2.06-2.06.94zm-11 1L8.5 8.5l.94-2.06 2.06-.94-2.06-.94L8.5 2.5l-.94 2.06-2.06.94zm10 10l.94 2.06.94-2.06 2.06-.94-2.06-.94-.94-2.06-.94 2.06-2.06.94z\"/><path d=\"M17.41 7.96l-1.37-1.37c-.4-.4-.92-.59-1.43-.59-.52 0-1.04.2-1.43.59L10.3 9.45l-7.72 7.72c-.78.78-.78 2.05 0 2.83L4 21.41c.39.39.9.59 1.41.59.51 0 1.02-.2 1.41-.59l7.78-7.78 2.81-2.81c.8-.78.8-2.07 0-2.86zM5.41 20L4 18.59l7.72-7.72 1.47 1.35L5.41 20z\"/>\n",
              "  </svg>\n",
              "      </button>\n",
              "      \n",
              "  <style>\n",
              "    .colab-df-container {\n",
              "      display:flex;\n",
              "      flex-wrap:wrap;\n",
              "      gap: 12px;\n",
              "    }\n",
              "\n",
              "    .colab-df-convert {\n",
              "      background-color: #E8F0FE;\n",
              "      border: none;\n",
              "      border-radius: 50%;\n",
              "      cursor: pointer;\n",
              "      display: none;\n",
              "      fill: #1967D2;\n",
              "      height: 32px;\n",
              "      padding: 0 0 0 0;\n",
              "      width: 32px;\n",
              "    }\n",
              "\n",
              "    .colab-df-convert:hover {\n",
              "      background-color: #E2EBFA;\n",
              "      box-shadow: 0px 1px 2px rgba(60, 64, 67, 0.3), 0px 1px 3px 1px rgba(60, 64, 67, 0.15);\n",
              "      fill: #174EA6;\n",
              "    }\n",
              "\n",
              "    [theme=dark] .colab-df-convert {\n",
              "      background-color: #3B4455;\n",
              "      fill: #D2E3FC;\n",
              "    }\n",
              "\n",
              "    [theme=dark] .colab-df-convert:hover {\n",
              "      background-color: #434B5C;\n",
              "      box-shadow: 0px 1px 3px 1px rgba(0, 0, 0, 0.15);\n",
              "      filter: drop-shadow(0px 1px 2px rgba(0, 0, 0, 0.3));\n",
              "      fill: #FFFFFF;\n",
              "    }\n",
              "  </style>\n",
              "\n",
              "      <script>\n",
              "        const buttonEl =\n",
              "          document.querySelector('#df-3a3e22a5-1691-4aa5-98aa-ff9e56a23f3b button.colab-df-convert');\n",
              "        buttonEl.style.display =\n",
              "          google.colab.kernel.accessAllowed ? 'block' : 'none';\n",
              "\n",
              "        async function convertToInteractive(key) {\n",
              "          const element = document.querySelector('#df-3a3e22a5-1691-4aa5-98aa-ff9e56a23f3b');\n",
              "          const dataTable =\n",
              "            await google.colab.kernel.invokeFunction('convertToInteractive',\n",
              "                                                     [key], {});\n",
              "          if (!dataTable) return;\n",
              "\n",
              "          const docLinkHtml = 'Like what you see? Visit the ' +\n",
              "            '<a target=\"_blank\" href=https://colab.research.google.com/notebooks/data_table.ipynb>data table notebook</a>'\n",
              "            + ' to learn more about interactive tables.';\n",
              "          element.innerHTML = '';\n",
              "          dataTable['output_type'] = 'display_data';\n",
              "          await google.colab.output.renderOutput(dataTable, element);\n",
              "          const docLink = document.createElement('div');\n",
              "          docLink.innerHTML = docLinkHtml;\n",
              "          element.appendChild(docLink);\n",
              "        }\n",
              "      </script>\n",
              "    </div>\n",
              "  </div>\n",
              "  "
            ]
          },
          "metadata": {},
          "execution_count": 152
        }
      ]
    },
    {
      "cell_type": "code",
      "source": [
        "chisq, pvalue, df, expected = chi2_contingency(observed3)\n",
        "chisq,pvalue # value < alpha reject Null hypothesis"
      ],
      "metadata": {
        "colab": {
          "base_uri": "https://localhost:8080/"
        },
        "id": "cONAN7mmJqBO",
        "outputId": "71475f46-ec2d-4ecc-dca0-770c86677c66"
      },
      "execution_count": null,
      "outputs": [
        {
          "output_type": "execute_result",
          "data": {
            "text/plain": [
              "(8.57683071094785, 0.013726659948517513)"
            ]
          },
          "metadata": {},
          "execution_count": 153
        }
      ]
    },
    {
      "cell_type": "code",
      "source": [
        "# Observed results without Learn and Help,Interact\n",
        "Click = [clicks_connect_ver2,clicks_services_ver5]\n",
        "No_click = [noclicks_connect_ver2,noclicks_services_ver5]\n",
        "\n",
        "# Display the data in the form of a contingency table\n",
        "observed4 = pd.DataFrame([Click, No_click],\n",
        "                         columns = [\"Connect\",\"Services\"],\n",
        "                          index = [\"Click\", \"No-click\"])\n",
        "observed4"
      ],
      "metadata": {
        "colab": {
          "base_uri": "https://localhost:8080/",
          "height": 112
        },
        "id": "dBGY379iJyPc",
        "outputId": "5db2294b-51aa-4394-a5f6-170fd678a59f"
      },
      "execution_count": null,
      "outputs": [
        {
          "output_type": "execute_result",
          "data": {
            "text/plain": [
              "          Connect  Services\n",
              "Click          53        45\n",
              "No-click     2689      2019"
            ],
            "text/html": [
              "\n",
              "  <div id=\"df-21ab4431-103c-413d-809a-72cad1cd07dc\">\n",
              "    <div class=\"colab-df-container\">\n",
              "      <div>\n",
              "<style scoped>\n",
              "    .dataframe tbody tr th:only-of-type {\n",
              "        vertical-align: middle;\n",
              "    }\n",
              "\n",
              "    .dataframe tbody tr th {\n",
              "        vertical-align: top;\n",
              "    }\n",
              "\n",
              "    .dataframe thead th {\n",
              "        text-align: right;\n",
              "    }\n",
              "</style>\n",
              "<table border=\"1\" class=\"dataframe\">\n",
              "  <thead>\n",
              "    <tr style=\"text-align: right;\">\n",
              "      <th></th>\n",
              "      <th>Connect</th>\n",
              "      <th>Services</th>\n",
              "    </tr>\n",
              "  </thead>\n",
              "  <tbody>\n",
              "    <tr>\n",
              "      <th>Click</th>\n",
              "      <td>53</td>\n",
              "      <td>45</td>\n",
              "    </tr>\n",
              "    <tr>\n",
              "      <th>No-click</th>\n",
              "      <td>2689</td>\n",
              "      <td>2019</td>\n",
              "    </tr>\n",
              "  </tbody>\n",
              "</table>\n",
              "</div>\n",
              "      <button class=\"colab-df-convert\" onclick=\"convertToInteractive('df-21ab4431-103c-413d-809a-72cad1cd07dc')\"\n",
              "              title=\"Convert this dataframe to an interactive table.\"\n",
              "              style=\"display:none;\">\n",
              "        \n",
              "  <svg xmlns=\"http://www.w3.org/2000/svg\" height=\"24px\"viewBox=\"0 0 24 24\"\n",
              "       width=\"24px\">\n",
              "    <path d=\"M0 0h24v24H0V0z\" fill=\"none\"/>\n",
              "    <path d=\"M18.56 5.44l.94 2.06.94-2.06 2.06-.94-2.06-.94-.94-2.06-.94 2.06-2.06.94zm-11 1L8.5 8.5l.94-2.06 2.06-.94-2.06-.94L8.5 2.5l-.94 2.06-2.06.94zm10 10l.94 2.06.94-2.06 2.06-.94-2.06-.94-.94-2.06-.94 2.06-2.06.94z\"/><path d=\"M17.41 7.96l-1.37-1.37c-.4-.4-.92-.59-1.43-.59-.52 0-1.04.2-1.43.59L10.3 9.45l-7.72 7.72c-.78.78-.78 2.05 0 2.83L4 21.41c.39.39.9.59 1.41.59.51 0 1.02-.2 1.41-.59l7.78-7.78 2.81-2.81c.8-.78.8-2.07 0-2.86zM5.41 20L4 18.59l7.72-7.72 1.47 1.35L5.41 20z\"/>\n",
              "  </svg>\n",
              "      </button>\n",
              "      \n",
              "  <style>\n",
              "    .colab-df-container {\n",
              "      display:flex;\n",
              "      flex-wrap:wrap;\n",
              "      gap: 12px;\n",
              "    }\n",
              "\n",
              "    .colab-df-convert {\n",
              "      background-color: #E8F0FE;\n",
              "      border: none;\n",
              "      border-radius: 50%;\n",
              "      cursor: pointer;\n",
              "      display: none;\n",
              "      fill: #1967D2;\n",
              "      height: 32px;\n",
              "      padding: 0 0 0 0;\n",
              "      width: 32px;\n",
              "    }\n",
              "\n",
              "    .colab-df-convert:hover {\n",
              "      background-color: #E2EBFA;\n",
              "      box-shadow: 0px 1px 2px rgba(60, 64, 67, 0.3), 0px 1px 3px 1px rgba(60, 64, 67, 0.15);\n",
              "      fill: #174EA6;\n",
              "    }\n",
              "\n",
              "    [theme=dark] .colab-df-convert {\n",
              "      background-color: #3B4455;\n",
              "      fill: #D2E3FC;\n",
              "    }\n",
              "\n",
              "    [theme=dark] .colab-df-convert:hover {\n",
              "      background-color: #434B5C;\n",
              "      box-shadow: 0px 1px 3px 1px rgba(0, 0, 0, 0.15);\n",
              "      filter: drop-shadow(0px 1px 2px rgba(0, 0, 0, 0.3));\n",
              "      fill: #FFFFFF;\n",
              "    }\n",
              "  </style>\n",
              "\n",
              "      <script>\n",
              "        const buttonEl =\n",
              "          document.querySelector('#df-21ab4431-103c-413d-809a-72cad1cd07dc button.colab-df-convert');\n",
              "        buttonEl.style.display =\n",
              "          google.colab.kernel.accessAllowed ? 'block' : 'none';\n",
              "\n",
              "        async function convertToInteractive(key) {\n",
              "          const element = document.querySelector('#df-21ab4431-103c-413d-809a-72cad1cd07dc');\n",
              "          const dataTable =\n",
              "            await google.colab.kernel.invokeFunction('convertToInteractive',\n",
              "                                                     [key], {});\n",
              "          if (!dataTable) return;\n",
              "\n",
              "          const docLinkHtml = 'Like what you see? Visit the ' +\n",
              "            '<a target=\"_blank\" href=https://colab.research.google.com/notebooks/data_table.ipynb>data table notebook</a>'\n",
              "            + ' to learn more about interactive tables.';\n",
              "          element.innerHTML = '';\n",
              "          dataTable['output_type'] = 'display_data';\n",
              "          await google.colab.output.renderOutput(dataTable, element);\n",
              "          const docLink = document.createElement('div');\n",
              "          docLink.innerHTML = docLinkHtml;\n",
              "          element.appendChild(docLink);\n",
              "        }\n",
              "      </script>\n",
              "    </div>\n",
              "  </div>\n",
              "  "
            ]
          },
          "metadata": {},
          "execution_count": 154
        }
      ]
    },
    {
      "cell_type": "code",
      "source": [
        "chisq, pvalue, df, expected = chi2_contingency(observed4)\n",
        "chisq,pvalue # pvalue is greater than alpha accept the null hypothesis"
      ],
      "metadata": {
        "colab": {
          "base_uri": "https://localhost:8080/"
        },
        "id": "dn8BFxPJKH2n",
        "outputId": "b46eca95-136f-435f-969a-ce7c5d677056"
      },
      "execution_count": null,
      "outputs": [
        {
          "output_type": "execute_result",
          "data": {
            "text/plain": [
              "(0.24744894078894586, 0.6188771123975272)"
            ]
          },
          "metadata": {},
          "execution_count": 155
        }
      ]
    },
    {
      "cell_type": "code",
      "source": [
        "if pvalue > alpha:\n",
        "  print(\"The p-value is larger than alpha.\")\n",
        "else:\n",
        "  print(\"The p-value is smaller than alpha.\")"
      ],
      "metadata": {
        "colab": {
          "base_uri": "https://localhost:8080/"
        },
        "id": "qmxfQ8FuFjQe",
        "outputId": "9155477e-a3aa-40d4-ff9c-de8974107452"
      },
      "execution_count": null,
      "outputs": [
        {
          "output_type": "stream",
          "name": "stdout",
          "text": [
            "The p-value is larger than alpha.\n"
          ]
        }
      ]
    },
    {
      "cell_type": "markdown",
      "source": [
        "Accept the Null Hypothesis.There is no significant differnce between Connect and Services."
      ],
      "metadata": {
        "id": "LXFdt-AeGGW4"
      }
    },
    {
      "cell_type": "code",
      "source": [
        "# Comparing the expected and actual clicks\n",
        "Exp_clicks = [exp_clicks_ver1,exp_clicks_ver2,exp_clicks_ver3,exp_clicks_ver4,exp_clicks_ver5]\n",
        "Act_clicks = [clicks_interact_ver1,clicks_connect_ver2,clicks_learn_ver3,clicks_help_ver4,clicks_services_ver5]\n",
        "Per_clicks=[per_interact_click,per_connect_click,per_learn_click,per_help_click,per_services_click]\n",
        "Ctr_rate=[ctr_ver1,ctr_ver2,ctr_ver3,ctr_ver4,ctr_ver5]\n",
        "# Display the data in the form of a contingency table\n",
        "expected_actual= pd.DataFrame([Act_clicks, Exp_clicks,Per_clicks,Ctr_rate],\n",
        "                         columns = [\"Interact\", \"Connect\", \"Learn\",\"Help\",\"Services\"],\n",
        "                          index = [\"Act_clicks\", \"Exp_clicks\",\"Per_clicks\",\"Ctr_rate\"])\n",
        "expected_actual\n",
        "\n"
      ],
      "metadata": {
        "colab": {
          "base_uri": "https://localhost:8080/",
          "height": 174
        },
        "id": "Xv-myvT1Ilfn",
        "outputId": "8a80a0ff-a2e6-48cf-c5fb-16f1d0ce1a12"
      },
      "execution_count": null,
      "outputs": [
        {
          "output_type": "execute_result",
          "data": {
            "text/plain": [
              "               Interact     Connect       Learn        Help    Services\n",
              "Act_clicks    42.000000   53.000000   21.000000   38.000000   45.000000\n",
              "Exp_clicks  3247.000000  823.000000  824.000000  954.000000  619.000000\n",
              "Per_clicks     0.408441    1.932896    0.764470    1.194969    2.180233\n",
              "Ctr_rate       0.004084    0.019329    0.007645    0.011950    0.021802"
            ],
            "text/html": [
              "\n",
              "  <div id=\"df-4dbb7081-b1a5-469c-af5f-f2b1ca4d8873\">\n",
              "    <div class=\"colab-df-container\">\n",
              "      <div>\n",
              "<style scoped>\n",
              "    .dataframe tbody tr th:only-of-type {\n",
              "        vertical-align: middle;\n",
              "    }\n",
              "\n",
              "    .dataframe tbody tr th {\n",
              "        vertical-align: top;\n",
              "    }\n",
              "\n",
              "    .dataframe thead th {\n",
              "        text-align: right;\n",
              "    }\n",
              "</style>\n",
              "<table border=\"1\" class=\"dataframe\">\n",
              "  <thead>\n",
              "    <tr style=\"text-align: right;\">\n",
              "      <th></th>\n",
              "      <th>Interact</th>\n",
              "      <th>Connect</th>\n",
              "      <th>Learn</th>\n",
              "      <th>Help</th>\n",
              "      <th>Services</th>\n",
              "    </tr>\n",
              "  </thead>\n",
              "  <tbody>\n",
              "    <tr>\n",
              "      <th>Act_clicks</th>\n",
              "      <td>42.000000</td>\n",
              "      <td>53.000000</td>\n",
              "      <td>21.000000</td>\n",
              "      <td>38.000000</td>\n",
              "      <td>45.000000</td>\n",
              "    </tr>\n",
              "    <tr>\n",
              "      <th>Exp_clicks</th>\n",
              "      <td>3247.000000</td>\n",
              "      <td>823.000000</td>\n",
              "      <td>824.000000</td>\n",
              "      <td>954.000000</td>\n",
              "      <td>619.000000</td>\n",
              "    </tr>\n",
              "    <tr>\n",
              "      <th>Per_clicks</th>\n",
              "      <td>0.408441</td>\n",
              "      <td>1.932896</td>\n",
              "      <td>0.764470</td>\n",
              "      <td>1.194969</td>\n",
              "      <td>2.180233</td>\n",
              "    </tr>\n",
              "    <tr>\n",
              "      <th>Ctr_rate</th>\n",
              "      <td>0.004084</td>\n",
              "      <td>0.019329</td>\n",
              "      <td>0.007645</td>\n",
              "      <td>0.011950</td>\n",
              "      <td>0.021802</td>\n",
              "    </tr>\n",
              "  </tbody>\n",
              "</table>\n",
              "</div>\n",
              "      <button class=\"colab-df-convert\" onclick=\"convertToInteractive('df-4dbb7081-b1a5-469c-af5f-f2b1ca4d8873')\"\n",
              "              title=\"Convert this dataframe to an interactive table.\"\n",
              "              style=\"display:none;\">\n",
              "        \n",
              "  <svg xmlns=\"http://www.w3.org/2000/svg\" height=\"24px\"viewBox=\"0 0 24 24\"\n",
              "       width=\"24px\">\n",
              "    <path d=\"M0 0h24v24H0V0z\" fill=\"none\"/>\n",
              "    <path d=\"M18.56 5.44l.94 2.06.94-2.06 2.06-.94-2.06-.94-.94-2.06-.94 2.06-2.06.94zm-11 1L8.5 8.5l.94-2.06 2.06-.94-2.06-.94L8.5 2.5l-.94 2.06-2.06.94zm10 10l.94 2.06.94-2.06 2.06-.94-2.06-.94-.94-2.06-.94 2.06-2.06.94z\"/><path d=\"M17.41 7.96l-1.37-1.37c-.4-.4-.92-.59-1.43-.59-.52 0-1.04.2-1.43.59L10.3 9.45l-7.72 7.72c-.78.78-.78 2.05 0 2.83L4 21.41c.39.39.9.59 1.41.59.51 0 1.02-.2 1.41-.59l7.78-7.78 2.81-2.81c.8-.78.8-2.07 0-2.86zM5.41 20L4 18.59l7.72-7.72 1.47 1.35L5.41 20z\"/>\n",
              "  </svg>\n",
              "      </button>\n",
              "      \n",
              "  <style>\n",
              "    .colab-df-container {\n",
              "      display:flex;\n",
              "      flex-wrap:wrap;\n",
              "      gap: 12px;\n",
              "    }\n",
              "\n",
              "    .colab-df-convert {\n",
              "      background-color: #E8F0FE;\n",
              "      border: none;\n",
              "      border-radius: 50%;\n",
              "      cursor: pointer;\n",
              "      display: none;\n",
              "      fill: #1967D2;\n",
              "      height: 32px;\n",
              "      padding: 0 0 0 0;\n",
              "      width: 32px;\n",
              "    }\n",
              "\n",
              "    .colab-df-convert:hover {\n",
              "      background-color: #E2EBFA;\n",
              "      box-shadow: 0px 1px 2px rgba(60, 64, 67, 0.3), 0px 1px 3px 1px rgba(60, 64, 67, 0.15);\n",
              "      fill: #174EA6;\n",
              "    }\n",
              "\n",
              "    [theme=dark] .colab-df-convert {\n",
              "      background-color: #3B4455;\n",
              "      fill: #D2E3FC;\n",
              "    }\n",
              "\n",
              "    [theme=dark] .colab-df-convert:hover {\n",
              "      background-color: #434B5C;\n",
              "      box-shadow: 0px 1px 3px 1px rgba(0, 0, 0, 0.15);\n",
              "      filter: drop-shadow(0px 1px 2px rgba(0, 0, 0, 0.3));\n",
              "      fill: #FFFFFF;\n",
              "    }\n",
              "  </style>\n",
              "\n",
              "      <script>\n",
              "        const buttonEl =\n",
              "          document.querySelector('#df-4dbb7081-b1a5-469c-af5f-f2b1ca4d8873 button.colab-df-convert');\n",
              "        buttonEl.style.display =\n",
              "          google.colab.kernel.accessAllowed ? 'block' : 'none';\n",
              "\n",
              "        async function convertToInteractive(key) {\n",
              "          const element = document.querySelector('#df-4dbb7081-b1a5-469c-af5f-f2b1ca4d8873');\n",
              "          const dataTable =\n",
              "            await google.colab.kernel.invokeFunction('convertToInteractive',\n",
              "                                                     [key], {});\n",
              "          if (!dataTable) return;\n",
              "\n",
              "          const docLinkHtml = 'Like what you see? Visit the ' +\n",
              "            '<a target=\"_blank\" href=https://colab.research.google.com/notebooks/data_table.ipynb>data table notebook</a>'\n",
              "            + ' to learn more about interactive tables.';\n",
              "          element.innerHTML = '';\n",
              "          dataTable['output_type'] = 'display_data';\n",
              "          await google.colab.output.renderOutput(dataTable, element);\n",
              "          const docLink = document.createElement('div');\n",
              "          docLink.innerHTML = docLinkHtml;\n",
              "          element.appendChild(docLink);\n",
              "        }\n",
              "      </script>\n",
              "    </div>\n",
              "  </div>\n",
              "  "
            ]
          },
          "metadata": {},
          "execution_count": 135
        }
      ]
    },
    {
      "cell_type": "code",
      "source": [
        "expected_actual.loc[\"Ctr_rate\"].sort_values(ascending=False)"
      ],
      "metadata": {
        "colab": {
          "base_uri": "https://localhost:8080/"
        },
        "id": "acwUpZT_Sp_R",
        "outputId": "987665f7-9ac8-4e42-82f3-5d11d87aafc5"
      },
      "execution_count": null,
      "outputs": [
        {
          "output_type": "execute_result",
          "data": {
            "text/plain": [
              "Services    0.021802\n",
              "Connect     0.019329\n",
              "Help        0.011950\n",
              "Learn       0.007645\n",
              "Interact    0.004084\n",
              "Name: Ctr_rate, dtype: float64"
            ]
          },
          "metadata": {},
          "execution_count": 136
        }
      ]
    },
    {
      "cell_type": "markdown",
      "source": [
        "None of the buttons satisfied the 30% is evident from the above table.\n",
        "But percentage clicks of each button shows Services(highest 2.18%),followed by connect(1.93%)"
      ],
      "metadata": {
        "id": "n5rzdkfrM-Bh"
      }
    },
    {
      "cell_type": "markdown",
      "source": [
        " The drop off rate for Interact,Connect,Learn,Services is 10,6.2,3.1,0 respectively and the home page return rate Interact,Connect,Learn,Services is 21,8,7,0 respectively.Gives a clear vision that Services outperforms the other categories.\n",
        "Reasons to conclude as **Services** are:\n",
        "1.High percentage of Clicks -2.18%\n",
        "2.High CTR_rate-0.021\n",
        "3.Low Home page return -0\n",
        "But the drop off rate (0) insist us that services is not best . May be the users are expecting a different  information under this category.\n",
        "\n",
        "The next possible category is naturally **Connect**\n",
        "1.High percentage of Clicks -1.93%(lesser than original 2%)\n",
        "2.High CTR_rate-0.019\n",
        "3.High drop off rate-6.2\n",
        " Home page return -8(4.24 clicks)\n",
        " subtract from original (53-4)49 clicks .Still greater than services\n",
        "\n",
        "Winner- Connect\n",
        "Runner-services\n",
        "\n",
        "# P.S:Still need analyis to get the real picture"
      ],
      "metadata": {
        "id": "w71b3ss8PzgB"
      }
    }
  ]
}